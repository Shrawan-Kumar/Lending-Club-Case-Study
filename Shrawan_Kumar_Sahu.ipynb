{
 "cells": [
  {
   "cell_type": "code",
   "execution_count": 1,
   "metadata": {
    "execution": {
     "iopub.execute_input": "2021-07-21T13:53:01.002560Z",
     "iopub.status.busy": "2021-07-21T13:53:01.002131Z",
     "iopub.status.idle": "2021-07-21T13:53:01.011749Z",
     "shell.execute_reply": "2021-07-21T13:53:01.011036Z",
     "shell.execute_reply.started": "2021-07-21T13:53:01.002469Z"
    }
   },
   "outputs": [],
   "source": [
    "import pandas as pd\n",
    "import numpy as np"
   ]
  },
  {
   "cell_type": "code",
   "execution_count": 2,
   "metadata": {
    "execution": {
     "iopub.execute_input": "2021-07-21T13:53:01.013403Z",
     "iopub.status.busy": "2021-07-21T13:53:01.013021Z",
     "iopub.status.idle": "2021-07-21T13:53:01.998472Z",
     "shell.execute_reply": "2021-07-21T13:53:01.997187Z",
     "shell.execute_reply.started": "2021-07-21T13:53:01.013372Z"
    }
   },
   "outputs": [
    {
     "data": {
      "text/html": [
       "<div>\n",
       "<style scoped>\n",
       "    .dataframe tbody tr th:only-of-type {\n",
       "        vertical-align: middle;\n",
       "    }\n",
       "\n",
       "    .dataframe tbody tr th {\n",
       "        vertical-align: top;\n",
       "    }\n",
       "\n",
       "    .dataframe thead th {\n",
       "        text-align: right;\n",
       "    }\n",
       "</style>\n",
       "<table border=\"1\" class=\"dataframe\">\n",
       "  <thead>\n",
       "    <tr style=\"text-align: right;\">\n",
       "      <th></th>\n",
       "      <th>id</th>\n",
       "      <th>member_id</th>\n",
       "      <th>loan_amnt</th>\n",
       "      <th>funded_amnt</th>\n",
       "      <th>funded_amnt_inv</th>\n",
       "      <th>term</th>\n",
       "      <th>int_rate</th>\n",
       "      <th>installment</th>\n",
       "      <th>grade</th>\n",
       "      <th>sub_grade</th>\n",
       "      <th>...</th>\n",
       "      <th>num_tl_90g_dpd_24m</th>\n",
       "      <th>num_tl_op_past_12m</th>\n",
       "      <th>pct_tl_nvr_dlq</th>\n",
       "      <th>percent_bc_gt_75</th>\n",
       "      <th>pub_rec_bankruptcies</th>\n",
       "      <th>tax_liens</th>\n",
       "      <th>tot_hi_cred_lim</th>\n",
       "      <th>total_bal_ex_mort</th>\n",
       "      <th>total_bc_limit</th>\n",
       "      <th>total_il_high_credit_limit</th>\n",
       "    </tr>\n",
       "  </thead>\n",
       "  <tbody>\n",
       "    <tr>\n",
       "      <th>35473</th>\n",
       "      <td>435289</td>\n",
       "      <td>520047</td>\n",
       "      <td>6000</td>\n",
       "      <td>6000</td>\n",
       "      <td>6000.000000</td>\n",
       "      <td>36 months</td>\n",
       "      <td>17.04%</td>\n",
       "      <td>214.05</td>\n",
       "      <td>E</td>\n",
       "      <td>E3</td>\n",
       "      <td>...</td>\n",
       "      <td>NaN</td>\n",
       "      <td>NaN</td>\n",
       "      <td>NaN</td>\n",
       "      <td>NaN</td>\n",
       "      <td>0.0</td>\n",
       "      <td>0.0</td>\n",
       "      <td>NaN</td>\n",
       "      <td>NaN</td>\n",
       "      <td>NaN</td>\n",
       "      <td>NaN</td>\n",
       "    </tr>\n",
       "    <tr>\n",
       "      <th>7254</th>\n",
       "      <td>884267</td>\n",
       "      <td>1099625</td>\n",
       "      <td>10700</td>\n",
       "      <td>10700</td>\n",
       "      <td>10700.000000</td>\n",
       "      <td>36 months</td>\n",
       "      <td>14.27%</td>\n",
       "      <td>367.11</td>\n",
       "      <td>C</td>\n",
       "      <td>C2</td>\n",
       "      <td>...</td>\n",
       "      <td>NaN</td>\n",
       "      <td>NaN</td>\n",
       "      <td>NaN</td>\n",
       "      <td>NaN</td>\n",
       "      <td>0.0</td>\n",
       "      <td>0.0</td>\n",
       "      <td>NaN</td>\n",
       "      <td>NaN</td>\n",
       "      <td>NaN</td>\n",
       "      <td>NaN</td>\n",
       "    </tr>\n",
       "    <tr>\n",
       "      <th>39672</th>\n",
       "      <td>117249</td>\n",
       "      <td>116607</td>\n",
       "      <td>5000</td>\n",
       "      <td>5000</td>\n",
       "      <td>1300.000000</td>\n",
       "      <td>36 months</td>\n",
       "      <td>7.43%</td>\n",
       "      <td>155.38</td>\n",
       "      <td>A</td>\n",
       "      <td>A2</td>\n",
       "      <td>...</td>\n",
       "      <td>NaN</td>\n",
       "      <td>NaN</td>\n",
       "      <td>NaN</td>\n",
       "      <td>NaN</td>\n",
       "      <td>NaN</td>\n",
       "      <td>0.0</td>\n",
       "      <td>NaN</td>\n",
       "      <td>NaN</td>\n",
       "      <td>NaN</td>\n",
       "      <td>NaN</td>\n",
       "    </tr>\n",
       "    <tr>\n",
       "      <th>15346</th>\n",
       "      <td>748913</td>\n",
       "      <td>948052</td>\n",
       "      <td>6000</td>\n",
       "      <td>6000</td>\n",
       "      <td>6000.000000</td>\n",
       "      <td>36 months</td>\n",
       "      <td>14.79%</td>\n",
       "      <td>207.38</td>\n",
       "      <td>C</td>\n",
       "      <td>C4</td>\n",
       "      <td>...</td>\n",
       "      <td>NaN</td>\n",
       "      <td>NaN</td>\n",
       "      <td>NaN</td>\n",
       "      <td>NaN</td>\n",
       "      <td>0.0</td>\n",
       "      <td>0.0</td>\n",
       "      <td>NaN</td>\n",
       "      <td>NaN</td>\n",
       "      <td>NaN</td>\n",
       "      <td>NaN</td>\n",
       "    </tr>\n",
       "    <tr>\n",
       "      <th>21164</th>\n",
       "      <td>646959</td>\n",
       "      <td>827743</td>\n",
       "      <td>7000</td>\n",
       "      <td>7000</td>\n",
       "      <td>7000.000000</td>\n",
       "      <td>60 months</td>\n",
       "      <td>15.57%</td>\n",
       "      <td>168.64</td>\n",
       "      <td>D</td>\n",
       "      <td>D5</td>\n",
       "      <td>...</td>\n",
       "      <td>NaN</td>\n",
       "      <td>NaN</td>\n",
       "      <td>NaN</td>\n",
       "      <td>NaN</td>\n",
       "      <td>0.0</td>\n",
       "      <td>0.0</td>\n",
       "      <td>NaN</td>\n",
       "      <td>NaN</td>\n",
       "      <td>NaN</td>\n",
       "      <td>NaN</td>\n",
       "    </tr>\n",
       "    <tr>\n",
       "      <th>9808</th>\n",
       "      <td>842961</td>\n",
       "      <td>1053669</td>\n",
       "      <td>3500</td>\n",
       "      <td>3500</td>\n",
       "      <td>3500.000000</td>\n",
       "      <td>60 months</td>\n",
       "      <td>18.39%</td>\n",
       "      <td>89.63</td>\n",
       "      <td>E</td>\n",
       "      <td>E2</td>\n",
       "      <td>...</td>\n",
       "      <td>NaN</td>\n",
       "      <td>NaN</td>\n",
       "      <td>NaN</td>\n",
       "      <td>NaN</td>\n",
       "      <td>0.0</td>\n",
       "      <td>0.0</td>\n",
       "      <td>NaN</td>\n",
       "      <td>NaN</td>\n",
       "      <td>NaN</td>\n",
       "      <td>NaN</td>\n",
       "    </tr>\n",
       "    <tr>\n",
       "      <th>14727</th>\n",
       "      <td>761540</td>\n",
       "      <td>962007</td>\n",
       "      <td>2000</td>\n",
       "      <td>2000</td>\n",
       "      <td>2000.000000</td>\n",
       "      <td>36 months</td>\n",
       "      <td>10.99%</td>\n",
       "      <td>65.47</td>\n",
       "      <td>B</td>\n",
       "      <td>B3</td>\n",
       "      <td>...</td>\n",
       "      <td>NaN</td>\n",
       "      <td>NaN</td>\n",
       "      <td>NaN</td>\n",
       "      <td>NaN</td>\n",
       "      <td>0.0</td>\n",
       "      <td>0.0</td>\n",
       "      <td>NaN</td>\n",
       "      <td>NaN</td>\n",
       "      <td>NaN</td>\n",
       "      <td>NaN</td>\n",
       "    </tr>\n",
       "    <tr>\n",
       "      <th>29317</th>\n",
       "      <td>523313</td>\n",
       "      <td>677053</td>\n",
       "      <td>9000</td>\n",
       "      <td>9000</td>\n",
       "      <td>8834.960149</td>\n",
       "      <td>60 months</td>\n",
       "      <td>11.86%</td>\n",
       "      <td>199.57</td>\n",
       "      <td>B</td>\n",
       "      <td>B5</td>\n",
       "      <td>...</td>\n",
       "      <td>NaN</td>\n",
       "      <td>NaN</td>\n",
       "      <td>NaN</td>\n",
       "      <td>NaN</td>\n",
       "      <td>0.0</td>\n",
       "      <td>0.0</td>\n",
       "      <td>NaN</td>\n",
       "      <td>NaN</td>\n",
       "      <td>NaN</td>\n",
       "      <td>NaN</td>\n",
       "    </tr>\n",
       "    <tr>\n",
       "      <th>34863</th>\n",
       "      <td>445199</td>\n",
       "      <td>543489</td>\n",
       "      <td>17000</td>\n",
       "      <td>17000</td>\n",
       "      <td>17000.000000</td>\n",
       "      <td>36 months</td>\n",
       "      <td>12.53%</td>\n",
       "      <td>568.93</td>\n",
       "      <td>B</td>\n",
       "      <td>B5</td>\n",
       "      <td>...</td>\n",
       "      <td>NaN</td>\n",
       "      <td>NaN</td>\n",
       "      <td>NaN</td>\n",
       "      <td>NaN</td>\n",
       "      <td>0.0</td>\n",
       "      <td>0.0</td>\n",
       "      <td>NaN</td>\n",
       "      <td>NaN</td>\n",
       "      <td>NaN</td>\n",
       "      <td>NaN</td>\n",
       "    </tr>\n",
       "    <tr>\n",
       "      <th>23221</th>\n",
       "      <td>617056</td>\n",
       "      <td>791139</td>\n",
       "      <td>9500</td>\n",
       "      <td>9500</td>\n",
       "      <td>9400.000000</td>\n",
       "      <td>60 months</td>\n",
       "      <td>16.32%</td>\n",
       "      <td>232.64</td>\n",
       "      <td>E</td>\n",
       "      <td>E2</td>\n",
       "      <td>...</td>\n",
       "      <td>NaN</td>\n",
       "      <td>NaN</td>\n",
       "      <td>NaN</td>\n",
       "      <td>NaN</td>\n",
       "      <td>1.0</td>\n",
       "      <td>0.0</td>\n",
       "      <td>NaN</td>\n",
       "      <td>NaN</td>\n",
       "      <td>NaN</td>\n",
       "      <td>NaN</td>\n",
       "    </tr>\n",
       "  </tbody>\n",
       "</table>\n",
       "<p>10 rows × 111 columns</p>\n",
       "</div>"
      ],
      "text/plain": [
       "           id  member_id  loan_amnt  funded_amnt  funded_amnt_inv        term  \\\n",
       "35473  435289     520047       6000         6000      6000.000000   36 months   \n",
       "7254   884267    1099625      10700        10700     10700.000000   36 months   \n",
       "39672  117249     116607       5000         5000      1300.000000   36 months   \n",
       "15346  748913     948052       6000         6000      6000.000000   36 months   \n",
       "21164  646959     827743       7000         7000      7000.000000   60 months   \n",
       "9808   842961    1053669       3500         3500      3500.000000   60 months   \n",
       "14727  761540     962007       2000         2000      2000.000000   36 months   \n",
       "29317  523313     677053       9000         9000      8834.960149   60 months   \n",
       "34863  445199     543489      17000        17000     17000.000000   36 months   \n",
       "23221  617056     791139       9500         9500      9400.000000   60 months   \n",
       "\n",
       "      int_rate  installment grade sub_grade  ... num_tl_90g_dpd_24m  \\\n",
       "35473   17.04%       214.05     E        E3  ...                NaN   \n",
       "7254    14.27%       367.11     C        C2  ...                NaN   \n",
       "39672    7.43%       155.38     A        A2  ...                NaN   \n",
       "15346   14.79%       207.38     C        C4  ...                NaN   \n",
       "21164   15.57%       168.64     D        D5  ...                NaN   \n",
       "9808    18.39%        89.63     E        E2  ...                NaN   \n",
       "14727   10.99%        65.47     B        B3  ...                NaN   \n",
       "29317   11.86%       199.57     B        B5  ...                NaN   \n",
       "34863   12.53%       568.93     B        B5  ...                NaN   \n",
       "23221   16.32%       232.64     E        E2  ...                NaN   \n",
       "\n",
       "      num_tl_op_past_12m pct_tl_nvr_dlq  percent_bc_gt_75  \\\n",
       "35473                NaN            NaN               NaN   \n",
       "7254                 NaN            NaN               NaN   \n",
       "39672                NaN            NaN               NaN   \n",
       "15346                NaN            NaN               NaN   \n",
       "21164                NaN            NaN               NaN   \n",
       "9808                 NaN            NaN               NaN   \n",
       "14727                NaN            NaN               NaN   \n",
       "29317                NaN            NaN               NaN   \n",
       "34863                NaN            NaN               NaN   \n",
       "23221                NaN            NaN               NaN   \n",
       "\n",
       "      pub_rec_bankruptcies tax_liens tot_hi_cred_lim total_bal_ex_mort  \\\n",
       "35473                  0.0       0.0             NaN               NaN   \n",
       "7254                   0.0       0.0             NaN               NaN   \n",
       "39672                  NaN       0.0             NaN               NaN   \n",
       "15346                  0.0       0.0             NaN               NaN   \n",
       "21164                  0.0       0.0             NaN               NaN   \n",
       "9808                   0.0       0.0             NaN               NaN   \n",
       "14727                  0.0       0.0             NaN               NaN   \n",
       "29317                  0.0       0.0             NaN               NaN   \n",
       "34863                  0.0       0.0             NaN               NaN   \n",
       "23221                  1.0       0.0             NaN               NaN   \n",
       "\n",
       "      total_bc_limit total_il_high_credit_limit  \n",
       "35473            NaN                        NaN  \n",
       "7254             NaN                        NaN  \n",
       "39672            NaN                        NaN  \n",
       "15346            NaN                        NaN  \n",
       "21164            NaN                        NaN  \n",
       "9808             NaN                        NaN  \n",
       "14727            NaN                        NaN  \n",
       "29317            NaN                        NaN  \n",
       "34863            NaN                        NaN  \n",
       "23221            NaN                        NaN  \n",
       "\n",
       "[10 rows x 111 columns]"
      ]
     },
     "execution_count": 2,
     "metadata": {},
     "output_type": "execute_result"
    }
   ],
   "source": [
    "import warnings\n",
    "warnings.filterwarnings(\"ignore\")\n",
    "loan=pd.read_csv('../input/lending-club-loan-data-set/loan.csv')\n",
    "loan.sample(10)"
   ]
  },
  {
   "cell_type": "code",
   "execution_count": 3,
   "metadata": {
    "execution": {
     "iopub.execute_input": "2021-07-21T13:53:02.001468Z",
     "iopub.status.busy": "2021-07-21T13:53:02.000801Z",
     "iopub.status.idle": "2021-07-21T13:53:02.009117Z",
     "shell.execute_reply": "2021-07-21T13:53:02.008099Z",
     "shell.execute_reply.started": "2021-07-21T13:53:02.001415Z"
    }
   },
   "outputs": [
    {
     "data": {
      "text/plain": [
       "(39717, 111)"
      ]
     },
     "execution_count": 3,
     "metadata": {},
     "output_type": "execute_result"
    }
   ],
   "source": [
    "loan.shape"
   ]
  },
  {
   "cell_type": "code",
   "execution_count": 4,
   "metadata": {
    "execution": {
     "iopub.execute_input": "2021-07-21T13:53:02.011014Z",
     "iopub.status.busy": "2021-07-21T13:53:02.010722Z",
     "iopub.status.idle": "2021-07-21T13:53:02.037902Z",
     "shell.execute_reply": "2021-07-21T13:53:02.036354Z",
     "shell.execute_reply.started": "2021-07-21T13:53:02.010986Z"
    }
   },
   "outputs": [
    {
     "name": "stdout",
     "output_type": "stream",
     "text": [
      "<class 'pandas.core.frame.DataFrame'>\n",
      "RangeIndex: 39717 entries, 0 to 39716\n",
      "Columns: 111 entries, id to total_il_high_credit_limit\n",
      "dtypes: float64(74), int64(13), object(24)\n",
      "memory usage: 33.6+ MB\n"
     ]
    }
   ],
   "source": [
    "loan.info()"
   ]
  },
  {
   "cell_type": "code",
   "execution_count": 5,
   "metadata": {
    "execution": {
     "iopub.execute_input": "2021-07-21T13:53:02.039925Z",
     "iopub.status.busy": "2021-07-21T13:53:02.039495Z",
     "iopub.status.idle": "2021-07-21T13:53:02.110797Z",
     "shell.execute_reply": "2021-07-21T13:53:02.109867Z",
     "shell.execute_reply.started": "2021-07-21T13:53:02.039878Z"
    }
   },
   "outputs": [
    {
     "data": {
      "text/plain": [
       "verification_status_joint         100.000000\n",
       "annual_inc_joint                  100.000000\n",
       "mo_sin_old_rev_tl_op              100.000000\n",
       "mo_sin_old_il_acct                100.000000\n",
       "bc_util                           100.000000\n",
       "bc_open_to_buy                    100.000000\n",
       "avg_cur_bal                       100.000000\n",
       "acc_open_past_24mths              100.000000\n",
       "inq_last_12m                      100.000000\n",
       "total_cu_tl                       100.000000\n",
       "inq_fi                            100.000000\n",
       "total_rev_hi_lim                  100.000000\n",
       "all_util                          100.000000\n",
       "max_bal_bc                        100.000000\n",
       "open_rv_24m                       100.000000\n",
       "open_rv_12m                       100.000000\n",
       "il_util                           100.000000\n",
       "total_bal_il                      100.000000\n",
       "mths_since_rcnt_il                100.000000\n",
       "open_il_24m                       100.000000\n",
       "open_il_12m                       100.000000\n",
       "open_il_6m                        100.000000\n",
       "open_acc_6m                       100.000000\n",
       "tot_cur_bal                       100.000000\n",
       "tot_coll_amt                      100.000000\n",
       "mo_sin_rcnt_rev_tl_op             100.000000\n",
       "mo_sin_rcnt_tl                    100.000000\n",
       "mort_acc                          100.000000\n",
       "num_rev_tl_bal_gt_0               100.000000\n",
       "total_bc_limit                    100.000000\n",
       "total_bal_ex_mort                 100.000000\n",
       "tot_hi_cred_lim                   100.000000\n",
       "percent_bc_gt_75                  100.000000\n",
       "pct_tl_nvr_dlq                    100.000000\n",
       "num_tl_op_past_12m                100.000000\n",
       "num_tl_90g_dpd_24m                100.000000\n",
       "num_tl_30dpd                      100.000000\n",
       "num_tl_120dpd_2m                  100.000000\n",
       "num_sats                          100.000000\n",
       "num_rev_accts                     100.000000\n",
       "mths_since_recent_bc              100.000000\n",
       "num_op_rev_tl                     100.000000\n",
       "num_il_tl                         100.000000\n",
       "num_bc_tl                         100.000000\n",
       "num_bc_sats                       100.000000\n",
       "num_actv_rev_tl                   100.000000\n",
       "num_actv_bc_tl                    100.000000\n",
       "num_accts_ever_120_pd             100.000000\n",
       "mths_since_recent_revol_delinq    100.000000\n",
       "mths_since_recent_inq             100.000000\n",
       "mths_since_recent_bc_dlq          100.000000\n",
       "dti_joint                         100.000000\n",
       "total_il_high_credit_limit        100.000000\n",
       "mths_since_last_major_derog       100.000000\n",
       "next_pymnt_d                       97.129693\n",
       "mths_since_last_record             92.985372\n",
       "mths_since_last_delinq             64.662487\n",
       "desc                               32.580507\n",
       "emp_title                           6.191303\n",
       "emp_length                          2.706650\n",
       "dtype: float64"
      ]
     },
     "execution_count": 5,
     "metadata": {},
     "output_type": "execute_result"
    }
   ],
   "source": [
    "# checking the null value in term of percentages for each columns\n",
    "((loan.isnull().sum()/len(loan))*100).sort_values(ascending= False).head(60)"
   ]
  },
  {
   "cell_type": "code",
   "execution_count": 6,
   "metadata": {
    "execution": {
     "iopub.execute_input": "2021-07-21T13:53:02.113956Z",
     "iopub.status.busy": "2021-07-21T13:53:02.113346Z",
     "iopub.status.idle": "2021-07-21T13:53:02.191972Z",
     "shell.execute_reply": "2021-07-21T13:53:02.190892Z",
     "shell.execute_reply.started": "2021-07-21T13:53:02.113912Z"
    }
   },
   "outputs": [
    {
     "data": {
      "text/plain": [
       "Index(['mths_since_last_record', 'next_pymnt_d', 'mths_since_last_major_derog',\n",
       "       'annual_inc_joint', 'dti_joint', 'verification_status_joint',\n",
       "       'tot_coll_amt', 'tot_cur_bal', 'open_acc_6m', 'open_il_6m',\n",
       "       'open_il_12m', 'open_il_24m', 'mths_since_rcnt_il', 'total_bal_il',\n",
       "       'il_util', 'open_rv_12m', 'open_rv_24m', 'max_bal_bc', 'all_util',\n",
       "       'total_rev_hi_lim', 'inq_fi', 'total_cu_tl', 'inq_last_12m',\n",
       "       'acc_open_past_24mths', 'avg_cur_bal', 'bc_open_to_buy', 'bc_util',\n",
       "       'mo_sin_old_il_acct', 'mo_sin_old_rev_tl_op', 'mo_sin_rcnt_rev_tl_op',\n",
       "       'mo_sin_rcnt_tl', 'mort_acc', 'mths_since_recent_bc',\n",
       "       'mths_since_recent_bc_dlq', 'mths_since_recent_inq',\n",
       "       'mths_since_recent_revol_delinq', 'num_accts_ever_120_pd',\n",
       "       'num_actv_bc_tl', 'num_actv_rev_tl', 'num_bc_sats', 'num_bc_tl',\n",
       "       'num_il_tl', 'num_op_rev_tl', 'num_rev_accts', 'num_rev_tl_bal_gt_0',\n",
       "       'num_sats', 'num_tl_120dpd_2m', 'num_tl_30dpd', 'num_tl_90g_dpd_24m',\n",
       "       'num_tl_op_past_12m', 'pct_tl_nvr_dlq', 'percent_bc_gt_75',\n",
       "       'tot_hi_cred_lim', 'total_bal_ex_mort', 'total_bc_limit',\n",
       "       'total_il_high_credit_limit'],\n",
       "      dtype='object')"
      ]
     },
     "execution_count": 6,
     "metadata": {},
     "output_type": "execute_result"
    }
   ],
   "source": [
    "# checking the columns having more than 90% null values.\n",
    "loan.columns[loan.apply(lambda loan:(loan.isnull().sum()/len(loan))*100>=90)]"
   ]
  },
  {
   "cell_type": "code",
   "execution_count": 7,
   "metadata": {
    "execution": {
     "iopub.execute_input": "2021-07-21T13:53:02.193772Z",
     "iopub.status.busy": "2021-07-21T13:53:02.193480Z",
     "iopub.status.idle": "2021-07-21T13:53:02.285728Z",
     "shell.execute_reply": "2021-07-21T13:53:02.284816Z",
     "shell.execute_reply.started": "2021-07-21T13:53:02.193743Z"
    }
   },
   "outputs": [
    {
     "data": {
      "text/plain": [
       "(39717, 55)"
      ]
     },
     "execution_count": 7,
     "metadata": {},
     "output_type": "execute_result"
    }
   ],
   "source": [
    "# Dropping the columns with more than 90% null values\n",
    "loan=loan.drop(loan.columns[loan.apply(lambda loan:(loan.isnull().sum()/len(loan))*100>=90)],axis=1)\n",
    "loan.shape"
   ]
  },
  {
   "cell_type": "code",
   "execution_count": 8,
   "metadata": {
    "execution": {
     "iopub.execute_input": "2021-07-21T13:53:02.288182Z",
     "iopub.status.busy": "2021-07-21T13:53:02.287896Z",
     "iopub.status.idle": "2021-07-21T13:53:02.340820Z",
     "shell.execute_reply": "2021-07-21T13:53:02.339869Z",
     "shell.execute_reply.started": "2021-07-21T13:53:02.288151Z"
    }
   },
   "outputs": [
    {
     "data": {
      "text/plain": [
       "mths_since_last_delinq        64.662487\n",
       "desc                          32.580507\n",
       "emp_title                      6.191303\n",
       "emp_length                     2.706650\n",
       "pub_rec_bankruptcies           1.754916\n",
       "last_pymnt_d                   0.178765\n",
       "chargeoff_within_12_mths       0.140998\n",
       "collections_12_mths_ex_med     0.140998\n",
       "revol_util                     0.125891\n",
       "tax_liens                      0.098195\n",
       "title                          0.027696\n",
       "last_credit_pull_d             0.005036\n",
       "out_prncp                      0.000000\n",
       "initial_list_status            0.000000\n",
       "out_prncp_inv                  0.000000\n",
       "total_pymnt                    0.000000\n",
       "total_acc                      0.000000\n",
       "total_pymnt_inv                0.000000\n",
       "recoveries                     0.000000\n",
       "total_rec_prncp                0.000000\n",
       "total_rec_int                  0.000000\n",
       "total_rec_late_fee             0.000000\n",
       "pub_rec                        0.000000\n",
       "collection_recovery_fee        0.000000\n",
       "last_pymnt_amnt                0.000000\n",
       "policy_code                    0.000000\n",
       "application_type               0.000000\n",
       "acc_now_delinq                 0.000000\n",
       "delinq_amnt                    0.000000\n",
       "revol_bal                      0.000000\n",
       "id                             0.000000\n",
       "open_acc                       0.000000\n",
       "member_id                      0.000000\n",
       "loan_amnt                      0.000000\n",
       "funded_amnt                    0.000000\n",
       "funded_amnt_inv                0.000000\n",
       "term                           0.000000\n",
       "int_rate                       0.000000\n",
       "installment                    0.000000\n",
       "grade                          0.000000\n",
       "sub_grade                      0.000000\n",
       "home_ownership                 0.000000\n",
       "annual_inc                     0.000000\n",
       "verification_status            0.000000\n",
       "issue_d                        0.000000\n",
       "loan_status                    0.000000\n",
       "pymnt_plan                     0.000000\n",
       "url                            0.000000\n",
       "purpose                        0.000000\n",
       "zip_code                       0.000000\n",
       "addr_state                     0.000000\n",
       "dti                            0.000000\n",
       "delinq_2yrs                    0.000000\n",
       "earliest_cr_line               0.000000\n",
       "inq_last_6mths                 0.000000\n",
       "dtype: float64"
      ]
     },
     "execution_count": 8,
     "metadata": {},
     "output_type": "execute_result"
    }
   ],
   "source": [
    "((loan.isnull().sum()/len(loan))*100).sort_values(ascending= False)"
   ]
  },
  {
   "cell_type": "markdown",
   "metadata": {},
   "source": [
    "***Now we will check the impact of each feature with respect to loan_status (Target Variable)***\n"
   ]
  },
  {
   "cell_type": "code",
   "execution_count": 9,
   "metadata": {
    "execution": {
     "iopub.execute_input": "2021-07-21T13:53:02.343155Z",
     "iopub.status.busy": "2021-07-21T13:53:02.342875Z",
     "iopub.status.idle": "2021-07-21T13:53:02.354973Z",
     "shell.execute_reply": "2021-07-21T13:53:02.353931Z",
     "shell.execute_reply.started": "2021-07-21T13:53:02.343129Z"
    }
   },
   "outputs": [
    {
     "data": {
      "text/plain": [
       "Fully Paid     32950\n",
       "Charged Off     5627\n",
       "Current         1140\n",
       "Name: loan_status, dtype: int64"
      ]
     },
     "execution_count": 9,
     "metadata": {},
     "output_type": "execute_result"
    }
   ],
   "source": [
    "loan['loan_status'].value_counts()"
   ]
  },
  {
   "cell_type": "markdown",
   "metadata": {
    "execution": {
     "iopub.execute_input": "2021-07-20T16:54:17.749341Z",
     "iopub.status.busy": "2021-07-20T16:54:17.748701Z",
     "iopub.status.idle": "2021-07-20T16:54:17.760165Z",
     "shell.execute_reply": "2021-07-20T16:54:17.759274Z",
     "shell.execute_reply.started": "2021-07-20T16:54:17.749294Z"
    }
   },
   "source": [
    "***As we can't predict the result of Current brrower loan status whether they will end up\n",
    "with fully paid or charged off so we can drop the records related to it.***"
   ]
  },
  {
   "cell_type": "code",
   "execution_count": 10,
   "metadata": {
    "execution": {
     "iopub.execute_input": "2021-07-21T13:53:02.357078Z",
     "iopub.status.busy": "2021-07-21T13:53:02.356666Z",
     "iopub.status.idle": "2021-07-21T13:53:02.393181Z",
     "shell.execute_reply": "2021-07-21T13:53:02.392104Z",
     "shell.execute_reply.started": "2021-07-21T13:53:02.357035Z"
    }
   },
   "outputs": [
    {
     "data": {
      "text/plain": [
       "Fully Paid     32950\n",
       "Charged Off     5627\n",
       "Name: loan_status, dtype: int64"
      ]
     },
     "execution_count": 10,
     "metadata": {},
     "output_type": "execute_result"
    }
   ],
   "source": [
    "loan=loan[loan['loan_status']!='Current']\n",
    "loan['loan_status'].value_counts()"
   ]
  },
  {
   "cell_type": "code",
   "execution_count": 11,
   "metadata": {
    "execution": {
     "iopub.execute_input": "2021-07-21T13:53:02.394726Z",
     "iopub.status.busy": "2021-07-21T13:53:02.394464Z",
     "iopub.status.idle": "2021-07-21T13:53:02.414712Z",
     "shell.execute_reply": "2021-07-21T13:53:02.413878Z",
     "shell.execute_reply.started": "2021-07-21T13:53:02.394701Z"
    }
   },
   "outputs": [
    {
     "data": {
      "text/plain": [
       "(38577, 48)"
      ]
     },
     "execution_count": 11,
     "metadata": {},
     "output_type": "execute_result"
    }
   ],
   "source": [
    "# Dropping the columns which are associated with current status of Loan of the applicant.\n",
    "loan=loan.drop(['installment','last_pymnt_d','revol_util','earliest_cr_line', 'total_pymnt', 'last_pymnt_amnt',\n",
    "       'last_credit_pull_d',],axis=1)\n",
    "loan.shape"
   ]
  },
  {
   "cell_type": "code",
   "execution_count": 12,
   "metadata": {
    "execution": {
     "iopub.execute_input": "2021-07-21T13:53:02.416160Z",
     "iopub.status.busy": "2021-07-21T13:53:02.415773Z",
     "iopub.status.idle": "2021-07-21T13:53:02.709743Z",
     "shell.execute_reply": "2021-07-21T13:53:02.708992Z",
     "shell.execute_reply.started": "2021-07-21T13:53:02.416131Z"
    }
   },
   "outputs": [],
   "source": [
    "import matplotlib.pyplot as plt\n",
    "%matplotlib inline\n",
    "import seaborn as sns"
   ]
  },
  {
   "cell_type": "code",
   "execution_count": 13,
   "metadata": {
    "execution": {
     "iopub.execute_input": "2021-07-21T13:53:02.711170Z",
     "iopub.status.busy": "2021-07-21T13:53:02.710759Z",
     "iopub.status.idle": "2021-07-21T13:53:02.821945Z",
     "shell.execute_reply": "2021-07-21T13:53:02.821173Z",
     "shell.execute_reply.started": "2021-07-21T13:53:02.711141Z"
    }
   },
   "outputs": [
    {
     "data": {
      "image/png": "[encoded data removed]",
      "text/plain": [
       "<Figure size 432x288 with 1 Axes>"
      ]
     },
     "metadata": {},
     "output_type": "display_data"
    }
   ],
   "source": [
    "# Checking the distribution ratio of Loan status attributes.\n",
    "loan['loan_status'].value_counts().plot.pie(autopct='%1.1f%%')\n",
    "plt.show()"
   ]
  },
  {
   "cell_type": "code",
   "execution_count": 14,
   "metadata": {
    "execution": {
     "iopub.execute_input": "2021-07-21T13:53:02.823672Z",
     "iopub.status.busy": "2021-07-21T13:53:02.823218Z",
     "iopub.status.idle": "2021-07-21T13:53:02.828990Z",
     "shell.execute_reply": "2021-07-21T13:53:02.828153Z",
     "shell.execute_reply.started": "2021-07-21T13:53:02.823638Z"
    }
   },
   "outputs": [
    {
     "data": {
      "text/plain": [
       "(38577, 48)"
      ]
     },
     "execution_count": 14,
     "metadata": {},
     "output_type": "execute_result"
    }
   ],
   "source": [
    "loan.shape"
   ]
  },
  {
   "cell_type": "code",
   "execution_count": 15,
   "metadata": {
    "execution": {
     "iopub.execute_input": "2021-07-21T13:53:02.830520Z",
     "iopub.status.busy": "2021-07-21T13:53:02.830118Z",
     "iopub.status.idle": "2021-07-21T13:53:02.894513Z",
     "shell.execute_reply": "2021-07-21T13:53:02.893292Z",
     "shell.execute_reply.started": "2021-07-21T13:53:02.830478Z"
    }
   },
   "outputs": [
    {
     "data": {
      "text/plain": [
       "mths_since_last_delinq        64.559193\n",
       "desc                          32.472717\n",
       "emp_title                      6.185033\n",
       "emp_length                     2.677761\n",
       "pub_rec_bankruptcies           1.806776\n",
       "chargeoff_within_12_mths       0.145164\n",
       "collections_12_mths_ex_med     0.145164\n",
       "tax_liens                      0.101097\n",
       "title                          0.028514\n",
       "total_pymnt_inv                0.000000\n",
       "pub_rec                        0.000000\n",
       "revol_bal                      0.000000\n",
       "total_acc                      0.000000\n",
       "initial_list_status            0.000000\n",
       "out_prncp                      0.000000\n",
       "out_prncp_inv                  0.000000\n",
       "total_rec_late_fee             0.000000\n",
       "total_rec_prncp                0.000000\n",
       "total_rec_int                  0.000000\n",
       "recoveries                     0.000000\n",
       "collection_recovery_fee        0.000000\n",
       "policy_code                    0.000000\n",
       "application_type               0.000000\n",
       "acc_now_delinq                 0.000000\n",
       "delinq_amnt                    0.000000\n",
       "open_acc                       0.000000\n",
       "id                             0.000000\n",
       "inq_last_6mths                 0.000000\n",
       "annual_inc                     0.000000\n",
       "loan_amnt                      0.000000\n",
       "funded_amnt                    0.000000\n",
       "funded_amnt_inv                0.000000\n",
       "term                           0.000000\n",
       "int_rate                       0.000000\n",
       "grade                          0.000000\n",
       "sub_grade                      0.000000\n",
       "home_ownership                 0.000000\n",
       "verification_status            0.000000\n",
       "member_id                      0.000000\n",
       "issue_d                        0.000000\n",
       "loan_status                    0.000000\n",
       "pymnt_plan                     0.000000\n",
       "url                            0.000000\n",
       "purpose                        0.000000\n",
       "zip_code                       0.000000\n",
       "addr_state                     0.000000\n",
       "dti                            0.000000\n",
       "delinq_2yrs                    0.000000\n",
       "dtype: float64"
      ]
     },
     "execution_count": 15,
     "metadata": {},
     "output_type": "execute_result"
    }
   ],
   "source": [
    "((loan.isnull().sum()/len(loan))*100).sort_values(ascending= False)"
   ]
  },
  {
   "cell_type": "markdown",
   "metadata": {},
   "source": [
    "##### Undersatnding the Feature 'mths_since_last_delinq'\n",
    "\n",
    "mths_since_last_delinq: The number of months since the borrower's last delinquency."
   ]
  },
  {
   "cell_type": "code",
   "execution_count": 16,
   "metadata": {
    "execution": {
     "iopub.execute_input": "2021-07-21T13:53:02.896582Z",
     "iopub.status.busy": "2021-07-21T13:53:02.895928Z",
     "iopub.status.idle": "2021-07-21T13:53:02.903801Z",
     "shell.execute_reply": "2021-07-21T13:53:02.902713Z",
     "shell.execute_reply.started": "2021-07-21T13:53:02.896535Z"
    }
   },
   "outputs": [
    {
     "data": {
      "text/plain": [
       "dtype('float64')"
      ]
     },
     "execution_count": 16,
     "metadata": {},
     "output_type": "execute_result"
    }
   ],
   "source": [
    "loan['mths_since_last_delinq'].dtype"
   ]
  },
  {
   "cell_type": "code",
   "execution_count": 17,
   "metadata": {
    "execution": {
     "iopub.execute_input": "2021-07-21T13:53:02.905724Z",
     "iopub.status.busy": "2021-07-21T13:53:02.905195Z",
     "iopub.status.idle": "2021-07-21T13:53:02.924745Z",
     "shell.execute_reply": "2021-07-21T13:53:02.923635Z",
     "shell.execute_reply.started": "2021-07-21T13:53:02.905681Z"
    }
   },
   "outputs": [
    {
     "data": {
      "text/plain": [
       "count    13672.000000\n",
       "mean        35.882534\n",
       "std         22.028093\n",
       "min          0.000000\n",
       "25%         18.000000\n",
       "50%         34.000000\n",
       "75%         52.000000\n",
       "max        120.000000\n",
       "Name: mths_since_last_delinq, dtype: float64"
      ]
     },
     "execution_count": 17,
     "metadata": {},
     "output_type": "execute_result"
    }
   ],
   "source": [
    "loan['mths_since_last_delinq'].describe()"
   ]
  },
  {
   "cell_type": "code",
   "execution_count": 18,
   "metadata": {
    "execution": {
     "iopub.execute_input": "2021-07-21T13:53:02.928020Z",
     "iopub.status.busy": "2021-07-21T13:53:02.927728Z",
     "iopub.status.idle": "2021-07-21T13:53:02.939901Z",
     "shell.execute_reply": "2021-07-21T13:53:02.938837Z",
     "shell.execute_reply.started": "2021-07-21T13:53:02.927992Z"
    }
   },
   "outputs": [
    {
     "data": {
      "text/plain": [
       "29166    56.0\n",
       "33595     NaN\n",
       "31462     NaN\n",
       "12268    30.0\n",
       "15389     NaN\n",
       "25377    12.0\n",
       "9083     69.0\n",
       "8149      NaN\n",
       "33036     NaN\n",
       "34166     NaN\n",
       "Name: mths_since_last_delinq, dtype: float64"
      ]
     },
     "execution_count": 18,
     "metadata": {},
     "output_type": "execute_result"
    }
   ],
   "source": [
    "loan['mths_since_last_delinq'].sample(10)"
   ]
  },
  {
   "cell_type": "code",
   "execution_count": 19,
   "metadata": {
    "execution": {
     "iopub.execute_input": "2021-07-21T13:53:02.942254Z",
     "iopub.status.busy": "2021-07-21T13:53:02.941704Z",
     "iopub.status.idle": "2021-07-21T13:53:02.955136Z",
     "shell.execute_reply": "2021-07-21T13:53:02.954110Z",
     "shell.execute_reply.started": "2021-07-21T13:53:02.942208Z"
    }
   },
   "outputs": [
    {
     "data": {
      "text/plain": [
       "95"
      ]
     },
     "execution_count": 19,
     "metadata": {},
     "output_type": "execute_result"
    }
   ],
   "source": [
    "loan['mths_since_last_delinq'].nunique()"
   ]
  },
  {
   "cell_type": "code",
   "execution_count": 20,
   "metadata": {
    "execution": {
     "iopub.execute_input": "2021-07-21T13:53:02.956667Z",
     "iopub.status.busy": "2021-07-21T13:53:02.956304Z",
     "iopub.status.idle": "2021-07-21T13:53:02.970208Z",
     "shell.execute_reply": "2021-07-21T13:53:02.969422Z",
     "shell.execute_reply.started": "2021-07-21T13:53:02.956586Z"
    }
   },
   "outputs": [
    {
     "data": {
      "text/plain": [
       "loan_status\n",
       "Charged Off     2142\n",
       "Fully Paid     11530\n",
       "Name: mths_since_last_delinq, dtype: int64"
      ]
     },
     "execution_count": 20,
     "metadata": {},
     "output_type": "execute_result"
    }
   ],
   "source": [
    "loan.groupby(['loan_status'])['mths_since_last_delinq'].count()"
   ]
  },
  {
   "cell_type": "code",
   "execution_count": 21,
   "metadata": {
    "execution": {
     "iopub.execute_input": "2021-07-21T13:53:02.972116Z",
     "iopub.status.busy": "2021-07-21T13:53:02.971659Z",
     "iopub.status.idle": "2021-07-21T13:53:03.102295Z",
     "shell.execute_reply": "2021-07-21T13:53:03.101300Z",
     "shell.execute_reply.started": "2021-07-21T13:53:02.972083Z"
    }
   },
   "outputs": [
    {
     "data": {
      "image/png": "[encoded data removed]",
      "text/plain": [
       "<Figure size 432x288 with 1 Axes>"
      ]
     },
     "metadata": {
      "needs_background": "light"
     },
     "output_type": "display_data"
    }
   ],
   "source": [
    "loan.groupby(['loan_status'])['mths_since_last_delinq'].mean().plot.bar()\n",
    "plt.show()"
   ]
  },
  {
   "cell_type": "code",
   "execution_count": 22,
   "metadata": {
    "execution": {
     "iopub.execute_input": "2021-07-21T13:53:03.103899Z",
     "iopub.status.busy": "2021-07-21T13:53:03.103613Z",
     "iopub.status.idle": "2021-07-21T13:53:03.117845Z",
     "shell.execute_reply": "2021-07-21T13:53:03.116442Z",
     "shell.execute_reply.started": "2021-07-21T13:53:03.103869Z"
    }
   },
   "outputs": [
    {
     "data": {
      "text/plain": [
       "loan_status\n",
       "Charged Off     2142\n",
       "Fully Paid     11530\n",
       "Name: mths_since_last_delinq, dtype: int64"
      ]
     },
     "execution_count": 22,
     "metadata": {},
     "output_type": "execute_result"
    }
   ],
   "source": [
    "loan.groupby(['loan_status'])['mths_since_last_delinq'].count()"
   ]
  },
  {
   "cell_type": "code",
   "execution_count": 23,
   "metadata": {
    "execution": {
     "iopub.execute_input": "2021-07-21T13:53:03.124746Z",
     "iopub.status.busy": "2021-07-21T13:53:03.124190Z",
     "iopub.status.idle": "2021-07-21T13:53:03.142501Z",
     "shell.execute_reply": "2021-07-21T13:53:03.141428Z",
     "shell.execute_reply.started": "2021-07-21T13:53:03.124658Z"
    }
   },
   "outputs": [
    {
     "data": {
      "text/plain": [
       "loan_status\n",
       "Charged Off    15.667057\n",
       "Fully Paid     84.332943\n",
       "Name: mths_since_last_delinq, dtype: float64"
      ]
     },
     "execution_count": 23,
     "metadata": {},
     "output_type": "execute_result"
    }
   ],
   "source": [
    "100*loan.groupby(['loan_status'])['mths_since_last_delinq'].count()/loan['mths_since_last_delinq'].count()"
   ]
  },
  {
   "cell_type": "markdown",
   "metadata": {},
   "source": [
    "> #### As the effect of mths_since_last_delinq is almost negligible on the loan status column hence we can drop it."
   ]
  },
  {
   "cell_type": "code",
   "execution_count": 24,
   "metadata": {
    "execution": {
     "iopub.execute_input": "2021-07-21T13:53:03.146219Z",
     "iopub.status.busy": "2021-07-21T13:53:03.145825Z",
     "iopub.status.idle": "2021-07-21T13:53:03.170432Z",
     "shell.execute_reply": "2021-07-21T13:53:03.169401Z",
     "shell.execute_reply.started": "2021-07-21T13:53:03.146184Z"
    }
   },
   "outputs": [
    {
     "data": {
      "text/plain": [
       "(38577, 47)"
      ]
     },
     "execution_count": 24,
     "metadata": {},
     "output_type": "execute_result"
    }
   ],
   "source": [
    "#Dropping the coloumn mths_since_last_delinq\n",
    "loan= loan.drop('mths_since_last_delinq',axis=1)\n",
    "loan.shape"
   ]
  },
  {
   "cell_type": "markdown",
   "metadata": {
    "execution": {
     "iopub.execute_input": "2021-07-20T16:54:18.722066Z",
     "iopub.status.busy": "2021-07-20T16:54:18.721601Z",
     "iopub.status.idle": "2021-07-20T16:54:18.729615Z",
     "shell.execute_reply": "2021-07-20T16:54:18.728581Z",
     "shell.execute_reply.started": "2021-07-20T16:54:18.722024Z"
    }
   },
   "source": [
    "#### Understanding the feature desc\n",
    "desc: loan description provided by the borrower"
   ]
  },
  {
   "cell_type": "code",
   "execution_count": 25,
   "metadata": {
    "execution": {
     "iopub.execute_input": "2021-07-21T13:53:03.172030Z",
     "iopub.status.busy": "2021-07-21T13:53:03.171739Z",
     "iopub.status.idle": "2021-07-21T13:53:03.181429Z",
     "shell.execute_reply": "2021-07-21T13:53:03.180405Z",
     "shell.execute_reply.started": "2021-07-21T13:53:03.172001Z"
    }
   },
   "outputs": [
    {
     "data": {
      "text/plain": [
       "20977                                                  NaN\n",
       "8854                                                   NaN\n",
       "20000      Borrower added on 02/01/11 > This is to pay ...\n",
       "1079       Borrower added on 12/05/11 > Loan<br><br> Bo...\n",
       "36536    I have some expenses for applying to the Unive...\n",
       "20627      Borrower added on 01/17/11 > I wanted to add...\n",
       "10045      Borrower added on 08/03/11 > Basic consolida...\n",
       "32353    If I am approved help me get a head of some bi...\n",
       "37567    The purpose of this loan is to reinvest in Len...\n",
       "3362       Borrower added on 11/10/11 > Have 2 credit c...\n",
       "Name: desc, dtype: object"
      ]
     },
     "execution_count": 25,
     "metadata": {},
     "output_type": "execute_result"
    }
   ],
   "source": [
    "loan['desc'].sample(10)"
   ]
  },
  {
   "cell_type": "code",
   "execution_count": 26,
   "metadata": {
    "execution": {
     "iopub.execute_input": "2021-07-21T13:53:03.183378Z",
     "iopub.status.busy": "2021-07-21T13:53:03.182990Z",
     "iopub.status.idle": "2021-07-21T13:53:03.193375Z",
     "shell.execute_reply": "2021-07-21T13:53:03.192400Z",
     "shell.execute_reply.started": "2021-07-21T13:53:03.183337Z"
    }
   },
   "outputs": [
    {
     "data": {
      "text/plain": [
       "dtype('O')"
      ]
     },
     "execution_count": 26,
     "metadata": {},
     "output_type": "execute_result"
    }
   ],
   "source": [
    "loan['desc'].dtype"
   ]
  },
  {
   "cell_type": "code",
   "execution_count": 27,
   "metadata": {
    "execution": {
     "iopub.execute_input": "2021-07-21T13:53:03.195094Z",
     "iopub.status.busy": "2021-07-21T13:53:03.194773Z",
     "iopub.status.idle": "2021-07-21T13:53:03.244329Z",
     "shell.execute_reply": "2021-07-21T13:53:03.243157Z",
     "shell.execute_reply.started": "2021-07-21T13:53:03.195062Z"
    }
   },
   "outputs": [
    {
     "data": {
      "text/plain": [
       "                                                                                                                                                                                                                                                                                                                                                                                                                                                                                                                                                                                                                                                                                                                                                                                                                                                                                                                                                                                                                                                                                                                                                                                                                                                                                                                                                                                                                                                                                                                                                                                                                                                                                                                                                                                                                                                                                                                                                                                                                                                                                                                           209\n",
       "Debt Consolidation                                                                                                                                                                                                                                                                                                                                                                                                                                                                                                                                                                                                                                                                                                                                                                                                                                                                                                                                                                                                                                                                                                                                                                                                                                                                                                                                                                                                                                                                                                                                                                                                                                                                                                                                                                                                                                                                                                                                                                                                                                                                                                           8\n",
       "Camping Membership                                                                                                                                                                                                                                                                                                                                                                                                                                                                                                                                                                                                                                                                                                                                                                                                                                                                                                                                                                                                                                                                                                                                                                                                                                                                                                                                                                                                                                                                                                                                                                                                                                                                                                                                                                                                                                                                                                                                                                                                                                                                                                           6\n",
       "Personal Loan                                                                                                                                                                                                                                                                                                                                                                                                                                                                                                                                                                                                                                                                                                                                                                                                                                                                                                                                                                                                                                                                                                                                                                                                                                                                                                                                                                                                                                                                                                                                                                                                                                                                                                                                                                                                                                                                                                                                                                                                                                                                                                                3\n",
       "credit card consolidation                                                                                                                                                                                                                                                                                                                                                                                                                                                                                                                                                                                                                                                                                                                                                                                                                                                                                                                                                                                                                                                                                                                                                                                                                                                                                                                                                                                                                                                                                                                                                                                                                                                                                                                                                                                                                                                                                                                                                                                                                                                                                                    3\n",
       "                                                                                                                                                                                                                                                                                                                                                                                                                                                                                                                                                                                                                                                                                                                                                                                                                                                                                                                                                                                                                                                                                                                                                                                                                                                                                                                                                                                                                                                                                                                                                                                                                                                                                                                                                                                                                                                                                                                                                                                                                                                                                                                          ... \n",
       "  Borrower added on 10/18/11 > The purpose of the loan is to consolidate debt and build credit. I am a good borrower because I have a very stable job and currently have low monthly expenses.<br/>                                                                                                                                                                                                                                                                                                                                                                                                                                                                                                                                                                                                                                                                                                                                                                                                                                                                                                                                                                                                                                                                                                                                                                                                                                                                                                                                                                                                                                                                                                                                                                                                                                                                                                                                                                                                                                                                                                                          1\n",
       "I am consolidating my credit card debt as well as paying off my cell phone bill.                                                                                                                                                                                                                                                                                                                                                                                                                                                                                                                                                                                                                                                                                                                                                                                                                                                                                                                                                                                                                                                                                                                                                                                                                                                                                                                                                                                                                                                                                                                                                                                                                                                                                                                                                                                                                                                                                                                                                                                                                                             1\n",
       " I have a number of credit cards that have high APRs that I am struggling to pay down. With two jobs, two children and a wife in school who only works two nights a week, we have gotten behind on paying the cards.  Currently we pay almost 600 a month to three cards but we are not making a dent in the total.                                                                                                                                                                                                                                                                                                                                                                                                                                                                                                                                                                                                                                                                                                                                                                                                                                                                                                                                                                                                                                                                                                                                                                                                                                                                                                                                                                                                                                                                                                                                                                                                                                                                                                                                                                                                          1\n",
       "  Borrower added on 09/27/10 > This is a debt consolidation loan.  I am trying to lower my monthly payments and get out of debt.  I have a very stable job with a company that has been able to grow throughout the resession.<br/>                                                                                                                                                                                                                                                                                                                                                                                                                                                                                                                                                                                                                                                                                                                                                                                                                                                                                                                                                                                                                                                                                                                                                                                                                                                                                                                                                                                                                                                                                                                                                                                                                                                                                                                                                                                                                                                                                          1\n",
       "  564203 added on 10/29/09 > Have a rental income house that needs repairs from a tennant I had to evict. Using the money to repair house so I can get a higher rental income/tennant. Remaining money going to conslidate outstanding debt (make it easier to pay 1 payment). 564203 added on 10/29/09 > Bit more information incase people are wondering: 1. Haven't missed a payment ever on anything 2. Revoling credit card is actually what I used to purchase house. Loan breakdown is as followed... 2,000 going toward repair remaining 10,000 used to pay down cash advance I took on credit card at 22% (other 10,000 was done at 8%) to buy house (Yes that is right for some it is a 20,000 home and yes it is rentable/livable the repairs are becuase I had a tennant in there and didn't pay rent and left the place dirty with problems and security deposit didn't cover it all). The rest of reovling creidt I pay every month (and hence no missed payments). House plan to rent for 500-600/mo range when completed repairs (repairs take 2-3 weeks max before back on market) and plan on using rent check to pay for loan. (Of course it is not needed as I make enough income without it). 3. 135/mo car payment 4. 500-600/mo rent target when repairs complete 5. 132/mo studnet loan 6. 275/mo credit card balance (the 8% one)  7. Income stated is all me, I have other rental properties but no way to verify this (and the income) it brings (is there?).  Why I haven't taken a HELCO on the houses I own for repairs? I have the houses in controllership of an LLC (that my wife and I own). For tax stargety I purposely want the LLC to have an external source (ME) providing capital for repairs rather than the LLC tapping into its own equity. It fits my long term goals of minimzing my tax payments. 564203 added on 10/30/09 > Update: I came into some money and don't need as high of a loan. I asked lending club to reduce from 12,000 to 3,500. I got fudning at a lower rate except for 3,500. Almost same breakdown 2,000 for repairs, 1500 for debt consolidation.      1\n",
       "Name: desc, Length: 25803, dtype: int64"
      ]
     },
     "execution_count": 27,
     "metadata": {},
     "output_type": "execute_result"
    }
   ],
   "source": [
    "loan['desc'].value_counts()"
   ]
  },
  {
   "cell_type": "code",
   "execution_count": 28,
   "metadata": {
    "execution": {
     "iopub.execute_input": "2021-07-21T13:53:03.246299Z",
     "iopub.status.busy": "2021-07-21T13:53:03.245899Z",
     "iopub.status.idle": "2021-07-21T13:53:03.283232Z",
     "shell.execute_reply": "2021-07-21T13:53:03.282221Z",
     "shell.execute_reply.started": "2021-07-21T13:53:03.246264Z"
    }
   },
   "outputs": [
    {
     "data": {
      "text/plain": [
       "count     26050\n",
       "unique    25803\n",
       "top            \n",
       "freq        209\n",
       "Name: desc, dtype: object"
      ]
     },
     "execution_count": 28,
     "metadata": {},
     "output_type": "execute_result"
    }
   ],
   "source": [
    "loan['desc'].describe()"
   ]
  },
  {
   "cell_type": "code",
   "execution_count": 29,
   "metadata": {
    "execution": {
     "iopub.execute_input": "2021-07-21T13:53:03.285417Z",
     "iopub.status.busy": "2021-07-21T13:53:03.284931Z",
     "iopub.status.idle": "2021-07-21T13:53:03.339299Z",
     "shell.execute_reply": "2021-07-21T13:53:03.338372Z",
     "shell.execute_reply.started": "2021-07-21T13:53:03.285373Z"
    }
   },
   "outputs": [
    {
     "data": {
      "text/plain": [
       "99.0518234165067"
      ]
     },
     "execution_count": 29,
     "metadata": {},
     "output_type": "execute_result"
    }
   ],
   "source": [
    "(loan['desc'].describe()[1]/loan['desc'].describe()[0])*100"
   ]
  },
  {
   "cell_type": "markdown",
   "metadata": {},
   "source": [
    "> #### As 99% loan Description are unique and hence it can't be a influencing feature in loan approval process"
   ]
  },
  {
   "cell_type": "code",
   "execution_count": 30,
   "metadata": {
    "execution": {
     "iopub.execute_input": "2021-07-21T13:53:03.340832Z",
     "iopub.status.busy": "2021-07-21T13:53:03.340555Z",
     "iopub.status.idle": "2021-07-21T13:53:03.357060Z",
     "shell.execute_reply": "2021-07-21T13:53:03.356049Z",
     "shell.execute_reply.started": "2021-07-21T13:53:03.340805Z"
    }
   },
   "outputs": [
    {
     "data": {
      "text/plain": [
       "(38577, 46)"
      ]
     },
     "execution_count": 30,
     "metadata": {},
     "output_type": "execute_result"
    }
   ],
   "source": [
    "loan = loan.drop('desc',axis=1)\n",
    "loan.shape"
   ]
  },
  {
   "cell_type": "markdown",
   "metadata": {
    "execution": {
     "iopub.execute_input": "2021-07-20T16:54:18.961461Z",
     "iopub.status.busy": "2021-07-20T16:54:18.961020Z",
     "iopub.status.idle": "2021-07-20T16:54:18.965889Z",
     "shell.execute_reply": "2021-07-20T16:54:18.964866Z",
     "shell.execute_reply.started": "2021-07-20T16:54:18.961414Z"
    }
   },
   "source": [
    "#### Understanding emp_title\n",
    "emp_title :The job title supplied by the Borrower when applying for the loan."
   ]
  },
  {
   "cell_type": "code",
   "execution_count": 31,
   "metadata": {
    "execution": {
     "iopub.execute_input": "2021-07-21T13:53:03.359084Z",
     "iopub.status.busy": "2021-07-21T13:53:03.358263Z",
     "iopub.status.idle": "2021-07-21T13:53:03.369741Z",
     "shell.execute_reply": "2021-07-21T13:53:03.368826Z",
     "shell.execute_reply.started": "2021-07-21T13:53:03.359040Z"
    }
   },
   "outputs": [
    {
     "data": {
      "text/plain": [
       "5722                City of Rock Island\n",
       "21217                 Tech Credit Union\n",
       "12809        Guy Conti Art & Design Inc\n",
       "22268                               NaN\n",
       "27910              HJ High Construction\n",
       "21846            Silicon Graphics - SGI\n",
       "24964             INSTAP Academic Press\n",
       "30179                         WellPoint\n",
       "17565    Cornerstone Physician Staffing\n",
       "3344                             HP/EDS\n",
       "Name: emp_title, dtype: object"
      ]
     },
     "execution_count": 31,
     "metadata": {},
     "output_type": "execute_result"
    }
   ],
   "source": [
    "loan['emp_title'].sample(10)"
   ]
  },
  {
   "cell_type": "code",
   "execution_count": 32,
   "metadata": {
    "execution": {
     "iopub.execute_input": "2021-07-21T13:53:03.372716Z",
     "iopub.status.busy": "2021-07-21T13:53:03.372439Z",
     "iopub.status.idle": "2021-07-21T13:53:03.406039Z",
     "shell.execute_reply": "2021-07-21T13:53:03.404825Z",
     "shell.execute_reply.started": "2021-07-21T13:53:03.372689Z"
    }
   },
   "outputs": [
    {
     "data": {
      "text/plain": [
       "US Army                          131\n",
       "Bank of America                  107\n",
       "IBM                               65\n",
       "AT&T                              57\n",
       "Kaiser Permanente                 56\n",
       "                                ... \n",
       "rudin managment                    1\n",
       "Education Technology Services      1\n",
       "Mojave Electric                    1\n",
       "Yamato Restaurant                  1\n",
       "KRK Holdings, Inc                  1\n",
       "Name: emp_title, Length: 28027, dtype: int64"
      ]
     },
     "execution_count": 32,
     "metadata": {},
     "output_type": "execute_result"
    }
   ],
   "source": [
    "loan['emp_title'].value_counts()"
   ]
  },
  {
   "cell_type": "code",
   "execution_count": 33,
   "metadata": {
    "execution": {
     "iopub.execute_input": "2021-07-21T13:53:03.407861Z",
     "iopub.status.busy": "2021-07-21T13:53:03.407480Z",
     "iopub.status.idle": "2021-07-21T13:53:03.437690Z",
     "shell.execute_reply": "2021-07-21T13:53:03.436671Z",
     "shell.execute_reply.started": "2021-07-21T13:53:03.407827Z"
    }
   },
   "outputs": [
    {
     "data": {
      "text/plain": [
       "count       36191\n",
       "unique      28027\n",
       "top       US Army\n",
       "freq          131\n",
       "Name: emp_title, dtype: object"
      ]
     },
     "execution_count": 33,
     "metadata": {},
     "output_type": "execute_result"
    }
   ],
   "source": [
    "loan['emp_title'].describe()"
   ]
  },
  {
   "cell_type": "code",
   "execution_count": 34,
   "metadata": {
    "execution": {
     "iopub.execute_input": "2021-07-21T13:53:03.439768Z",
     "iopub.status.busy": "2021-07-21T13:53:03.439391Z",
     "iopub.status.idle": "2021-07-21T13:53:03.484479Z",
     "shell.execute_reply": "2021-07-21T13:53:03.483290Z",
     "shell.execute_reply.started": "2021-07-21T13:53:03.439731Z"
    }
   },
   "outputs": [
    {
     "data": {
      "text/html": [
       "<div>\n",
       "<style scoped>\n",
       "    .dataframe tbody tr th:only-of-type {\n",
       "        vertical-align: middle;\n",
       "    }\n",
       "\n",
       "    .dataframe tbody tr th {\n",
       "        vertical-align: top;\n",
       "    }\n",
       "\n",
       "    .dataframe thead th {\n",
       "        text-align: right;\n",
       "    }\n",
       "</style>\n",
       "<table border=\"1\" class=\"dataframe\">\n",
       "  <thead>\n",
       "    <tr style=\"text-align: right;\">\n",
       "      <th></th>\n",
       "      <th>count</th>\n",
       "      <th>unique</th>\n",
       "      <th>top</th>\n",
       "      <th>freq</th>\n",
       "    </tr>\n",
       "    <tr>\n",
       "      <th>loan_status</th>\n",
       "      <th></th>\n",
       "      <th></th>\n",
       "      <th></th>\n",
       "      <th></th>\n",
       "    </tr>\n",
       "  </thead>\n",
       "  <tbody>\n",
       "    <tr>\n",
       "      <th>Charged Off</th>\n",
       "      <td>5143</td>\n",
       "      <td>4636</td>\n",
       "      <td>Bank of America</td>\n",
       "      <td>20</td>\n",
       "    </tr>\n",
       "    <tr>\n",
       "      <th>Fully Paid</th>\n",
       "      <td>31048</td>\n",
       "      <td>24209</td>\n",
       "      <td>US Army</td>\n",
       "      <td>113</td>\n",
       "    </tr>\n",
       "  </tbody>\n",
       "</table>\n",
       "</div>"
      ],
      "text/plain": [
       "             count unique              top freq\n",
       "loan_status                                    \n",
       "Charged Off   5143   4636  Bank of America   20\n",
       "Fully Paid   31048  24209          US Army  113"
      ]
     },
     "execution_count": 34,
     "metadata": {},
     "output_type": "execute_result"
    }
   ],
   "source": [
    "loan.groupby(['loan_status'])['emp_title'].describe()"
   ]
  },
  {
   "cell_type": "markdown",
   "metadata": {},
   "source": [
    "> #### As there are 28K+ unique values out of 36K+ and there is no significant impact by any specific employment title. Hence it can't be an influential feature in the loan approval process."
   ]
  },
  {
   "cell_type": "code",
   "execution_count": 35,
   "metadata": {
    "execution": {
     "iopub.execute_input": "2021-07-21T13:53:03.486002Z",
     "iopub.status.busy": "2021-07-21T13:53:03.485718Z",
     "iopub.status.idle": "2021-07-21T13:53:03.503145Z",
     "shell.execute_reply": "2021-07-21T13:53:03.501897Z",
     "shell.execute_reply.started": "2021-07-21T13:53:03.485974Z"
    }
   },
   "outputs": [
    {
     "data": {
      "text/plain": [
       "(38577, 45)"
      ]
     },
     "execution_count": 35,
     "metadata": {},
     "output_type": "execute_result"
    }
   ],
   "source": [
    "loan=loan.drop('emp_title', axis=1)\n",
    "loan.shape"
   ]
  },
  {
   "cell_type": "code",
   "execution_count": 36,
   "metadata": {
    "execution": {
     "iopub.execute_input": "2021-07-21T13:53:03.504579Z",
     "iopub.status.busy": "2021-07-21T13:53:03.504274Z",
     "iopub.status.idle": "2021-07-21T13:53:03.547340Z",
     "shell.execute_reply": "2021-07-21T13:53:03.546418Z",
     "shell.execute_reply.started": "2021-07-21T13:53:03.504550Z"
    }
   },
   "outputs": [
    {
     "data": {
      "text/plain": [
       "emp_length                    2.677761\n",
       "pub_rec_bankruptcies          1.806776\n",
       "chargeoff_within_12_mths      0.145164\n",
       "collections_12_mths_ex_med    0.145164\n",
       "tax_liens                     0.101097\n",
       "title                         0.028514\n",
       "total_rec_prncp               0.000000\n",
       "revol_bal                     0.000000\n",
       "total_acc                     0.000000\n",
       "initial_list_status           0.000000\n",
       "out_prncp                     0.000000\n",
       "out_prncp_inv                 0.000000\n",
       "total_pymnt_inv               0.000000\n",
       "recoveries                    0.000000\n",
       "total_rec_int                 0.000000\n",
       "total_rec_late_fee            0.000000\n",
       "open_acc                      0.000000\n",
       "collection_recovery_fee       0.000000\n",
       "policy_code                   0.000000\n",
       "application_type              0.000000\n",
       "acc_now_delinq                0.000000\n",
       "delinq_amnt                   0.000000\n",
       "pub_rec                       0.000000\n",
       "id                            0.000000\n",
       "inq_last_6mths                0.000000\n",
       "annual_inc                    0.000000\n",
       "loan_amnt                     0.000000\n",
       "funded_amnt                   0.000000\n",
       "funded_amnt_inv               0.000000\n",
       "term                          0.000000\n",
       "int_rate                      0.000000\n",
       "grade                         0.000000\n",
       "sub_grade                     0.000000\n",
       "home_ownership                0.000000\n",
       "verification_status           0.000000\n",
       "member_id                     0.000000\n",
       "issue_d                       0.000000\n",
       "loan_status                   0.000000\n",
       "pymnt_plan                    0.000000\n",
       "url                           0.000000\n",
       "purpose                       0.000000\n",
       "zip_code                      0.000000\n",
       "addr_state                    0.000000\n",
       "dti                           0.000000\n",
       "delinq_2yrs                   0.000000\n",
       "dtype: float64"
      ]
     },
     "execution_count": 36,
     "metadata": {},
     "output_type": "execute_result"
    }
   ],
   "source": [
    "((loan.isnull().sum()/len(loan))*100).sort_values(ascending= False)"
   ]
  },
  {
   "cell_type": "markdown",
   "metadata": {
    "execution": {
     "iopub.execute_input": "2021-07-20T16:54:19.228744Z",
     "iopub.status.busy": "2021-07-20T16:54:19.228417Z",
     "iopub.status.idle": "2021-07-20T16:54:19.233279Z",
     "shell.execute_reply": "2021-07-20T16:54:19.232220Z",
     "shell.execute_reply.started": "2021-07-20T16:54:19.228711Z"
    }
   },
   "source": [
    "#### understanding emp_length feature\n",
    "emp_length: Employment length in years. Possible values are between 0 and 10 where 0 means less than one year and 10 means ten or more years. "
   ]
  },
  {
   "cell_type": "code",
   "execution_count": 37,
   "metadata": {
    "execution": {
     "iopub.execute_input": "2021-07-21T13:53:03.549177Z",
     "iopub.status.busy": "2021-07-21T13:53:03.548764Z",
     "iopub.status.idle": "2021-07-21T13:53:03.579735Z",
     "shell.execute_reply": "2021-07-21T13:53:03.578592Z",
     "shell.execute_reply.started": "2021-07-21T13:53:03.549132Z"
    }
   },
   "outputs": [
    {
     "data": {
      "text/html": [
       "<div>\n",
       "<style scoped>\n",
       "    .dataframe tbody tr th:only-of-type {\n",
       "        vertical-align: middle;\n",
       "    }\n",
       "\n",
       "    .dataframe tbody tr th {\n",
       "        vertical-align: top;\n",
       "    }\n",
       "\n",
       "    .dataframe thead th {\n",
       "        text-align: right;\n",
       "    }\n",
       "</style>\n",
       "<table border=\"1\" class=\"dataframe\">\n",
       "  <thead>\n",
       "    <tr style=\"text-align: right;\">\n",
       "      <th></th>\n",
       "      <th>count</th>\n",
       "      <th>unique</th>\n",
       "      <th>top</th>\n",
       "      <th>freq</th>\n",
       "    </tr>\n",
       "    <tr>\n",
       "      <th>loan_status</th>\n",
       "      <th></th>\n",
       "      <th></th>\n",
       "      <th></th>\n",
       "      <th></th>\n",
       "    </tr>\n",
       "  </thead>\n",
       "  <tbody>\n",
       "    <tr>\n",
       "      <th>Charged Off</th>\n",
       "      <td>5399</td>\n",
       "      <td>11</td>\n",
       "      <td>10+ years</td>\n",
       "      <td>1331</td>\n",
       "    </tr>\n",
       "    <tr>\n",
       "      <th>Fully Paid</th>\n",
       "      <td>32145</td>\n",
       "      <td>11</td>\n",
       "      <td>10+ years</td>\n",
       "      <td>7157</td>\n",
       "    </tr>\n",
       "  </tbody>\n",
       "</table>\n",
       "</div>"
      ],
      "text/plain": [
       "             count unique        top  freq\n",
       "loan_status                               \n",
       "Charged Off   5399     11  10+ years  1331\n",
       "Fully Paid   32145     11  10+ years  7157"
      ]
     },
     "execution_count": 37,
     "metadata": {},
     "output_type": "execute_result"
    }
   ],
   "source": [
    "loan.groupby(['loan_status'])['emp_length'].describe()"
   ]
  },
  {
   "cell_type": "code",
   "execution_count": 38,
   "metadata": {
    "execution": {
     "iopub.execute_input": "2021-07-21T13:53:03.581603Z",
     "iopub.status.busy": "2021-07-21T13:53:03.581174Z",
     "iopub.status.idle": "2021-07-21T13:53:03.594000Z",
     "shell.execute_reply": "2021-07-21T13:53:03.593050Z",
     "shell.execute_reply.started": "2021-07-21T13:53:03.581559Z"
    }
   },
   "outputs": [
    {
     "data": {
      "text/plain": [
       "10+ years    8488\n",
       "< 1 year     4508\n",
       "2 years      4291\n",
       "3 years      4012\n",
       "4 years      3342\n",
       "5 years      3194\n",
       "1 year       3169\n",
       "6 years      2168\n",
       "7 years      1711\n",
       "8 years      1435\n",
       "9 years      1226\n",
       "Name: emp_length, dtype: int64"
      ]
     },
     "execution_count": 38,
     "metadata": {},
     "output_type": "execute_result"
    }
   ],
   "source": [
    "loan['emp_length'].value_counts()"
   ]
  },
  {
   "cell_type": "code",
   "execution_count": 39,
   "metadata": {
    "execution": {
     "iopub.execute_input": "2021-07-21T13:53:03.595733Z",
     "iopub.status.busy": "2021-07-21T13:53:03.595299Z",
     "iopub.status.idle": "2021-07-21T13:53:03.778937Z",
     "shell.execute_reply": "2021-07-21T13:53:03.777618Z",
     "shell.execute_reply.started": "2021-07-21T13:53:03.595694Z"
    }
   },
   "outputs": [
    {
     "data": {
      "image/png": "[encoded data removed]",
      "text/plain": [
       "<Figure size 432x288 with 1 Axes>"
      ]
     },
     "metadata": {
      "needs_background": "light"
     },
     "output_type": "display_data"
    }
   ],
   "source": [
    "loan['emp_length'].value_counts().plot.bar()\n",
    "plt.show()"
   ]
  },
  {
   "cell_type": "code",
   "execution_count": 40,
   "metadata": {
    "execution": {
     "iopub.execute_input": "2021-07-21T13:53:03.781685Z",
     "iopub.status.busy": "2021-07-21T13:53:03.781229Z",
     "iopub.status.idle": "2021-07-21T13:53:03.788009Z",
     "shell.execute_reply": "2021-07-21T13:53:03.787017Z",
     "shell.execute_reply.started": "2021-07-21T13:53:03.781650Z"
    }
   },
   "outputs": [
    {
     "data": {
      "text/plain": [
       "38577"
      ]
     },
     "execution_count": 40,
     "metadata": {},
     "output_type": "execute_result"
    }
   ],
   "source": [
    "len(loan['loan_status'])"
   ]
  },
  {
   "cell_type": "code",
   "execution_count": 41,
   "metadata": {
    "execution": {
     "iopub.execute_input": "2021-07-21T13:53:03.789994Z",
     "iopub.status.busy": "2021-07-21T13:53:03.789582Z",
     "iopub.status.idle": "2021-07-21T13:53:03.819693Z",
     "shell.execute_reply": "2021-07-21T13:53:03.818609Z",
     "shell.execute_reply.started": "2021-07-21T13:53:03.789943Z"
    }
   },
   "outputs": [
    {
     "data": {
      "text/plain": [
       "loan_status  emp_length\n",
       "Charged Off  10+ years     15.680961\n",
       "             < 1 year      14.174800\n",
       "             2 years       13.213703\n",
       "             3 years       13.833500\n",
       "             4 years       13.824057\n",
       "             5 years       14.339386\n",
       "             1 year        14.389397\n",
       "             6 years       14.160517\n",
       "             7 years       15.371128\n",
       "             8 years       14.146341\n",
       "             9 years       12.887439\n",
       "Fully Paid   10+ years     84.319039\n",
       "             < 1 year      85.825200\n",
       "             2 years       86.786297\n",
       "             3 years       86.166500\n",
       "             4 years       86.175943\n",
       "             5 years       85.660614\n",
       "             1 year        85.610603\n",
       "             6 years       85.839483\n",
       "             7 years       84.628872\n",
       "             8 years       85.853659\n",
       "             9 years       87.112561\n",
       "dtype: float64"
      ]
     },
     "execution_count": 41,
     "metadata": {},
     "output_type": "execute_result"
    }
   ],
   "source": [
    "(loan.groupby(['loan_status'])['emp_length'].value_counts()/loan.groupby(['emp_length'])['loan_status'].count())*100"
   ]
  },
  {
   "cell_type": "code",
   "execution_count": 123,
   "metadata": {
    "execution": {
     "iopub.execute_input": "2021-07-21T14:19:20.791466Z",
     "iopub.status.busy": "2021-07-21T14:19:20.791090Z",
     "iopub.status.idle": "2021-07-21T14:19:21.111574Z",
     "shell.execute_reply": "2021-07-21T14:19:21.110410Z",
     "shell.execute_reply.started": "2021-07-21T14:19:20.791432Z"
    }
   },
   "outputs": [
    {
     "data": {
      "image/png": "[encoded data removed]",
      "text/plain": [
       "<Figure size 1008x432 with 1 Axes>"
      ]
     },
     "metadata": {
      "needs_background": "light"
     },
     "output_type": "display_data"
    }
   ],
   "source": [
    "plots=loan.groupby('emp_length')['loan_status'].value_counts().unstack()\\\n",
    ".apply(lambda x:x*100/x.sum(),axis=1).plot(kind='bar',stacked=True,figsize=(14,6))\n",
    "for bar in plots.patches:\n",
    "    plots.annotate(format(bar.get_height(), '.2f')+'%', \n",
    "                       (bar.get_x() + bar.get_width() / 2, \n",
    "                        bar.get_height()), ha='center', va='center',\n",
    "                       size=12, xytext=(2, -10),\n",
    "                       textcoords='offset points')\n",
    "plt.xticks(rotation=60)\n",
    "plt.ylabel(\"Proportion\")\n",
    "plt.legend(loc='upper right')\n",
    "plt.title(\"Grade,Loan Status Vs Proportion\")\n",
    "plt.xlabel('Employement Length')\n",
    "plt.show()"
   ]
  },
  {
   "cell_type": "markdown",
   "metadata": {},
   "source": [
    "* #### As we can see the Employment length having 10+ Years are more likely to Charged off. Hence Lending club should examine carefully before approving the Loan to them.\n"
   ]
  },
  {
   "cell_type": "code",
   "execution_count": 43,
   "metadata": {
    "execution": {
     "iopub.execute_input": "2021-07-21T13:53:04.117881Z",
     "iopub.status.busy": "2021-07-21T13:53:04.117594Z",
     "iopub.status.idle": "2021-07-21T13:53:04.164077Z",
     "shell.execute_reply": "2021-07-21T13:53:04.162812Z",
     "shell.execute_reply.started": "2021-07-21T13:53:04.117855Z"
    }
   },
   "outputs": [
    {
     "name": "stdout",
     "output_type": "stream",
     "text": [
      "<class 'pandas.core.frame.DataFrame'>\n",
      "Int64Index: 38577 entries, 0 to 39716\n",
      "Data columns (total 45 columns):\n",
      " #   Column                      Non-Null Count  Dtype  \n",
      "---  ------                      --------------  -----  \n",
      " 0   id                          38577 non-null  int64  \n",
      " 1   member_id                   38577 non-null  int64  \n",
      " 2   loan_amnt                   38577 non-null  int64  \n",
      " 3   funded_amnt                 38577 non-null  int64  \n",
      " 4   funded_amnt_inv             38577 non-null  float64\n",
      " 5   term                        38577 non-null  object \n",
      " 6   int_rate                    38577 non-null  object \n",
      " 7   grade                       38577 non-null  object \n",
      " 8   sub_grade                   38577 non-null  object \n",
      " 9   emp_length                  37544 non-null  object \n",
      " 10  home_ownership              38577 non-null  object \n",
      " 11  annual_inc                  38577 non-null  float64\n",
      " 12  verification_status         38577 non-null  object \n",
      " 13  issue_d                     38577 non-null  object \n",
      " 14  loan_status                 38577 non-null  object \n",
      " 15  pymnt_plan                  38577 non-null  object \n",
      " 16  url                         38577 non-null  object \n",
      " 17  purpose                     38577 non-null  object \n",
      " 18  title                       38566 non-null  object \n",
      " 19  zip_code                    38577 non-null  object \n",
      " 20  addr_state                  38577 non-null  object \n",
      " 21  dti                         38577 non-null  float64\n",
      " 22  delinq_2yrs                 38577 non-null  int64  \n",
      " 23  inq_last_6mths              38577 non-null  int64  \n",
      " 24  open_acc                    38577 non-null  int64  \n",
      " 25  pub_rec                     38577 non-null  int64  \n",
      " 26  revol_bal                   38577 non-null  int64  \n",
      " 27  total_acc                   38577 non-null  int64  \n",
      " 28  initial_list_status         38577 non-null  object \n",
      " 29  out_prncp                   38577 non-null  float64\n",
      " 30  out_prncp_inv               38577 non-null  float64\n",
      " 31  total_pymnt_inv             38577 non-null  float64\n",
      " 32  total_rec_prncp             38577 non-null  float64\n",
      " 33  total_rec_int               38577 non-null  float64\n",
      " 34  total_rec_late_fee          38577 non-null  float64\n",
      " 35  recoveries                  38577 non-null  float64\n",
      " 36  collection_recovery_fee     38577 non-null  float64\n",
      " 37  collections_12_mths_ex_med  38521 non-null  float64\n",
      " 38  policy_code                 38577 non-null  int64  \n",
      " 39  application_type            38577 non-null  object \n",
      " 40  acc_now_delinq              38577 non-null  int64  \n",
      " 41  chargeoff_within_12_mths    38521 non-null  float64\n",
      " 42  delinq_amnt                 38577 non-null  int64  \n",
      " 43  pub_rec_bankruptcies        37880 non-null  float64\n",
      " 44  tax_liens                   38538 non-null  float64\n",
      "dtypes: float64(15), int64(13), object(17)\n",
      "memory usage: 13.5+ MB\n"
     ]
    }
   ],
   "source": [
    "loan.info()"
   ]
  },
  {
   "cell_type": "code",
   "execution_count": 44,
   "metadata": {
    "execution": {
     "iopub.execute_input": "2021-07-21T13:53:04.165861Z",
     "iopub.status.busy": "2021-07-21T13:53:04.165562Z",
     "iopub.status.idle": "2021-07-21T13:53:04.293805Z",
     "shell.execute_reply": "2021-07-21T13:53:04.292674Z",
     "shell.execute_reply.started": "2021-07-21T13:53:04.165833Z"
    }
   },
   "outputs": [
    {
     "data": {
      "text/html": [
       "<div>\n",
       "<style scoped>\n",
       "    .dataframe tbody tr th:only-of-type {\n",
       "        vertical-align: middle;\n",
       "    }\n",
       "\n",
       "    .dataframe tbody tr th {\n",
       "        vertical-align: top;\n",
       "    }\n",
       "\n",
       "    .dataframe thead th {\n",
       "        text-align: right;\n",
       "    }\n",
       "</style>\n",
       "<table border=\"1\" class=\"dataframe\">\n",
       "  <thead>\n",
       "    <tr style=\"text-align: right;\">\n",
       "      <th></th>\n",
       "      <th>id</th>\n",
       "      <th>member_id</th>\n",
       "      <th>loan_amnt</th>\n",
       "      <th>funded_amnt</th>\n",
       "      <th>funded_amnt_inv</th>\n",
       "      <th>annual_inc</th>\n",
       "      <th>dti</th>\n",
       "      <th>delinq_2yrs</th>\n",
       "      <th>inq_last_6mths</th>\n",
       "      <th>open_acc</th>\n",
       "      <th>...</th>\n",
       "      <th>total_rec_late_fee</th>\n",
       "      <th>recoveries</th>\n",
       "      <th>collection_recovery_fee</th>\n",
       "      <th>collections_12_mths_ex_med</th>\n",
       "      <th>policy_code</th>\n",
       "      <th>acc_now_delinq</th>\n",
       "      <th>chargeoff_within_12_mths</th>\n",
       "      <th>delinq_amnt</th>\n",
       "      <th>pub_rec_bankruptcies</th>\n",
       "      <th>tax_liens</th>\n",
       "    </tr>\n",
       "  </thead>\n",
       "  <tbody>\n",
       "    <tr>\n",
       "      <th>id</th>\n",
       "      <td>1.000000</td>\n",
       "      <td>0.993534</td>\n",
       "      <td>0.120614</td>\n",
       "      <td>0.131283</td>\n",
       "      <td>0.231603</td>\n",
       "      <td>0.005572</td>\n",
       "      <td>0.091785</td>\n",
       "      <td>-0.008417</td>\n",
       "      <td>-0.041021</td>\n",
       "      <td>0.016256</td>\n",
       "      <td>...</td>\n",
       "      <td>-0.055789</td>\n",
       "      <td>0.038686</td>\n",
       "      <td>-0.010916</td>\n",
       "      <td>NaN</td>\n",
       "      <td>NaN</td>\n",
       "      <td>NaN</td>\n",
       "      <td>NaN</td>\n",
       "      <td>NaN</td>\n",
       "      <td>-0.007997</td>\n",
       "      <td>NaN</td>\n",
       "    </tr>\n",
       "    <tr>\n",
       "      <th>member_id</th>\n",
       "      <td>0.993534</td>\n",
       "      <td>1.000000</td>\n",
       "      <td>0.120393</td>\n",
       "      <td>0.130307</td>\n",
       "      <td>0.241324</td>\n",
       "      <td>0.006442</td>\n",
       "      <td>0.092910</td>\n",
       "      <td>-0.007905</td>\n",
       "      <td>-0.045879</td>\n",
       "      <td>0.013804</td>\n",
       "      <td>...</td>\n",
       "      <td>-0.058497</td>\n",
       "      <td>0.036526</td>\n",
       "      <td>-0.012831</td>\n",
       "      <td>NaN</td>\n",
       "      <td>NaN</td>\n",
       "      <td>NaN</td>\n",
       "      <td>NaN</td>\n",
       "      <td>NaN</td>\n",
       "      <td>-0.007346</td>\n",
       "      <td>NaN</td>\n",
       "    </tr>\n",
       "    <tr>\n",
       "      <th>loan_amnt</th>\n",
       "      <td>0.120614</td>\n",
       "      <td>0.120393</td>\n",
       "      <td>1.000000</td>\n",
       "      <td>0.981790</td>\n",
       "      <td>0.937922</td>\n",
       "      <td>0.268999</td>\n",
       "      <td>0.062436</td>\n",
       "      <td>-0.031951</td>\n",
       "      <td>0.012940</td>\n",
       "      <td>0.177200</td>\n",
       "      <td>...</td>\n",
       "      <td>0.047103</td>\n",
       "      <td>0.142789</td>\n",
       "      <td>0.077005</td>\n",
       "      <td>NaN</td>\n",
       "      <td>NaN</td>\n",
       "      <td>NaN</td>\n",
       "      <td>NaN</td>\n",
       "      <td>NaN</td>\n",
       "      <td>-0.035981</td>\n",
       "      <td>NaN</td>\n",
       "    </tr>\n",
       "    <tr>\n",
       "      <th>funded_amnt</th>\n",
       "      <td>0.131283</td>\n",
       "      <td>0.130307</td>\n",
       "      <td>0.981790</td>\n",
       "      <td>1.000000</td>\n",
       "      <td>0.956172</td>\n",
       "      <td>0.264798</td>\n",
       "      <td>0.062194</td>\n",
       "      <td>-0.031866</td>\n",
       "      <td>0.012857</td>\n",
       "      <td>0.175682</td>\n",
       "      <td>...</td>\n",
       "      <td>0.049465</td>\n",
       "      <td>0.143452</td>\n",
       "      <td>0.078769</td>\n",
       "      <td>NaN</td>\n",
       "      <td>NaN</td>\n",
       "      <td>NaN</td>\n",
       "      <td>NaN</td>\n",
       "      <td>NaN</td>\n",
       "      <td>-0.036995</td>\n",
       "      <td>NaN</td>\n",
       "    </tr>\n",
       "    <tr>\n",
       "      <th>funded_amnt_inv</th>\n",
       "      <td>0.231603</td>\n",
       "      <td>0.241324</td>\n",
       "      <td>0.937922</td>\n",
       "      <td>0.956172</td>\n",
       "      <td>1.000000</td>\n",
       "      <td>0.251981</td>\n",
       "      <td>0.070663</td>\n",
       "      <td>-0.038171</td>\n",
       "      <td>-0.002800</td>\n",
       "      <td>0.162738</td>\n",
       "      <td>...</td>\n",
       "      <td>0.029379</td>\n",
       "      <td>0.130997</td>\n",
       "      <td>0.064282</td>\n",
       "      <td>NaN</td>\n",
       "      <td>NaN</td>\n",
       "      <td>NaN</td>\n",
       "      <td>NaN</td>\n",
       "      <td>NaN</td>\n",
       "      <td>-0.041193</td>\n",
       "      <td>NaN</td>\n",
       "    </tr>\n",
       "    <tr>\n",
       "      <th>annual_inc</th>\n",
       "      <td>0.005572</td>\n",
       "      <td>0.006442</td>\n",
       "      <td>0.268999</td>\n",
       "      <td>0.264798</td>\n",
       "      <td>0.251981</td>\n",
       "      <td>1.000000</td>\n",
       "      <td>-0.121530</td>\n",
       "      <td>0.022229</td>\n",
       "      <td>0.035465</td>\n",
       "      <td>0.156927</td>\n",
       "      <td>...</td>\n",
       "      <td>0.006814</td>\n",
       "      <td>0.022184</td>\n",
       "      <td>0.015981</td>\n",
       "      <td>NaN</td>\n",
       "      <td>NaN</td>\n",
       "      <td>NaN</td>\n",
       "      <td>NaN</td>\n",
       "      <td>NaN</td>\n",
       "      <td>-0.016224</td>\n",
       "      <td>NaN</td>\n",
       "    </tr>\n",
       "    <tr>\n",
       "      <th>dti</th>\n",
       "      <td>0.091785</td>\n",
       "      <td>0.092910</td>\n",
       "      <td>0.062436</td>\n",
       "      <td>0.062194</td>\n",
       "      <td>0.070663</td>\n",
       "      <td>-0.121530</td>\n",
       "      <td>1.000000</td>\n",
       "      <td>-0.033347</td>\n",
       "      <td>0.002178</td>\n",
       "      <td>0.287849</td>\n",
       "      <td>...</td>\n",
       "      <td>-0.011412</td>\n",
       "      <td>0.026162</td>\n",
       "      <td>0.011744</td>\n",
       "      <td>NaN</td>\n",
       "      <td>NaN</td>\n",
       "      <td>NaN</td>\n",
       "      <td>NaN</td>\n",
       "      <td>NaN</td>\n",
       "      <td>0.005966</td>\n",
       "      <td>NaN</td>\n",
       "    </tr>\n",
       "    <tr>\n",
       "      <th>delinq_2yrs</th>\n",
       "      <td>-0.008417</td>\n",
       "      <td>-0.007905</td>\n",
       "      <td>-0.031951</td>\n",
       "      <td>-0.031866</td>\n",
       "      <td>-0.038171</td>\n",
       "      <td>0.022229</td>\n",
       "      <td>-0.033347</td>\n",
       "      <td>1.000000</td>\n",
       "      <td>0.008733</td>\n",
       "      <td>0.011649</td>\n",
       "      <td>...</td>\n",
       "      <td>0.028772</td>\n",
       "      <td>0.012443</td>\n",
       "      <td>0.014077</td>\n",
       "      <td>NaN</td>\n",
       "      <td>NaN</td>\n",
       "      <td>NaN</td>\n",
       "      <td>NaN</td>\n",
       "      <td>NaN</td>\n",
       "      <td>0.003404</td>\n",
       "      <td>NaN</td>\n",
       "    </tr>\n",
       "    <tr>\n",
       "      <th>inq_last_6mths</th>\n",
       "      <td>-0.041021</td>\n",
       "      <td>-0.045879</td>\n",
       "      <td>0.012940</td>\n",
       "      <td>0.012857</td>\n",
       "      <td>-0.002800</td>\n",
       "      <td>0.035465</td>\n",
       "      <td>0.002178</td>\n",
       "      <td>0.008733</td>\n",
       "      <td>1.000000</td>\n",
       "      <td>0.093434</td>\n",
       "      <td>...</td>\n",
       "      <td>0.030741</td>\n",
       "      <td>0.018899</td>\n",
       "      <td>0.012388</td>\n",
       "      <td>NaN</td>\n",
       "      <td>NaN</td>\n",
       "      <td>NaN</td>\n",
       "      <td>NaN</td>\n",
       "      <td>NaN</td>\n",
       "      <td>0.015517</td>\n",
       "      <td>NaN</td>\n",
       "    </tr>\n",
       "    <tr>\n",
       "      <th>open_acc</th>\n",
       "      <td>0.016256</td>\n",
       "      <td>0.013804</td>\n",
       "      <td>0.177200</td>\n",
       "      <td>0.175682</td>\n",
       "      <td>0.162738</td>\n",
       "      <td>0.156927</td>\n",
       "      <td>0.287849</td>\n",
       "      <td>0.011649</td>\n",
       "      <td>0.093434</td>\n",
       "      <td>1.000000</td>\n",
       "      <td>...</td>\n",
       "      <td>-0.018827</td>\n",
       "      <td>0.017241</td>\n",
       "      <td>0.006674</td>\n",
       "      <td>NaN</td>\n",
       "      <td>NaN</td>\n",
       "      <td>NaN</td>\n",
       "      <td>NaN</td>\n",
       "      <td>NaN</td>\n",
       "      <td>0.005803</td>\n",
       "      <td>NaN</td>\n",
       "    </tr>\n",
       "    <tr>\n",
       "      <th>pub_rec</th>\n",
       "      <td>-0.017683</td>\n",
       "      <td>-0.017066</td>\n",
       "      <td>-0.049997</td>\n",
       "      <td>-0.050576</td>\n",
       "      <td>-0.051470</td>\n",
       "      <td>-0.017864</td>\n",
       "      <td>-0.004742</td>\n",
       "      <td>0.007623</td>\n",
       "      <td>0.023726</td>\n",
       "      <td>0.000028</td>\n",
       "      <td>...</td>\n",
       "      <td>-0.002108</td>\n",
       "      <td>-0.005800</td>\n",
       "      <td>-0.005731</td>\n",
       "      <td>NaN</td>\n",
       "      <td>NaN</td>\n",
       "      <td>NaN</td>\n",
       "      <td>NaN</td>\n",
       "      <td>NaN</td>\n",
       "      <td>0.845938</td>\n",
       "      <td>NaN</td>\n",
       "    </tr>\n",
       "    <tr>\n",
       "      <th>revol_bal</th>\n",
       "      <td>0.001357</td>\n",
       "      <td>-0.001983</td>\n",
       "      <td>0.314022</td>\n",
       "      <td>0.306501</td>\n",
       "      <td>0.286265</td>\n",
       "      <td>0.277374</td>\n",
       "      <td>0.228090</td>\n",
       "      <td>-0.054437</td>\n",
       "      <td>-0.020787</td>\n",
       "      <td>0.288055</td>\n",
       "      <td>...</td>\n",
       "      <td>0.005853</td>\n",
       "      <td>0.043593</td>\n",
       "      <td>0.023254</td>\n",
       "      <td>NaN</td>\n",
       "      <td>NaN</td>\n",
       "      <td>NaN</td>\n",
       "      <td>NaN</td>\n",
       "      <td>NaN</td>\n",
       "      <td>-0.048572</td>\n",
       "      <td>NaN</td>\n",
       "    </tr>\n",
       "    <tr>\n",
       "      <th>total_acc</th>\n",
       "      <td>0.039902</td>\n",
       "      <td>0.042217</td>\n",
       "      <td>0.256179</td>\n",
       "      <td>0.250551</td>\n",
       "      <td>0.242715</td>\n",
       "      <td>0.234534</td>\n",
       "      <td>0.229119</td>\n",
       "      <td>0.066994</td>\n",
       "      <td>0.113516</td>\n",
       "      <td>0.687260</td>\n",
       "      <td>...</td>\n",
       "      <td>-0.024376</td>\n",
       "      <td>0.024024</td>\n",
       "      <td>0.010952</td>\n",
       "      <td>NaN</td>\n",
       "      <td>NaN</td>\n",
       "      <td>NaN</td>\n",
       "      <td>NaN</td>\n",
       "      <td>NaN</td>\n",
       "      <td>-0.011060</td>\n",
       "      <td>NaN</td>\n",
       "    </tr>\n",
       "    <tr>\n",
       "      <th>out_prncp</th>\n",
       "      <td>NaN</td>\n",
       "      <td>NaN</td>\n",
       "      <td>NaN</td>\n",
       "      <td>NaN</td>\n",
       "      <td>NaN</td>\n",
       "      <td>NaN</td>\n",
       "      <td>NaN</td>\n",
       "      <td>NaN</td>\n",
       "      <td>NaN</td>\n",
       "      <td>NaN</td>\n",
       "      <td>...</td>\n",
       "      <td>NaN</td>\n",
       "      <td>NaN</td>\n",
       "      <td>NaN</td>\n",
       "      <td>NaN</td>\n",
       "      <td>NaN</td>\n",
       "      <td>NaN</td>\n",
       "      <td>NaN</td>\n",
       "      <td>NaN</td>\n",
       "      <td>NaN</td>\n",
       "      <td>NaN</td>\n",
       "    </tr>\n",
       "    <tr>\n",
       "      <th>out_prncp_inv</th>\n",
       "      <td>NaN</td>\n",
       "      <td>NaN</td>\n",
       "      <td>NaN</td>\n",
       "      <td>NaN</td>\n",
       "      <td>NaN</td>\n",
       "      <td>NaN</td>\n",
       "      <td>NaN</td>\n",
       "      <td>NaN</td>\n",
       "      <td>NaN</td>\n",
       "      <td>NaN</td>\n",
       "      <td>...</td>\n",
       "      <td>NaN</td>\n",
       "      <td>NaN</td>\n",
       "      <td>NaN</td>\n",
       "      <td>NaN</td>\n",
       "      <td>NaN</td>\n",
       "      <td>NaN</td>\n",
       "      <td>NaN</td>\n",
       "      <td>NaN</td>\n",
       "      <td>NaN</td>\n",
       "      <td>NaN</td>\n",
       "    </tr>\n",
       "    <tr>\n",
       "      <th>total_pymnt_inv</th>\n",
       "      <td>0.194832</td>\n",
       "      <td>0.205195</td>\n",
       "      <td>0.847635</td>\n",
       "      <td>0.864501</td>\n",
       "      <td>0.909127</td>\n",
       "      <td>0.245198</td>\n",
       "      <td>0.066277</td>\n",
       "      <td>-0.029608</td>\n",
       "      <td>-0.018589</td>\n",
       "      <td>0.152008</td>\n",
       "      <td>...</td>\n",
       "      <td>-0.000048</td>\n",
       "      <td>0.023406</td>\n",
       "      <td>0.018542</td>\n",
       "      <td>NaN</td>\n",
       "      <td>NaN</td>\n",
       "      <td>NaN</td>\n",
       "      <td>NaN</td>\n",
       "      <td>NaN</td>\n",
       "      <td>-0.046436</td>\n",
       "      <td>NaN</td>\n",
       "    </tr>\n",
       "    <tr>\n",
       "      <th>total_rec_prncp</th>\n",
       "      <td>0.092979</td>\n",
       "      <td>0.093773</td>\n",
       "      <td>0.845870</td>\n",
       "      <td>0.864082</td>\n",
       "      <td>0.838587</td>\n",
       "      <td>0.256848</td>\n",
       "      <td>0.036755</td>\n",
       "      <td>-0.038447</td>\n",
       "      <td>-0.021328</td>\n",
       "      <td>0.159997</td>\n",
       "      <td>...</td>\n",
       "      <td>-0.019563</td>\n",
       "      <td>-0.094106</td>\n",
       "      <td>-0.058224</td>\n",
       "      <td>NaN</td>\n",
       "      <td>NaN</td>\n",
       "      <td>NaN</td>\n",
       "      <td>NaN</td>\n",
       "      <td>NaN</td>\n",
       "      <td>-0.053316</td>\n",
       "      <td>NaN</td>\n",
       "    </tr>\n",
       "    <tr>\n",
       "      <th>total_rec_int</th>\n",
       "      <td>0.123268</td>\n",
       "      <td>0.126660</td>\n",
       "      <td>0.728343</td>\n",
       "      <td>0.736654</td>\n",
       "      <td>0.726736</td>\n",
       "      <td>0.185056</td>\n",
       "      <td>0.103104</td>\n",
       "      <td>0.023778</td>\n",
       "      <td>0.026549</td>\n",
       "      <td>0.123478</td>\n",
       "      <td>...</td>\n",
       "      <td>0.077506</td>\n",
       "      <td>0.092178</td>\n",
       "      <td>0.041989</td>\n",
       "      <td>NaN</td>\n",
       "      <td>NaN</td>\n",
       "      <td>NaN</td>\n",
       "      <td>NaN</td>\n",
       "      <td>NaN</td>\n",
       "      <td>-0.001412</td>\n",
       "      <td>NaN</td>\n",
       "    </tr>\n",
       "    <tr>\n",
       "      <th>total_rec_late_fee</th>\n",
       "      <td>-0.055789</td>\n",
       "      <td>-0.058497</td>\n",
       "      <td>0.047103</td>\n",
       "      <td>0.049465</td>\n",
       "      <td>0.029379</td>\n",
       "      <td>0.006814</td>\n",
       "      <td>-0.011412</td>\n",
       "      <td>0.028772</td>\n",
       "      <td>0.030741</td>\n",
       "      <td>-0.018827</td>\n",
       "      <td>...</td>\n",
       "      <td>1.000000</td>\n",
       "      <td>0.100952</td>\n",
       "      <td>0.094155</td>\n",
       "      <td>NaN</td>\n",
       "      <td>NaN</td>\n",
       "      <td>NaN</td>\n",
       "      <td>NaN</td>\n",
       "      <td>NaN</td>\n",
       "      <td>-0.005759</td>\n",
       "      <td>NaN</td>\n",
       "    </tr>\n",
       "    <tr>\n",
       "      <th>recoveries</th>\n",
       "      <td>0.038686</td>\n",
       "      <td>0.036526</td>\n",
       "      <td>0.142789</td>\n",
       "      <td>0.143452</td>\n",
       "      <td>0.130997</td>\n",
       "      <td>0.022184</td>\n",
       "      <td>0.026162</td>\n",
       "      <td>0.012443</td>\n",
       "      <td>0.018899</td>\n",
       "      <td>0.017241</td>\n",
       "      <td>...</td>\n",
       "      <td>0.100952</td>\n",
       "      <td>1.000000</td>\n",
       "      <td>0.796782</td>\n",
       "      <td>NaN</td>\n",
       "      <td>NaN</td>\n",
       "      <td>NaN</td>\n",
       "      <td>NaN</td>\n",
       "      <td>NaN</td>\n",
       "      <td>-0.004866</td>\n",
       "      <td>NaN</td>\n",
       "    </tr>\n",
       "    <tr>\n",
       "      <th>collection_recovery_fee</th>\n",
       "      <td>-0.010916</td>\n",
       "      <td>-0.012831</td>\n",
       "      <td>0.077005</td>\n",
       "      <td>0.078769</td>\n",
       "      <td>0.064282</td>\n",
       "      <td>0.015981</td>\n",
       "      <td>0.011744</td>\n",
       "      <td>0.014077</td>\n",
       "      <td>0.012388</td>\n",
       "      <td>0.006674</td>\n",
       "      <td>...</td>\n",
       "      <td>0.094155</td>\n",
       "      <td>0.796782</td>\n",
       "      <td>1.000000</td>\n",
       "      <td>NaN</td>\n",
       "      <td>NaN</td>\n",
       "      <td>NaN</td>\n",
       "      <td>NaN</td>\n",
       "      <td>NaN</td>\n",
       "      <td>-0.005370</td>\n",
       "      <td>NaN</td>\n",
       "    </tr>\n",
       "    <tr>\n",
       "      <th>collections_12_mths_ex_med</th>\n",
       "      <td>NaN</td>\n",
       "      <td>NaN</td>\n",
       "      <td>NaN</td>\n",
       "      <td>NaN</td>\n",
       "      <td>NaN</td>\n",
       "      <td>NaN</td>\n",
       "      <td>NaN</td>\n",
       "      <td>NaN</td>\n",
       "      <td>NaN</td>\n",
       "      <td>NaN</td>\n",
       "      <td>...</td>\n",
       "      <td>NaN</td>\n",
       "      <td>NaN</td>\n",
       "      <td>NaN</td>\n",
       "      <td>NaN</td>\n",
       "      <td>NaN</td>\n",
       "      <td>NaN</td>\n",
       "      <td>NaN</td>\n",
       "      <td>NaN</td>\n",
       "      <td>NaN</td>\n",
       "      <td>NaN</td>\n",
       "    </tr>\n",
       "    <tr>\n",
       "      <th>policy_code</th>\n",
       "      <td>NaN</td>\n",
       "      <td>NaN</td>\n",
       "      <td>NaN</td>\n",
       "      <td>NaN</td>\n",
       "      <td>NaN</td>\n",
       "      <td>NaN</td>\n",
       "      <td>NaN</td>\n",
       "      <td>NaN</td>\n",
       "      <td>NaN</td>\n",
       "      <td>NaN</td>\n",
       "      <td>...</td>\n",
       "      <td>NaN</td>\n",
       "      <td>NaN</td>\n",
       "      <td>NaN</td>\n",
       "      <td>NaN</td>\n",
       "      <td>NaN</td>\n",
       "      <td>NaN</td>\n",
       "      <td>NaN</td>\n",
       "      <td>NaN</td>\n",
       "      <td>NaN</td>\n",
       "      <td>NaN</td>\n",
       "    </tr>\n",
       "    <tr>\n",
       "      <th>acc_now_delinq</th>\n",
       "      <td>NaN</td>\n",
       "      <td>NaN</td>\n",
       "      <td>NaN</td>\n",
       "      <td>NaN</td>\n",
       "      <td>NaN</td>\n",
       "      <td>NaN</td>\n",
       "      <td>NaN</td>\n",
       "      <td>NaN</td>\n",
       "      <td>NaN</td>\n",
       "      <td>NaN</td>\n",
       "      <td>...</td>\n",
       "      <td>NaN</td>\n",
       "      <td>NaN</td>\n",
       "      <td>NaN</td>\n",
       "      <td>NaN</td>\n",
       "      <td>NaN</td>\n",
       "      <td>NaN</td>\n",
       "      <td>NaN</td>\n",
       "      <td>NaN</td>\n",
       "      <td>NaN</td>\n",
       "      <td>NaN</td>\n",
       "    </tr>\n",
       "    <tr>\n",
       "      <th>chargeoff_within_12_mths</th>\n",
       "      <td>NaN</td>\n",
       "      <td>NaN</td>\n",
       "      <td>NaN</td>\n",
       "      <td>NaN</td>\n",
       "      <td>NaN</td>\n",
       "      <td>NaN</td>\n",
       "      <td>NaN</td>\n",
       "      <td>NaN</td>\n",
       "      <td>NaN</td>\n",
       "      <td>NaN</td>\n",
       "      <td>...</td>\n",
       "      <td>NaN</td>\n",
       "      <td>NaN</td>\n",
       "      <td>NaN</td>\n",
       "      <td>NaN</td>\n",
       "      <td>NaN</td>\n",
       "      <td>NaN</td>\n",
       "      <td>NaN</td>\n",
       "      <td>NaN</td>\n",
       "      <td>NaN</td>\n",
       "      <td>NaN</td>\n",
       "    </tr>\n",
       "    <tr>\n",
       "      <th>delinq_amnt</th>\n",
       "      <td>NaN</td>\n",
       "      <td>NaN</td>\n",
       "      <td>NaN</td>\n",
       "      <td>NaN</td>\n",
       "      <td>NaN</td>\n",
       "      <td>NaN</td>\n",
       "      <td>NaN</td>\n",
       "      <td>NaN</td>\n",
       "      <td>NaN</td>\n",
       "      <td>NaN</td>\n",
       "      <td>...</td>\n",
       "      <td>NaN</td>\n",
       "      <td>NaN</td>\n",
       "      <td>NaN</td>\n",
       "      <td>NaN</td>\n",
       "      <td>NaN</td>\n",
       "      <td>NaN</td>\n",
       "      <td>NaN</td>\n",
       "      <td>NaN</td>\n",
       "      <td>NaN</td>\n",
       "      <td>NaN</td>\n",
       "    </tr>\n",
       "    <tr>\n",
       "      <th>pub_rec_bankruptcies</th>\n",
       "      <td>-0.007997</td>\n",
       "      <td>-0.007346</td>\n",
       "      <td>-0.035981</td>\n",
       "      <td>-0.036995</td>\n",
       "      <td>-0.041193</td>\n",
       "      <td>-0.016224</td>\n",
       "      <td>0.005966</td>\n",
       "      <td>0.003404</td>\n",
       "      <td>0.015517</td>\n",
       "      <td>0.005803</td>\n",
       "      <td>...</td>\n",
       "      <td>-0.005759</td>\n",
       "      <td>-0.004866</td>\n",
       "      <td>-0.005370</td>\n",
       "      <td>NaN</td>\n",
       "      <td>NaN</td>\n",
       "      <td>NaN</td>\n",
       "      <td>NaN</td>\n",
       "      <td>NaN</td>\n",
       "      <td>1.000000</td>\n",
       "      <td>NaN</td>\n",
       "    </tr>\n",
       "    <tr>\n",
       "      <th>tax_liens</th>\n",
       "      <td>NaN</td>\n",
       "      <td>NaN</td>\n",
       "      <td>NaN</td>\n",
       "      <td>NaN</td>\n",
       "      <td>NaN</td>\n",
       "      <td>NaN</td>\n",
       "      <td>NaN</td>\n",
       "      <td>NaN</td>\n",
       "      <td>NaN</td>\n",
       "      <td>NaN</td>\n",
       "      <td>...</td>\n",
       "      <td>NaN</td>\n",
       "      <td>NaN</td>\n",
       "      <td>NaN</td>\n",
       "      <td>NaN</td>\n",
       "      <td>NaN</td>\n",
       "      <td>NaN</td>\n",
       "      <td>NaN</td>\n",
       "      <td>NaN</td>\n",
       "      <td>NaN</td>\n",
       "      <td>NaN</td>\n",
       "    </tr>\n",
       "  </tbody>\n",
       "</table>\n",
       "<p>28 rows × 28 columns</p>\n",
       "</div>"
      ],
      "text/plain": [
       "                                  id  member_id  loan_amnt  funded_amnt  \\\n",
       "id                          1.000000   0.993534   0.120614     0.131283   \n",
       "member_id                   0.993534   1.000000   0.120393     0.130307   \n",
       "loan_amnt                   0.120614   0.120393   1.000000     0.981790   \n",
       "funded_amnt                 0.131283   0.130307   0.981790     1.000000   \n",
       "funded_amnt_inv             0.231603   0.241324   0.937922     0.956172   \n",
       "annual_inc                  0.005572   0.006442   0.268999     0.264798   \n",
       "dti                         0.091785   0.092910   0.062436     0.062194   \n",
       "delinq_2yrs                -0.008417  -0.007905  -0.031951    -0.031866   \n",
       "inq_last_6mths             -0.041021  -0.045879   0.012940     0.012857   \n",
       "open_acc                    0.016256   0.013804   0.177200     0.175682   \n",
       "pub_rec                    -0.017683  -0.017066  -0.049997    -0.050576   \n",
       "revol_bal                   0.001357  -0.001983   0.314022     0.306501   \n",
       "total_acc                   0.039902   0.042217   0.256179     0.250551   \n",
       "out_prncp                        NaN        NaN        NaN          NaN   \n",
       "out_prncp_inv                    NaN        NaN        NaN          NaN   \n",
       "total_pymnt_inv             0.194832   0.205195   0.847635     0.864501   \n",
       "total_rec_prncp             0.092979   0.093773   0.845870     0.864082   \n",
       "total_rec_int               0.123268   0.126660   0.728343     0.736654   \n",
       "total_rec_late_fee         -0.055789  -0.058497   0.047103     0.049465   \n",
       "recoveries                  0.038686   0.036526   0.142789     0.143452   \n",
       "collection_recovery_fee    -0.010916  -0.012831   0.077005     0.078769   \n",
       "collections_12_mths_ex_med       NaN        NaN        NaN          NaN   \n",
       "policy_code                      NaN        NaN        NaN          NaN   \n",
       "acc_now_delinq                   NaN        NaN        NaN          NaN   \n",
       "chargeoff_within_12_mths         NaN        NaN        NaN          NaN   \n",
       "delinq_amnt                      NaN        NaN        NaN          NaN   \n",
       "pub_rec_bankruptcies       -0.007997  -0.007346  -0.035981    -0.036995   \n",
       "tax_liens                        NaN        NaN        NaN          NaN   \n",
       "\n",
       "                            funded_amnt_inv  annual_inc       dti  \\\n",
       "id                                 0.231603    0.005572  0.091785   \n",
       "member_id                          0.241324    0.006442  0.092910   \n",
       "loan_amnt                          0.937922    0.268999  0.062436   \n",
       "funded_amnt                        0.956172    0.264798  0.062194   \n",
       "funded_amnt_inv                    1.000000    0.251981  0.070663   \n",
       "annual_inc                         0.251981    1.000000 -0.121530   \n",
       "dti                                0.070663   -0.121530  1.000000   \n",
       "delinq_2yrs                       -0.038171    0.022229 -0.033347   \n",
       "inq_last_6mths                    -0.002800    0.035465  0.002178   \n",
       "open_acc                           0.162738    0.156927  0.287849   \n",
       "pub_rec                           -0.051470   -0.017864 -0.004742   \n",
       "revol_bal                          0.286265    0.277374  0.228090   \n",
       "total_acc                          0.242715    0.234534  0.229119   \n",
       "out_prncp                               NaN         NaN       NaN   \n",
       "out_prncp_inv                           NaN         NaN       NaN   \n",
       "total_pymnt_inv                    0.909127    0.245198  0.066277   \n",
       "total_rec_prncp                    0.838587    0.256848  0.036755   \n",
       "total_rec_int                      0.726736    0.185056  0.103104   \n",
       "total_rec_late_fee                 0.029379    0.006814 -0.011412   \n",
       "recoveries                         0.130997    0.022184  0.026162   \n",
       "collection_recovery_fee            0.064282    0.015981  0.011744   \n",
       "collections_12_mths_ex_med              NaN         NaN       NaN   \n",
       "policy_code                             NaN         NaN       NaN   \n",
       "acc_now_delinq                          NaN         NaN       NaN   \n",
       "chargeoff_within_12_mths                NaN         NaN       NaN   \n",
       "delinq_amnt                             NaN         NaN       NaN   \n",
       "pub_rec_bankruptcies              -0.041193   -0.016224  0.005966   \n",
       "tax_liens                               NaN         NaN       NaN   \n",
       "\n",
       "                            delinq_2yrs  inq_last_6mths  open_acc  ...  \\\n",
       "id                            -0.008417       -0.041021  0.016256  ...   \n",
       "member_id                     -0.007905       -0.045879  0.013804  ...   \n",
       "loan_amnt                     -0.031951        0.012940  0.177200  ...   \n",
       "funded_amnt                   -0.031866        0.012857  0.175682  ...   \n",
       "funded_amnt_inv               -0.038171       -0.002800  0.162738  ...   \n",
       "annual_inc                     0.022229        0.035465  0.156927  ...   \n",
       "dti                           -0.033347        0.002178  0.287849  ...   \n",
       "delinq_2yrs                    1.000000        0.008733  0.011649  ...   \n",
       "inq_last_6mths                 0.008733        1.000000  0.093434  ...   \n",
       "open_acc                       0.011649        0.093434  1.000000  ...   \n",
       "pub_rec                        0.007623        0.023726  0.000028  ...   \n",
       "revol_bal                     -0.054437       -0.020787  0.288055  ...   \n",
       "total_acc                      0.066994        0.113516  0.687260  ...   \n",
       "out_prncp                           NaN             NaN       NaN  ...   \n",
       "out_prncp_inv                       NaN             NaN       NaN  ...   \n",
       "total_pymnt_inv               -0.029608       -0.018589  0.152008  ...   \n",
       "total_rec_prncp               -0.038447       -0.021328  0.159997  ...   \n",
       "total_rec_int                  0.023778        0.026549  0.123478  ...   \n",
       "total_rec_late_fee             0.028772        0.030741 -0.018827  ...   \n",
       "recoveries                     0.012443        0.018899  0.017241  ...   \n",
       "collection_recovery_fee        0.014077        0.012388  0.006674  ...   \n",
       "collections_12_mths_ex_med          NaN             NaN       NaN  ...   \n",
       "policy_code                         NaN             NaN       NaN  ...   \n",
       "acc_now_delinq                      NaN             NaN       NaN  ...   \n",
       "chargeoff_within_12_mths            NaN             NaN       NaN  ...   \n",
       "delinq_amnt                         NaN             NaN       NaN  ...   \n",
       "pub_rec_bankruptcies           0.003404        0.015517  0.005803  ...   \n",
       "tax_liens                           NaN             NaN       NaN  ...   \n",
       "\n",
       "                            total_rec_late_fee  recoveries  \\\n",
       "id                                   -0.055789    0.038686   \n",
       "member_id                            -0.058497    0.036526   \n",
       "loan_amnt                             0.047103    0.142789   \n",
       "funded_amnt                           0.049465    0.143452   \n",
       "funded_amnt_inv                       0.029379    0.130997   \n",
       "annual_inc                            0.006814    0.022184   \n",
       "dti                                  -0.011412    0.026162   \n",
       "delinq_2yrs                           0.028772    0.012443   \n",
       "inq_last_6mths                        0.030741    0.018899   \n",
       "open_acc                             -0.018827    0.017241   \n",
       "pub_rec                              -0.002108   -0.005800   \n",
       "revol_bal                             0.005853    0.043593   \n",
       "total_acc                            -0.024376    0.024024   \n",
       "out_prncp                                  NaN         NaN   \n",
       "out_prncp_inv                              NaN         NaN   \n",
       "total_pymnt_inv                      -0.000048    0.023406   \n",
       "total_rec_prncp                      -0.019563   -0.094106   \n",
       "total_rec_int                         0.077506    0.092178   \n",
       "total_rec_late_fee                    1.000000    0.100952   \n",
       "recoveries                            0.100952    1.000000   \n",
       "collection_recovery_fee               0.094155    0.796782   \n",
       "collections_12_mths_ex_med                 NaN         NaN   \n",
       "policy_code                                NaN         NaN   \n",
       "acc_now_delinq                             NaN         NaN   \n",
       "chargeoff_within_12_mths                   NaN         NaN   \n",
       "delinq_amnt                                NaN         NaN   \n",
       "pub_rec_bankruptcies                 -0.005759   -0.004866   \n",
       "tax_liens                                  NaN         NaN   \n",
       "\n",
       "                            collection_recovery_fee  \\\n",
       "id                                        -0.010916   \n",
       "member_id                                 -0.012831   \n",
       "loan_amnt                                  0.077005   \n",
       "funded_amnt                                0.078769   \n",
       "funded_amnt_inv                            0.064282   \n",
       "annual_inc                                 0.015981   \n",
       "dti                                        0.011744   \n",
       "delinq_2yrs                                0.014077   \n",
       "inq_last_6mths                             0.012388   \n",
       "open_acc                                   0.006674   \n",
       "pub_rec                                   -0.005731   \n",
       "revol_bal                                  0.023254   \n",
       "total_acc                                  0.010952   \n",
       "out_prncp                                       NaN   \n",
       "out_prncp_inv                                   NaN   \n",
       "total_pymnt_inv                            0.018542   \n",
       "total_rec_prncp                           -0.058224   \n",
       "total_rec_int                              0.041989   \n",
       "total_rec_late_fee                         0.094155   \n",
       "recoveries                                 0.796782   \n",
       "collection_recovery_fee                    1.000000   \n",
       "collections_12_mths_ex_med                      NaN   \n",
       "policy_code                                     NaN   \n",
       "acc_now_delinq                                  NaN   \n",
       "chargeoff_within_12_mths                        NaN   \n",
       "delinq_amnt                                     NaN   \n",
       "pub_rec_bankruptcies                      -0.005370   \n",
       "tax_liens                                       NaN   \n",
       "\n",
       "                            collections_12_mths_ex_med  policy_code  \\\n",
       "id                                                 NaN          NaN   \n",
       "member_id                                          NaN          NaN   \n",
       "loan_amnt                                          NaN          NaN   \n",
       "funded_amnt                                        NaN          NaN   \n",
       "funded_amnt_inv                                    NaN          NaN   \n",
       "annual_inc                                         NaN          NaN   \n",
       "dti                                                NaN          NaN   \n",
       "delinq_2yrs                                        NaN          NaN   \n",
       "inq_last_6mths                                     NaN          NaN   \n",
       "open_acc                                           NaN          NaN   \n",
       "pub_rec                                            NaN          NaN   \n",
       "revol_bal                                          NaN          NaN   \n",
       "total_acc                                          NaN          NaN   \n",
       "out_prncp                                          NaN          NaN   \n",
       "out_prncp_inv                                      NaN          NaN   \n",
       "total_pymnt_inv                                    NaN          NaN   \n",
       "total_rec_prncp                                    NaN          NaN   \n",
       "total_rec_int                                      NaN          NaN   \n",
       "total_rec_late_fee                                 NaN          NaN   \n",
       "recoveries                                         NaN          NaN   \n",
       "collection_recovery_fee                            NaN          NaN   \n",
       "collections_12_mths_ex_med                         NaN          NaN   \n",
       "policy_code                                        NaN          NaN   \n",
       "acc_now_delinq                                     NaN          NaN   \n",
       "chargeoff_within_12_mths                           NaN          NaN   \n",
       "delinq_amnt                                        NaN          NaN   \n",
       "pub_rec_bankruptcies                               NaN          NaN   \n",
       "tax_liens                                          NaN          NaN   \n",
       "\n",
       "                            acc_now_delinq  chargeoff_within_12_mths  \\\n",
       "id                                     NaN                       NaN   \n",
       "member_id                              NaN                       NaN   \n",
       "loan_amnt                              NaN                       NaN   \n",
       "funded_amnt                            NaN                       NaN   \n",
       "funded_amnt_inv                        NaN                       NaN   \n",
       "annual_inc                             NaN                       NaN   \n",
       "dti                                    NaN                       NaN   \n",
       "delinq_2yrs                            NaN                       NaN   \n",
       "inq_last_6mths                         NaN                       NaN   \n",
       "open_acc                               NaN                       NaN   \n",
       "pub_rec                                NaN                       NaN   \n",
       "revol_bal                              NaN                       NaN   \n",
       "total_acc                              NaN                       NaN   \n",
       "out_prncp                              NaN                       NaN   \n",
       "out_prncp_inv                          NaN                       NaN   \n",
       "total_pymnt_inv                        NaN                       NaN   \n",
       "total_rec_prncp                        NaN                       NaN   \n",
       "total_rec_int                          NaN                       NaN   \n",
       "total_rec_late_fee                     NaN                       NaN   \n",
       "recoveries                             NaN                       NaN   \n",
       "collection_recovery_fee                NaN                       NaN   \n",
       "collections_12_mths_ex_med             NaN                       NaN   \n",
       "policy_code                            NaN                       NaN   \n",
       "acc_now_delinq                         NaN                       NaN   \n",
       "chargeoff_within_12_mths               NaN                       NaN   \n",
       "delinq_amnt                            NaN                       NaN   \n",
       "pub_rec_bankruptcies                   NaN                       NaN   \n",
       "tax_liens                              NaN                       NaN   \n",
       "\n",
       "                            delinq_amnt  pub_rec_bankruptcies  tax_liens  \n",
       "id                                  NaN             -0.007997        NaN  \n",
       "member_id                           NaN             -0.007346        NaN  \n",
       "loan_amnt                           NaN             -0.035981        NaN  \n",
       "funded_amnt                         NaN             -0.036995        NaN  \n",
       "funded_amnt_inv                     NaN             -0.041193        NaN  \n",
       "annual_inc                          NaN             -0.016224        NaN  \n",
       "dti                                 NaN              0.005966        NaN  \n",
       "delinq_2yrs                         NaN              0.003404        NaN  \n",
       "inq_last_6mths                      NaN              0.015517        NaN  \n",
       "open_acc                            NaN              0.005803        NaN  \n",
       "pub_rec                             NaN              0.845938        NaN  \n",
       "revol_bal                           NaN             -0.048572        NaN  \n",
       "total_acc                           NaN             -0.011060        NaN  \n",
       "out_prncp                           NaN                   NaN        NaN  \n",
       "out_prncp_inv                       NaN                   NaN        NaN  \n",
       "total_pymnt_inv                     NaN             -0.046436        NaN  \n",
       "total_rec_prncp                     NaN             -0.053316        NaN  \n",
       "total_rec_int                       NaN             -0.001412        NaN  \n",
       "total_rec_late_fee                  NaN             -0.005759        NaN  \n",
       "recoveries                          NaN             -0.004866        NaN  \n",
       "collection_recovery_fee             NaN             -0.005370        NaN  \n",
       "collections_12_mths_ex_med          NaN                   NaN        NaN  \n",
       "policy_code                         NaN                   NaN        NaN  \n",
       "acc_now_delinq                      NaN                   NaN        NaN  \n",
       "chargeoff_within_12_mths            NaN                   NaN        NaN  \n",
       "delinq_amnt                         NaN                   NaN        NaN  \n",
       "pub_rec_bankruptcies                NaN              1.000000        NaN  \n",
       "tax_liens                           NaN                   NaN        NaN  \n",
       "\n",
       "[28 rows x 28 columns]"
      ]
     },
     "execution_count": 44,
     "metadata": {},
     "output_type": "execute_result"
    }
   ],
   "source": [
    "# Checking the correlation between numricals features to get more insights\n",
    "loan.corr()"
   ]
  },
  {
   "cell_type": "code",
   "execution_count": 45,
   "metadata": {
    "execution": {
     "iopub.execute_input": "2021-07-21T13:53:04.295245Z",
     "iopub.status.busy": "2021-07-21T13:53:04.294981Z",
     "iopub.status.idle": "2021-07-21T13:53:04.305819Z",
     "shell.execute_reply": "2021-07-21T13:53:04.304778Z",
     "shell.execute_reply.started": "2021-07-21T13:53:04.295220Z"
    }
   },
   "outputs": [
    {
     "data": {
      "text/plain": [
       "count    38521.0\n",
       "mean         0.0\n",
       "std          0.0\n",
       "min          0.0\n",
       "25%          0.0\n",
       "50%          0.0\n",
       "75%          0.0\n",
       "max          0.0\n",
       "Name: collections_12_mths_ex_med, dtype: float64"
      ]
     },
     "execution_count": 45,
     "metadata": {},
     "output_type": "execute_result"
    }
   ],
   "source": [
    "# From the above correlation matrix, we could observe few NaN as the correlation result between numerical features.\n",
    "# Understanding one of the numerical feature having NaN as a correlation result.\n",
    "loan['collections_12_mths_ex_med'].describe()"
   ]
  },
  {
   "cell_type": "markdown",
   "metadata": {},
   "source": [
    "> #### We could obsere that for the column 'collections_12_mths_ex_med', all the entries are 0 and hence the correlation is NaN.\n",
    "\n",
    "> #### Now verfying further for such features."
   ]
  },
  {
   "cell_type": "code",
   "execution_count": 46,
   "metadata": {
    "execution": {
     "iopub.execute_input": "2021-07-21T13:53:04.307272Z",
     "iopub.status.busy": "2021-07-21T13:53:04.307012Z",
     "iopub.status.idle": "2021-07-21T13:53:04.317846Z",
     "shell.execute_reply": "2021-07-21T13:53:04.316599Z",
     "shell.execute_reply.started": "2021-07-21T13:53:04.307246Z"
    }
   },
   "outputs": [
    {
     "data": {
      "text/plain": [
       "(38577, 28)"
      ]
     },
     "execution_count": 46,
     "metadata": {},
     "output_type": "execute_result"
    }
   ],
   "source": [
    "# Accessing the Numerical columns from the Loan Dataset\n",
    "loan_Numerical=loan.select_dtypes(include=np.number)\n",
    "loan_Numerical.shape"
   ]
  },
  {
   "cell_type": "code",
   "execution_count": 47,
   "metadata": {
    "execution": {
     "iopub.execute_input": "2021-07-21T13:53:04.319794Z",
     "iopub.status.busy": "2021-07-21T13:53:04.319489Z",
     "iopub.status.idle": "2021-07-21T13:53:04.337518Z",
     "shell.execute_reply": "2021-07-21T13:53:04.336410Z",
     "shell.execute_reply.started": "2021-07-21T13:53:04.319759Z"
    }
   },
   "outputs": [
    {
     "data": {
      "text/plain": [
       "Index(['out_prncp', 'out_prncp_inv', 'collections_12_mths_ex_med',\n",
       "       'acc_now_delinq', 'chargeoff_within_12_mths', 'delinq_amnt',\n",
       "       'tax_liens'],\n",
       "      dtype='object')"
      ]
     },
     "execution_count": 47,
     "metadata": {},
     "output_type": "execute_result"
    }
   ],
   "source": [
    "# Accessing all such numericals columns having sum of all entries as 0.\n",
    "loan_Numerical.columns[loan_Numerical.apply(lambda loan: loan.sum()==0)]"
   ]
  },
  {
   "cell_type": "code",
   "execution_count": 48,
   "metadata": {
    "execution": {
     "iopub.execute_input": "2021-07-21T13:53:04.339020Z",
     "iopub.status.busy": "2021-07-21T13:53:04.338758Z",
     "iopub.status.idle": "2021-07-21T13:53:04.360288Z",
     "shell.execute_reply": "2021-07-21T13:53:04.359004Z",
     "shell.execute_reply.started": "2021-07-21T13:53:04.338995Z"
    }
   },
   "outputs": [
    {
     "data": {
      "text/plain": [
       "(38577, 38)"
      ]
     },
     "execution_count": 48,
     "metadata": {},
     "output_type": "execute_result"
    }
   ],
   "source": [
    "# Dropping such numerical columns from loan Dataset\n",
    "loan=loan.drop(['out_prncp', 'out_prncp_inv', 'collections_12_mths_ex_med',\n",
    "       'acc_now_delinq', 'chargeoff_within_12_mths', 'delinq_amnt',\n",
    "       'tax_liens'],axis=1)\n",
    "loan.shape"
   ]
  },
  {
   "cell_type": "code",
   "execution_count": 49,
   "metadata": {
    "execution": {
     "iopub.execute_input": "2021-07-21T13:53:04.362164Z",
     "iopub.status.busy": "2021-07-21T13:53:04.361767Z",
     "iopub.status.idle": "2021-07-21T13:53:04.448637Z",
     "shell.execute_reply": "2021-07-21T13:53:04.447560Z",
     "shell.execute_reply.started": "2021-07-21T13:53:04.362121Z"
    }
   },
   "outputs": [
    {
     "data": {
      "text/html": [
       "<div>\n",
       "<style scoped>\n",
       "    .dataframe tbody tr th:only-of-type {\n",
       "        vertical-align: middle;\n",
       "    }\n",
       "\n",
       "    .dataframe tbody tr th {\n",
       "        vertical-align: top;\n",
       "    }\n",
       "\n",
       "    .dataframe thead th {\n",
       "        text-align: right;\n",
       "    }\n",
       "</style>\n",
       "<table border=\"1\" class=\"dataframe\">\n",
       "  <thead>\n",
       "    <tr style=\"text-align: right;\">\n",
       "      <th></th>\n",
       "      <th>id</th>\n",
       "      <th>member_id</th>\n",
       "      <th>loan_amnt</th>\n",
       "      <th>funded_amnt</th>\n",
       "      <th>funded_amnt_inv</th>\n",
       "      <th>annual_inc</th>\n",
       "      <th>dti</th>\n",
       "      <th>delinq_2yrs</th>\n",
       "      <th>inq_last_6mths</th>\n",
       "      <th>open_acc</th>\n",
       "      <th>...</th>\n",
       "      <th>revol_bal</th>\n",
       "      <th>total_acc</th>\n",
       "      <th>total_pymnt_inv</th>\n",
       "      <th>total_rec_prncp</th>\n",
       "      <th>total_rec_int</th>\n",
       "      <th>total_rec_late_fee</th>\n",
       "      <th>recoveries</th>\n",
       "      <th>collection_recovery_fee</th>\n",
       "      <th>policy_code</th>\n",
       "      <th>pub_rec_bankruptcies</th>\n",
       "    </tr>\n",
       "  </thead>\n",
       "  <tbody>\n",
       "    <tr>\n",
       "      <th>id</th>\n",
       "      <td>1.000000</td>\n",
       "      <td>0.993534</td>\n",
       "      <td>0.120614</td>\n",
       "      <td>0.131283</td>\n",
       "      <td>0.231603</td>\n",
       "      <td>0.005572</td>\n",
       "      <td>0.091785</td>\n",
       "      <td>-0.008417</td>\n",
       "      <td>-0.041021</td>\n",
       "      <td>0.016256</td>\n",
       "      <td>...</td>\n",
       "      <td>0.001357</td>\n",
       "      <td>0.039902</td>\n",
       "      <td>0.194832</td>\n",
       "      <td>0.092979</td>\n",
       "      <td>0.123268</td>\n",
       "      <td>-0.055789</td>\n",
       "      <td>0.038686</td>\n",
       "      <td>-0.010916</td>\n",
       "      <td>NaN</td>\n",
       "      <td>-0.007997</td>\n",
       "    </tr>\n",
       "    <tr>\n",
       "      <th>member_id</th>\n",
       "      <td>0.993534</td>\n",
       "      <td>1.000000</td>\n",
       "      <td>0.120393</td>\n",
       "      <td>0.130307</td>\n",
       "      <td>0.241324</td>\n",
       "      <td>0.006442</td>\n",
       "      <td>0.092910</td>\n",
       "      <td>-0.007905</td>\n",
       "      <td>-0.045879</td>\n",
       "      <td>0.013804</td>\n",
       "      <td>...</td>\n",
       "      <td>-0.001983</td>\n",
       "      <td>0.042217</td>\n",
       "      <td>0.205195</td>\n",
       "      <td>0.093773</td>\n",
       "      <td>0.126660</td>\n",
       "      <td>-0.058497</td>\n",
       "      <td>0.036526</td>\n",
       "      <td>-0.012831</td>\n",
       "      <td>NaN</td>\n",
       "      <td>-0.007346</td>\n",
       "    </tr>\n",
       "    <tr>\n",
       "      <th>loan_amnt</th>\n",
       "      <td>0.120614</td>\n",
       "      <td>0.120393</td>\n",
       "      <td>1.000000</td>\n",
       "      <td>0.981790</td>\n",
       "      <td>0.937922</td>\n",
       "      <td>0.268999</td>\n",
       "      <td>0.062436</td>\n",
       "      <td>-0.031951</td>\n",
       "      <td>0.012940</td>\n",
       "      <td>0.177200</td>\n",
       "      <td>...</td>\n",
       "      <td>0.314022</td>\n",
       "      <td>0.256179</td>\n",
       "      <td>0.847635</td>\n",
       "      <td>0.845870</td>\n",
       "      <td>0.728343</td>\n",
       "      <td>0.047103</td>\n",
       "      <td>0.142789</td>\n",
       "      <td>0.077005</td>\n",
       "      <td>NaN</td>\n",
       "      <td>-0.035981</td>\n",
       "    </tr>\n",
       "    <tr>\n",
       "      <th>funded_amnt</th>\n",
       "      <td>0.131283</td>\n",
       "      <td>0.130307</td>\n",
       "      <td>0.981790</td>\n",
       "      <td>1.000000</td>\n",
       "      <td>0.956172</td>\n",
       "      <td>0.264798</td>\n",
       "      <td>0.062194</td>\n",
       "      <td>-0.031866</td>\n",
       "      <td>0.012857</td>\n",
       "      <td>0.175682</td>\n",
       "      <td>...</td>\n",
       "      <td>0.306501</td>\n",
       "      <td>0.250551</td>\n",
       "      <td>0.864501</td>\n",
       "      <td>0.864082</td>\n",
       "      <td>0.736654</td>\n",
       "      <td>0.049465</td>\n",
       "      <td>0.143452</td>\n",
       "      <td>0.078769</td>\n",
       "      <td>NaN</td>\n",
       "      <td>-0.036995</td>\n",
       "    </tr>\n",
       "    <tr>\n",
       "      <th>funded_amnt_inv</th>\n",
       "      <td>0.231603</td>\n",
       "      <td>0.241324</td>\n",
       "      <td>0.937922</td>\n",
       "      <td>0.956172</td>\n",
       "      <td>1.000000</td>\n",
       "      <td>0.251981</td>\n",
       "      <td>0.070663</td>\n",
       "      <td>-0.038171</td>\n",
       "      <td>-0.002800</td>\n",
       "      <td>0.162738</td>\n",
       "      <td>...</td>\n",
       "      <td>0.286265</td>\n",
       "      <td>0.242715</td>\n",
       "      <td>0.909127</td>\n",
       "      <td>0.838587</td>\n",
       "      <td>0.726736</td>\n",
       "      <td>0.029379</td>\n",
       "      <td>0.130997</td>\n",
       "      <td>0.064282</td>\n",
       "      <td>NaN</td>\n",
       "      <td>-0.041193</td>\n",
       "    </tr>\n",
       "    <tr>\n",
       "      <th>annual_inc</th>\n",
       "      <td>0.005572</td>\n",
       "      <td>0.006442</td>\n",
       "      <td>0.268999</td>\n",
       "      <td>0.264798</td>\n",
       "      <td>0.251981</td>\n",
       "      <td>1.000000</td>\n",
       "      <td>-0.121530</td>\n",
       "      <td>0.022229</td>\n",
       "      <td>0.035465</td>\n",
       "      <td>0.156927</td>\n",
       "      <td>...</td>\n",
       "      <td>0.277374</td>\n",
       "      <td>0.234534</td>\n",
       "      <td>0.245198</td>\n",
       "      <td>0.256848</td>\n",
       "      <td>0.185056</td>\n",
       "      <td>0.006814</td>\n",
       "      <td>0.022184</td>\n",
       "      <td>0.015981</td>\n",
       "      <td>NaN</td>\n",
       "      <td>-0.016224</td>\n",
       "    </tr>\n",
       "    <tr>\n",
       "      <th>dti</th>\n",
       "      <td>0.091785</td>\n",
       "      <td>0.092910</td>\n",
       "      <td>0.062436</td>\n",
       "      <td>0.062194</td>\n",
       "      <td>0.070663</td>\n",
       "      <td>-0.121530</td>\n",
       "      <td>1.000000</td>\n",
       "      <td>-0.033347</td>\n",
       "      <td>0.002178</td>\n",
       "      <td>0.287849</td>\n",
       "      <td>...</td>\n",
       "      <td>0.228090</td>\n",
       "      <td>0.229119</td>\n",
       "      <td>0.066277</td>\n",
       "      <td>0.036755</td>\n",
       "      <td>0.103104</td>\n",
       "      <td>-0.011412</td>\n",
       "      <td>0.026162</td>\n",
       "      <td>0.011744</td>\n",
       "      <td>NaN</td>\n",
       "      <td>0.005966</td>\n",
       "    </tr>\n",
       "    <tr>\n",
       "      <th>delinq_2yrs</th>\n",
       "      <td>-0.008417</td>\n",
       "      <td>-0.007905</td>\n",
       "      <td>-0.031951</td>\n",
       "      <td>-0.031866</td>\n",
       "      <td>-0.038171</td>\n",
       "      <td>0.022229</td>\n",
       "      <td>-0.033347</td>\n",
       "      <td>1.000000</td>\n",
       "      <td>0.008733</td>\n",
       "      <td>0.011649</td>\n",
       "      <td>...</td>\n",
       "      <td>-0.054437</td>\n",
       "      <td>0.066994</td>\n",
       "      <td>-0.029608</td>\n",
       "      <td>-0.038447</td>\n",
       "      <td>0.023778</td>\n",
       "      <td>0.028772</td>\n",
       "      <td>0.012443</td>\n",
       "      <td>0.014077</td>\n",
       "      <td>NaN</td>\n",
       "      <td>0.003404</td>\n",
       "    </tr>\n",
       "    <tr>\n",
       "      <th>inq_last_6mths</th>\n",
       "      <td>-0.041021</td>\n",
       "      <td>-0.045879</td>\n",
       "      <td>0.012940</td>\n",
       "      <td>0.012857</td>\n",
       "      <td>-0.002800</td>\n",
       "      <td>0.035465</td>\n",
       "      <td>0.002178</td>\n",
       "      <td>0.008733</td>\n",
       "      <td>1.000000</td>\n",
       "      <td>0.093434</td>\n",
       "      <td>...</td>\n",
       "      <td>-0.020787</td>\n",
       "      <td>0.113516</td>\n",
       "      <td>-0.018589</td>\n",
       "      <td>-0.021328</td>\n",
       "      <td>0.026549</td>\n",
       "      <td>0.030741</td>\n",
       "      <td>0.018899</td>\n",
       "      <td>0.012388</td>\n",
       "      <td>NaN</td>\n",
       "      <td>0.015517</td>\n",
       "    </tr>\n",
       "    <tr>\n",
       "      <th>open_acc</th>\n",
       "      <td>0.016256</td>\n",
       "      <td>0.013804</td>\n",
       "      <td>0.177200</td>\n",
       "      <td>0.175682</td>\n",
       "      <td>0.162738</td>\n",
       "      <td>0.156927</td>\n",
       "      <td>0.287849</td>\n",
       "      <td>0.011649</td>\n",
       "      <td>0.093434</td>\n",
       "      <td>1.000000</td>\n",
       "      <td>...</td>\n",
       "      <td>0.288055</td>\n",
       "      <td>0.687260</td>\n",
       "      <td>0.152008</td>\n",
       "      <td>0.159997</td>\n",
       "      <td>0.123478</td>\n",
       "      <td>-0.018827</td>\n",
       "      <td>0.017241</td>\n",
       "      <td>0.006674</td>\n",
       "      <td>NaN</td>\n",
       "      <td>0.005803</td>\n",
       "    </tr>\n",
       "    <tr>\n",
       "      <th>pub_rec</th>\n",
       "      <td>-0.017683</td>\n",
       "      <td>-0.017066</td>\n",
       "      <td>-0.049997</td>\n",
       "      <td>-0.050576</td>\n",
       "      <td>-0.051470</td>\n",
       "      <td>-0.017864</td>\n",
       "      <td>-0.004742</td>\n",
       "      <td>0.007623</td>\n",
       "      <td>0.023726</td>\n",
       "      <td>0.000028</td>\n",
       "      <td>...</td>\n",
       "      <td>-0.060502</td>\n",
       "      <td>-0.023494</td>\n",
       "      <td>-0.053077</td>\n",
       "      <td>-0.064362</td>\n",
       "      <td>-0.004312</td>\n",
       "      <td>-0.002108</td>\n",
       "      <td>-0.005800</td>\n",
       "      <td>-0.005731</td>\n",
       "      <td>NaN</td>\n",
       "      <td>0.845938</td>\n",
       "    </tr>\n",
       "    <tr>\n",
       "      <th>revol_bal</th>\n",
       "      <td>0.001357</td>\n",
       "      <td>-0.001983</td>\n",
       "      <td>0.314022</td>\n",
       "      <td>0.306501</td>\n",
       "      <td>0.286265</td>\n",
       "      <td>0.277374</td>\n",
       "      <td>0.228090</td>\n",
       "      <td>-0.054437</td>\n",
       "      <td>-0.020787</td>\n",
       "      <td>0.288055</td>\n",
       "      <td>...</td>\n",
       "      <td>1.000000</td>\n",
       "      <td>0.312634</td>\n",
       "      <td>0.273033</td>\n",
       "      <td>0.276761</td>\n",
       "      <td>0.241979</td>\n",
       "      <td>0.005853</td>\n",
       "      <td>0.043593</td>\n",
       "      <td>0.023254</td>\n",
       "      <td>NaN</td>\n",
       "      <td>-0.048572</td>\n",
       "    </tr>\n",
       "    <tr>\n",
       "      <th>total_acc</th>\n",
       "      <td>0.039902</td>\n",
       "      <td>0.042217</td>\n",
       "      <td>0.256179</td>\n",
       "      <td>0.250551</td>\n",
       "      <td>0.242715</td>\n",
       "      <td>0.234534</td>\n",
       "      <td>0.229119</td>\n",
       "      <td>0.066994</td>\n",
       "      <td>0.113516</td>\n",
       "      <td>0.687260</td>\n",
       "      <td>...</td>\n",
       "      <td>0.312634</td>\n",
       "      <td>1.000000</td>\n",
       "      <td>0.219403</td>\n",
       "      <td>0.230140</td>\n",
       "      <td>0.148772</td>\n",
       "      <td>-0.024376</td>\n",
       "      <td>0.024024</td>\n",
       "      <td>0.010952</td>\n",
       "      <td>NaN</td>\n",
       "      <td>-0.011060</td>\n",
       "    </tr>\n",
       "    <tr>\n",
       "      <th>total_pymnt_inv</th>\n",
       "      <td>0.194832</td>\n",
       "      <td>0.205195</td>\n",
       "      <td>0.847635</td>\n",
       "      <td>0.864501</td>\n",
       "      <td>0.909127</td>\n",
       "      <td>0.245198</td>\n",
       "      <td>0.066277</td>\n",
       "      <td>-0.029608</td>\n",
       "      <td>-0.018589</td>\n",
       "      <td>0.152008</td>\n",
       "      <td>...</td>\n",
       "      <td>0.273033</td>\n",
       "      <td>0.219403</td>\n",
       "      <td>1.000000</td>\n",
       "      <td>0.940299</td>\n",
       "      <td>0.805936</td>\n",
       "      <td>-0.000048</td>\n",
       "      <td>0.023406</td>\n",
       "      <td>0.018542</td>\n",
       "      <td>NaN</td>\n",
       "      <td>-0.046436</td>\n",
       "    </tr>\n",
       "    <tr>\n",
       "      <th>total_rec_prncp</th>\n",
       "      <td>0.092979</td>\n",
       "      <td>0.093773</td>\n",
       "      <td>0.845870</td>\n",
       "      <td>0.864082</td>\n",
       "      <td>0.838587</td>\n",
       "      <td>0.256848</td>\n",
       "      <td>0.036755</td>\n",
       "      <td>-0.038447</td>\n",
       "      <td>-0.021328</td>\n",
       "      <td>0.159997</td>\n",
       "      <td>...</td>\n",
       "      <td>0.276761</td>\n",
       "      <td>0.230140</td>\n",
       "      <td>0.940299</td>\n",
       "      <td>1.000000</td>\n",
       "      <td>0.683521</td>\n",
       "      <td>-0.019563</td>\n",
       "      <td>-0.094106</td>\n",
       "      <td>-0.058224</td>\n",
       "      <td>NaN</td>\n",
       "      <td>-0.053316</td>\n",
       "    </tr>\n",
       "    <tr>\n",
       "      <th>total_rec_int</th>\n",
       "      <td>0.123268</td>\n",
       "      <td>0.126660</td>\n",
       "      <td>0.728343</td>\n",
       "      <td>0.736654</td>\n",
       "      <td>0.726736</td>\n",
       "      <td>0.185056</td>\n",
       "      <td>0.103104</td>\n",
       "      <td>0.023778</td>\n",
       "      <td>0.026549</td>\n",
       "      <td>0.123478</td>\n",
       "      <td>...</td>\n",
       "      <td>0.241979</td>\n",
       "      <td>0.148772</td>\n",
       "      <td>0.805936</td>\n",
       "      <td>0.683521</td>\n",
       "      <td>1.000000</td>\n",
       "      <td>0.077506</td>\n",
       "      <td>0.092178</td>\n",
       "      <td>0.041989</td>\n",
       "      <td>NaN</td>\n",
       "      <td>-0.001412</td>\n",
       "    </tr>\n",
       "    <tr>\n",
       "      <th>total_rec_late_fee</th>\n",
       "      <td>-0.055789</td>\n",
       "      <td>-0.058497</td>\n",
       "      <td>0.047103</td>\n",
       "      <td>0.049465</td>\n",
       "      <td>0.029379</td>\n",
       "      <td>0.006814</td>\n",
       "      <td>-0.011412</td>\n",
       "      <td>0.028772</td>\n",
       "      <td>0.030741</td>\n",
       "      <td>-0.018827</td>\n",
       "      <td>...</td>\n",
       "      <td>0.005853</td>\n",
       "      <td>-0.024376</td>\n",
       "      <td>-0.000048</td>\n",
       "      <td>-0.019563</td>\n",
       "      <td>0.077506</td>\n",
       "      <td>1.000000</td>\n",
       "      <td>0.100952</td>\n",
       "      <td>0.094155</td>\n",
       "      <td>NaN</td>\n",
       "      <td>-0.005759</td>\n",
       "    </tr>\n",
       "    <tr>\n",
       "      <th>recoveries</th>\n",
       "      <td>0.038686</td>\n",
       "      <td>0.036526</td>\n",
       "      <td>0.142789</td>\n",
       "      <td>0.143452</td>\n",
       "      <td>0.130997</td>\n",
       "      <td>0.022184</td>\n",
       "      <td>0.026162</td>\n",
       "      <td>0.012443</td>\n",
       "      <td>0.018899</td>\n",
       "      <td>0.017241</td>\n",
       "      <td>...</td>\n",
       "      <td>0.043593</td>\n",
       "      <td>0.024024</td>\n",
       "      <td>0.023406</td>\n",
       "      <td>-0.094106</td>\n",
       "      <td>0.092178</td>\n",
       "      <td>0.100952</td>\n",
       "      <td>1.000000</td>\n",
       "      <td>0.796782</td>\n",
       "      <td>NaN</td>\n",
       "      <td>-0.004866</td>\n",
       "    </tr>\n",
       "    <tr>\n",
       "      <th>collection_recovery_fee</th>\n",
       "      <td>-0.010916</td>\n",
       "      <td>-0.012831</td>\n",
       "      <td>0.077005</td>\n",
       "      <td>0.078769</td>\n",
       "      <td>0.064282</td>\n",
       "      <td>0.015981</td>\n",
       "      <td>0.011744</td>\n",
       "      <td>0.014077</td>\n",
       "      <td>0.012388</td>\n",
       "      <td>0.006674</td>\n",
       "      <td>...</td>\n",
       "      <td>0.023254</td>\n",
       "      <td>0.010952</td>\n",
       "      <td>0.018542</td>\n",
       "      <td>-0.058224</td>\n",
       "      <td>0.041989</td>\n",
       "      <td>0.094155</td>\n",
       "      <td>0.796782</td>\n",
       "      <td>1.000000</td>\n",
       "      <td>NaN</td>\n",
       "      <td>-0.005370</td>\n",
       "    </tr>\n",
       "    <tr>\n",
       "      <th>policy_code</th>\n",
       "      <td>NaN</td>\n",
       "      <td>NaN</td>\n",
       "      <td>NaN</td>\n",
       "      <td>NaN</td>\n",
       "      <td>NaN</td>\n",
       "      <td>NaN</td>\n",
       "      <td>NaN</td>\n",
       "      <td>NaN</td>\n",
       "      <td>NaN</td>\n",
       "      <td>NaN</td>\n",
       "      <td>...</td>\n",
       "      <td>NaN</td>\n",
       "      <td>NaN</td>\n",
       "      <td>NaN</td>\n",
       "      <td>NaN</td>\n",
       "      <td>NaN</td>\n",
       "      <td>NaN</td>\n",
       "      <td>NaN</td>\n",
       "      <td>NaN</td>\n",
       "      <td>NaN</td>\n",
       "      <td>NaN</td>\n",
       "    </tr>\n",
       "    <tr>\n",
       "      <th>pub_rec_bankruptcies</th>\n",
       "      <td>-0.007997</td>\n",
       "      <td>-0.007346</td>\n",
       "      <td>-0.035981</td>\n",
       "      <td>-0.036995</td>\n",
       "      <td>-0.041193</td>\n",
       "      <td>-0.016224</td>\n",
       "      <td>0.005966</td>\n",
       "      <td>0.003404</td>\n",
       "      <td>0.015517</td>\n",
       "      <td>0.005803</td>\n",
       "      <td>...</td>\n",
       "      <td>-0.048572</td>\n",
       "      <td>-0.011060</td>\n",
       "      <td>-0.046436</td>\n",
       "      <td>-0.053316</td>\n",
       "      <td>-0.001412</td>\n",
       "      <td>-0.005759</td>\n",
       "      <td>-0.004866</td>\n",
       "      <td>-0.005370</td>\n",
       "      <td>NaN</td>\n",
       "      <td>1.000000</td>\n",
       "    </tr>\n",
       "  </tbody>\n",
       "</table>\n",
       "<p>21 rows × 21 columns</p>\n",
       "</div>"
      ],
      "text/plain": [
       "                               id  member_id  loan_amnt  funded_amnt  \\\n",
       "id                       1.000000   0.993534   0.120614     0.131283   \n",
       "member_id                0.993534   1.000000   0.120393     0.130307   \n",
       "loan_amnt                0.120614   0.120393   1.000000     0.981790   \n",
       "funded_amnt              0.131283   0.130307   0.981790     1.000000   \n",
       "funded_amnt_inv          0.231603   0.241324   0.937922     0.956172   \n",
       "annual_inc               0.005572   0.006442   0.268999     0.264798   \n",
       "dti                      0.091785   0.092910   0.062436     0.062194   \n",
       "delinq_2yrs             -0.008417  -0.007905  -0.031951    -0.031866   \n",
       "inq_last_6mths          -0.041021  -0.045879   0.012940     0.012857   \n",
       "open_acc                 0.016256   0.013804   0.177200     0.175682   \n",
       "pub_rec                 -0.017683  -0.017066  -0.049997    -0.050576   \n",
       "revol_bal                0.001357  -0.001983   0.314022     0.306501   \n",
       "total_acc                0.039902   0.042217   0.256179     0.250551   \n",
       "total_pymnt_inv          0.194832   0.205195   0.847635     0.864501   \n",
       "total_rec_prncp          0.092979   0.093773   0.845870     0.864082   \n",
       "total_rec_int            0.123268   0.126660   0.728343     0.736654   \n",
       "total_rec_late_fee      -0.055789  -0.058497   0.047103     0.049465   \n",
       "recoveries               0.038686   0.036526   0.142789     0.143452   \n",
       "collection_recovery_fee -0.010916  -0.012831   0.077005     0.078769   \n",
       "policy_code                   NaN        NaN        NaN          NaN   \n",
       "pub_rec_bankruptcies    -0.007997  -0.007346  -0.035981    -0.036995   \n",
       "\n",
       "                         funded_amnt_inv  annual_inc       dti  delinq_2yrs  \\\n",
       "id                              0.231603    0.005572  0.091785    -0.008417   \n",
       "member_id                       0.241324    0.006442  0.092910    -0.007905   \n",
       "loan_amnt                       0.937922    0.268999  0.062436    -0.031951   \n",
       "funded_amnt                     0.956172    0.264798  0.062194    -0.031866   \n",
       "funded_amnt_inv                 1.000000    0.251981  0.070663    -0.038171   \n",
       "annual_inc                      0.251981    1.000000 -0.121530     0.022229   \n",
       "dti                             0.070663   -0.121530  1.000000    -0.033347   \n",
       "delinq_2yrs                    -0.038171    0.022229 -0.033347     1.000000   \n",
       "inq_last_6mths                 -0.002800    0.035465  0.002178     0.008733   \n",
       "open_acc                        0.162738    0.156927  0.287849     0.011649   \n",
       "pub_rec                        -0.051470   -0.017864 -0.004742     0.007623   \n",
       "revol_bal                       0.286265    0.277374  0.228090    -0.054437   \n",
       "total_acc                       0.242715    0.234534  0.229119     0.066994   \n",
       "total_pymnt_inv                 0.909127    0.245198  0.066277    -0.029608   \n",
       "total_rec_prncp                 0.838587    0.256848  0.036755    -0.038447   \n",
       "total_rec_int                   0.726736    0.185056  0.103104     0.023778   \n",
       "total_rec_late_fee              0.029379    0.006814 -0.011412     0.028772   \n",
       "recoveries                      0.130997    0.022184  0.026162     0.012443   \n",
       "collection_recovery_fee         0.064282    0.015981  0.011744     0.014077   \n",
       "policy_code                          NaN         NaN       NaN          NaN   \n",
       "pub_rec_bankruptcies           -0.041193   -0.016224  0.005966     0.003404   \n",
       "\n",
       "                         inq_last_6mths  open_acc  ...  revol_bal  total_acc  \\\n",
       "id                            -0.041021  0.016256  ...   0.001357   0.039902   \n",
       "member_id                     -0.045879  0.013804  ...  -0.001983   0.042217   \n",
       "loan_amnt                      0.012940  0.177200  ...   0.314022   0.256179   \n",
       "funded_amnt                    0.012857  0.175682  ...   0.306501   0.250551   \n",
       "funded_amnt_inv               -0.002800  0.162738  ...   0.286265   0.242715   \n",
       "annual_inc                     0.035465  0.156927  ...   0.277374   0.234534   \n",
       "dti                            0.002178  0.287849  ...   0.228090   0.229119   \n",
       "delinq_2yrs                    0.008733  0.011649  ...  -0.054437   0.066994   \n",
       "inq_last_6mths                 1.000000  0.093434  ...  -0.020787   0.113516   \n",
       "open_acc                       0.093434  1.000000  ...   0.288055   0.687260   \n",
       "pub_rec                        0.023726  0.000028  ...  -0.060502  -0.023494   \n",
       "revol_bal                     -0.020787  0.288055  ...   1.000000   0.312634   \n",
       "total_acc                      0.113516  0.687260  ...   0.312634   1.000000   \n",
       "total_pymnt_inv               -0.018589  0.152008  ...   0.273033   0.219403   \n",
       "total_rec_prncp               -0.021328  0.159997  ...   0.276761   0.230140   \n",
       "total_rec_int                  0.026549  0.123478  ...   0.241979   0.148772   \n",
       "total_rec_late_fee             0.030741 -0.018827  ...   0.005853  -0.024376   \n",
       "recoveries                     0.018899  0.017241  ...   0.043593   0.024024   \n",
       "collection_recovery_fee        0.012388  0.006674  ...   0.023254   0.010952   \n",
       "policy_code                         NaN       NaN  ...        NaN        NaN   \n",
       "pub_rec_bankruptcies           0.015517  0.005803  ...  -0.048572  -0.011060   \n",
       "\n",
       "                         total_pymnt_inv  total_rec_prncp  total_rec_int  \\\n",
       "id                              0.194832         0.092979       0.123268   \n",
       "member_id                       0.205195         0.093773       0.126660   \n",
       "loan_amnt                       0.847635         0.845870       0.728343   \n",
       "funded_amnt                     0.864501         0.864082       0.736654   \n",
       "funded_amnt_inv                 0.909127         0.838587       0.726736   \n",
       "annual_inc                      0.245198         0.256848       0.185056   \n",
       "dti                             0.066277         0.036755       0.103104   \n",
       "delinq_2yrs                    -0.029608        -0.038447       0.023778   \n",
       "inq_last_6mths                 -0.018589        -0.021328       0.026549   \n",
       "open_acc                        0.152008         0.159997       0.123478   \n",
       "pub_rec                        -0.053077        -0.064362      -0.004312   \n",
       "revol_bal                       0.273033         0.276761       0.241979   \n",
       "total_acc                       0.219403         0.230140       0.148772   \n",
       "total_pymnt_inv                 1.000000         0.940299       0.805936   \n",
       "total_rec_prncp                 0.940299         1.000000       0.683521   \n",
       "total_rec_int                   0.805936         0.683521       1.000000   \n",
       "total_rec_late_fee             -0.000048        -0.019563       0.077506   \n",
       "recoveries                      0.023406        -0.094106       0.092178   \n",
       "collection_recovery_fee         0.018542        -0.058224       0.041989   \n",
       "policy_code                          NaN              NaN            NaN   \n",
       "pub_rec_bankruptcies           -0.046436        -0.053316      -0.001412   \n",
       "\n",
       "                         total_rec_late_fee  recoveries  \\\n",
       "id                                -0.055789    0.038686   \n",
       "member_id                         -0.058497    0.036526   \n",
       "loan_amnt                          0.047103    0.142789   \n",
       "funded_amnt                        0.049465    0.143452   \n",
       "funded_amnt_inv                    0.029379    0.130997   \n",
       "annual_inc                         0.006814    0.022184   \n",
       "dti                               -0.011412    0.026162   \n",
       "delinq_2yrs                        0.028772    0.012443   \n",
       "inq_last_6mths                     0.030741    0.018899   \n",
       "open_acc                          -0.018827    0.017241   \n",
       "pub_rec                           -0.002108   -0.005800   \n",
       "revol_bal                          0.005853    0.043593   \n",
       "total_acc                         -0.024376    0.024024   \n",
       "total_pymnt_inv                   -0.000048    0.023406   \n",
       "total_rec_prncp                   -0.019563   -0.094106   \n",
       "total_rec_int                      0.077506    0.092178   \n",
       "total_rec_late_fee                 1.000000    0.100952   \n",
       "recoveries                         0.100952    1.000000   \n",
       "collection_recovery_fee            0.094155    0.796782   \n",
       "policy_code                             NaN         NaN   \n",
       "pub_rec_bankruptcies              -0.005759   -0.004866   \n",
       "\n",
       "                         collection_recovery_fee  policy_code  \\\n",
       "id                                     -0.010916          NaN   \n",
       "member_id                              -0.012831          NaN   \n",
       "loan_amnt                               0.077005          NaN   \n",
       "funded_amnt                             0.078769          NaN   \n",
       "funded_amnt_inv                         0.064282          NaN   \n",
       "annual_inc                              0.015981          NaN   \n",
       "dti                                     0.011744          NaN   \n",
       "delinq_2yrs                             0.014077          NaN   \n",
       "inq_last_6mths                          0.012388          NaN   \n",
       "open_acc                                0.006674          NaN   \n",
       "pub_rec                                -0.005731          NaN   \n",
       "revol_bal                               0.023254          NaN   \n",
       "total_acc                               0.010952          NaN   \n",
       "total_pymnt_inv                         0.018542          NaN   \n",
       "total_rec_prncp                        -0.058224          NaN   \n",
       "total_rec_int                           0.041989          NaN   \n",
       "total_rec_late_fee                      0.094155          NaN   \n",
       "recoveries                              0.796782          NaN   \n",
       "collection_recovery_fee                 1.000000          NaN   \n",
       "policy_code                                  NaN          NaN   \n",
       "pub_rec_bankruptcies                   -0.005370          NaN   \n",
       "\n",
       "                         pub_rec_bankruptcies  \n",
       "id                                  -0.007997  \n",
       "member_id                           -0.007346  \n",
       "loan_amnt                           -0.035981  \n",
       "funded_amnt                         -0.036995  \n",
       "funded_amnt_inv                     -0.041193  \n",
       "annual_inc                          -0.016224  \n",
       "dti                                  0.005966  \n",
       "delinq_2yrs                          0.003404  \n",
       "inq_last_6mths                       0.015517  \n",
       "open_acc                             0.005803  \n",
       "pub_rec                              0.845938  \n",
       "revol_bal                           -0.048572  \n",
       "total_acc                           -0.011060  \n",
       "total_pymnt_inv                     -0.046436  \n",
       "total_rec_prncp                     -0.053316  \n",
       "total_rec_int                       -0.001412  \n",
       "total_rec_late_fee                  -0.005759  \n",
       "recoveries                          -0.004866  \n",
       "collection_recovery_fee             -0.005370  \n",
       "policy_code                               NaN  \n",
       "pub_rec_bankruptcies                 1.000000  \n",
       "\n",
       "[21 rows x 21 columns]"
      ]
     },
     "execution_count": 49,
     "metadata": {},
     "output_type": "execute_result"
    }
   ],
   "source": [
    "# Checking the correlation between remaining numerical columns\n",
    "loan.corr()"
   ]
  },
  {
   "cell_type": "code",
   "execution_count": 50,
   "metadata": {
    "execution": {
     "iopub.execute_input": "2021-07-21T13:53:04.450275Z",
     "iopub.status.busy": "2021-07-21T13:53:04.449973Z",
     "iopub.status.idle": "2021-07-21T13:53:04.461040Z",
     "shell.execute_reply": "2021-07-21T13:53:04.460104Z",
     "shell.execute_reply.started": "2021-07-21T13:53:04.450247Z"
    }
   },
   "outputs": [
    {
     "data": {
      "text/plain": [
       "count    38577.0\n",
       "mean         1.0\n",
       "std          0.0\n",
       "min          1.0\n",
       "25%          1.0\n",
       "50%          1.0\n",
       "75%          1.0\n",
       "max          1.0\n",
       "Name: policy_code, dtype: float64"
      ]
     },
     "execution_count": 50,
     "metadata": {},
     "output_type": "execute_result"
    }
   ],
   "source": [
    "#From the above correlation we could observe NaN for the 'policy_code' feature. Hence verifying further to know the reason behind.\n",
    "loan['policy_code'].describe()"
   ]
  },
  {
   "cell_type": "code",
   "execution_count": 51,
   "metadata": {
    "execution": {
     "iopub.execute_input": "2021-07-21T13:53:04.462749Z",
     "iopub.status.busy": "2021-07-21T13:53:04.462471Z",
     "iopub.status.idle": "2021-07-21T13:53:04.471851Z",
     "shell.execute_reply": "2021-07-21T13:53:04.470949Z",
     "shell.execute_reply.started": "2021-07-21T13:53:04.462724Z"
    }
   },
   "outputs": [
    {
     "data": {
      "text/plain": [
       "1    38577\n",
       "Name: policy_code, dtype: int64"
      ]
     },
     "execution_count": 51,
     "metadata": {},
     "output_type": "execute_result"
    }
   ],
   "source": [
    "loan['policy_code'].value_counts()"
   ]
  },
  {
   "cell_type": "markdown",
   "metadata": {},
   "source": [
    "> #### As all values of policy code are 1 and it doesn't have any impact on loan approval process. Hence dropping the column."
   ]
  },
  {
   "cell_type": "code",
   "execution_count": 52,
   "metadata": {
    "execution": {
     "iopub.execute_input": "2021-07-21T13:53:04.473069Z",
     "iopub.status.busy": "2021-07-21T13:53:04.472796Z",
     "iopub.status.idle": "2021-07-21T13:53:04.489976Z",
     "shell.execute_reply": "2021-07-21T13:53:04.488891Z",
     "shell.execute_reply.started": "2021-07-21T13:53:04.473043Z"
    }
   },
   "outputs": [
    {
     "data": {
      "text/plain": [
       "(38577, 37)"
      ]
     },
     "execution_count": 52,
     "metadata": {},
     "output_type": "execute_result"
    }
   ],
   "source": [
    "loan= loan.drop('policy_code',axis=1)\n",
    "loan.shape"
   ]
  },
  {
   "cell_type": "code",
   "execution_count": 53,
   "metadata": {
    "execution": {
     "iopub.execute_input": "2021-07-21T13:53:04.491270Z",
     "iopub.status.busy": "2021-07-21T13:53:04.490984Z",
     "iopub.status.idle": "2021-07-21T13:53:06.916170Z",
     "shell.execute_reply": "2021-07-21T13:53:06.915097Z",
     "shell.execute_reply.started": "2021-07-21T13:53:04.491229Z"
    }
   },
   "outputs": [
    {
     "data": {
      "text/plain": [
       "<AxesSubplot:>"
      ]
     },
     "execution_count": 53,
     "metadata": {},
     "output_type": "execute_result"
    },
    {
     "data": {
      "image/png": "[encoded data removed]",
      "text/plain": [
       "<Figure size 1296x720 with 2 Axes>"
      ]
     },
     "metadata": {
      "needs_background": "light"
     },
     "output_type": "display_data"
    }
   ],
   "source": [
    "# Checking the corrleation using heatmap for more insights\n",
    "import seaborn as sns\n",
    "plt.figure(figsize=(18,10))\n",
    "sns.heatmap(loan.corr(), annot=True, linewidth=0.5)"
   ]
  },
  {
   "cell_type": "markdown",
   "metadata": {},
   "source": [
    "> #### Features such as 'loan_amnt', 'funded_amnt', 'funded_amnt_inv' are Highly correlated so any one of the Feature can be chosen.\n",
    "> #### Similarly, Features such as total_pymnt', 'total_pymnt_inv', 'total_rec_prncp','total_rec_int' are Highly correlated anyone can be chosen."
   ]
  },
  {
   "cell_type": "code",
   "execution_count": 54,
   "metadata": {
    "execution": {
     "iopub.execute_input": "2021-07-21T13:53:06.917705Z",
     "iopub.status.busy": "2021-07-21T13:53:06.917418Z",
     "iopub.status.idle": "2021-07-21T13:53:06.934576Z",
     "shell.execute_reply": "2021-07-21T13:53:06.933583Z",
     "shell.execute_reply.started": "2021-07-21T13:53:06.917675Z"
    }
   },
   "outputs": [
    {
     "data": {
      "text/plain": [
       "(38577, 32)"
      ]
     },
     "execution_count": 54,
     "metadata": {},
     "output_type": "execute_result"
    }
   ],
   "source": [
    "loan=loan.drop(['funded_amnt','funded_amnt_inv','total_pymnt_inv', 'total_rec_prncp','total_rec_int'],axis=1)\n",
    "loan.shape"
   ]
  },
  {
   "cell_type": "code",
   "execution_count": 55,
   "metadata": {
    "execution": {
     "iopub.execute_input": "2021-07-21T13:53:06.936445Z",
     "iopub.status.busy": "2021-07-21T13:53:06.935903Z",
     "iopub.status.idle": "2021-07-21T13:53:06.943681Z",
     "shell.execute_reply": "2021-07-21T13:53:06.942915Z",
     "shell.execute_reply.started": "2021-07-21T13:53:06.936403Z"
    }
   },
   "outputs": [
    {
     "data": {
      "text/plain": [
       "Index(['id', 'member_id', 'loan_amnt', 'funded_amnt', 'funded_amnt_inv',\n",
       "       'annual_inc', 'dti', 'delinq_2yrs', 'inq_last_6mths', 'open_acc',\n",
       "       'pub_rec', 'revol_bal', 'total_acc', 'out_prncp', 'out_prncp_inv',\n",
       "       'total_pymnt_inv', 'total_rec_prncp', 'total_rec_int',\n",
       "       'total_rec_late_fee', 'recoveries', 'collection_recovery_fee',\n",
       "       'collections_12_mths_ex_med', 'policy_code', 'acc_now_delinq',\n",
       "       'chargeoff_within_12_mths', 'delinq_amnt', 'pub_rec_bankruptcies',\n",
       "       'tax_liens'],\n",
       "      dtype='object')"
      ]
     },
     "execution_count": 55,
     "metadata": {},
     "output_type": "execute_result"
    }
   ],
   "source": [
    "loan_Numerical.columns"
   ]
  },
  {
   "cell_type": "code",
   "execution_count": 56,
   "metadata": {
    "execution": {
     "iopub.execute_input": "2021-07-21T13:53:06.946040Z",
     "iopub.status.busy": "2021-07-21T13:53:06.945249Z",
     "iopub.status.idle": "2021-07-21T13:53:06.966659Z",
     "shell.execute_reply": "2021-07-21T13:53:06.965555Z",
     "shell.execute_reply.started": "2021-07-21T13:53:06.945992Z"
    }
   },
   "outputs": [
    {
     "data": {
      "text/plain": [
       "(38577, 20)"
      ]
     },
     "execution_count": 56,
     "metadata": {},
     "output_type": "execute_result"
    }
   ],
   "source": [
    "# Dropping the columns which are irrelevant from business point of view as thease are not having significant impact in the Loan Approval Process.\n",
    "loan=loan.drop(['id', 'member_id', 'delinq_2yrs', 'inq_last_6mths','open_acc', 'pub_rec', 'revol_bal', \n",
    "                'total_acc', 'total_rec_late_fee', 'recoveries','collection_recovery_fee',\n",
    "                 'pub_rec_bankruptcies'],axis=1)\n",
    "loan.shape"
   ]
  },
  {
   "cell_type": "code",
   "execution_count": 57,
   "metadata": {
    "execution": {
     "iopub.execute_input": "2021-07-21T13:53:06.968778Z",
     "iopub.status.busy": "2021-07-21T13:53:06.968331Z",
     "iopub.status.idle": "2021-07-21T13:53:07.000330Z",
     "shell.execute_reply": "2021-07-21T13:53:06.999202Z",
     "shell.execute_reply.started": "2021-07-21T13:53:06.968732Z"
    }
   },
   "outputs": [
    {
     "data": {
      "text/html": [
       "<div>\n",
       "<style scoped>\n",
       "    .dataframe tbody tr th:only-of-type {\n",
       "        vertical-align: middle;\n",
       "    }\n",
       "\n",
       "    .dataframe tbody tr th {\n",
       "        vertical-align: top;\n",
       "    }\n",
       "\n",
       "    .dataframe thead th {\n",
       "        text-align: right;\n",
       "    }\n",
       "</style>\n",
       "<table border=\"1\" class=\"dataframe\">\n",
       "  <thead>\n",
       "    <tr style=\"text-align: right;\">\n",
       "      <th></th>\n",
       "      <th>loan_amnt</th>\n",
       "      <th>term</th>\n",
       "      <th>int_rate</th>\n",
       "      <th>grade</th>\n",
       "      <th>sub_grade</th>\n",
       "      <th>emp_length</th>\n",
       "      <th>home_ownership</th>\n",
       "      <th>annual_inc</th>\n",
       "      <th>verification_status</th>\n",
       "      <th>issue_d</th>\n",
       "      <th>loan_status</th>\n",
       "      <th>pymnt_plan</th>\n",
       "      <th>url</th>\n",
       "      <th>purpose</th>\n",
       "      <th>title</th>\n",
       "      <th>zip_code</th>\n",
       "      <th>addr_state</th>\n",
       "      <th>dti</th>\n",
       "      <th>initial_list_status</th>\n",
       "      <th>application_type</th>\n",
       "    </tr>\n",
       "  </thead>\n",
       "  <tbody>\n",
       "    <tr>\n",
       "      <th>1417</th>\n",
       "      <td>7000</td>\n",
       "      <td>36 months</td>\n",
       "      <td>6.62%</td>\n",
       "      <td>A</td>\n",
       "      <td>A2</td>\n",
       "      <td>9 years</td>\n",
       "      <td>MORTGAGE</td>\n",
       "      <td>96000.0</td>\n",
       "      <td>Not Verified</td>\n",
       "      <td>Dec-11</td>\n",
       "      <td>Fully Paid</td>\n",
       "      <td>n</td>\n",
       "      <td>https://lendingclub.com/browse/loanDetail.acti...</td>\n",
       "      <td>small_business</td>\n",
       "      <td>bailout loan</td>\n",
       "      <td>928xx</td>\n",
       "      <td>CA</td>\n",
       "      <td>5.89</td>\n",
       "      <td>f</td>\n",
       "      <td>INDIVIDUAL</td>\n",
       "    </tr>\n",
       "    <tr>\n",
       "      <th>14189</th>\n",
       "      <td>7150</td>\n",
       "      <td>36 months</td>\n",
       "      <td>15.99%</td>\n",
       "      <td>D</td>\n",
       "      <td>D2</td>\n",
       "      <td>10+ years</td>\n",
       "      <td>RENT</td>\n",
       "      <td>64500.0</td>\n",
       "      <td>Not Verified</td>\n",
       "      <td>May-11</td>\n",
       "      <td>Charged Off</td>\n",
       "      <td>n</td>\n",
       "      <td>https://lendingclub.com/browse/loanDetail.acti...</td>\n",
       "      <td>debt_consolidation</td>\n",
       "      <td>Balance Loan</td>\n",
       "      <td>076xx</td>\n",
       "      <td>NJ</td>\n",
       "      <td>23.81</td>\n",
       "      <td>f</td>\n",
       "      <td>INDIVIDUAL</td>\n",
       "    </tr>\n",
       "    <tr>\n",
       "      <th>29815</th>\n",
       "      <td>14400</td>\n",
       "      <td>60 months</td>\n",
       "      <td>16.45%</td>\n",
       "      <td>E</td>\n",
       "      <td>E1</td>\n",
       "      <td>2 years</td>\n",
       "      <td>RENT</td>\n",
       "      <td>32400.0</td>\n",
       "      <td>Source Verified</td>\n",
       "      <td>May-10</td>\n",
       "      <td>Charged Off</td>\n",
       "      <td>n</td>\n",
       "      <td>https://lendingclub.com/browse/loanDetail.acti...</td>\n",
       "      <td>credit_card</td>\n",
       "      <td>Credit Card  Refinancing</td>\n",
       "      <td>914xx</td>\n",
       "      <td>CA</td>\n",
       "      <td>14.78</td>\n",
       "      <td>f</td>\n",
       "      <td>INDIVIDUAL</td>\n",
       "    </tr>\n",
       "    <tr>\n",
       "      <th>29762</th>\n",
       "      <td>1800</td>\n",
       "      <td>36 months</td>\n",
       "      <td>13.48%</td>\n",
       "      <td>C</td>\n",
       "      <td>C3</td>\n",
       "      <td>6 years</td>\n",
       "      <td>OWN</td>\n",
       "      <td>45600.0</td>\n",
       "      <td>Not Verified</td>\n",
       "      <td>May-10</td>\n",
       "      <td>Fully Paid</td>\n",
       "      <td>n</td>\n",
       "      <td>https://lendingclub.com/browse/loanDetail.acti...</td>\n",
       "      <td>major_purchase</td>\n",
       "      <td>New House Stuff</td>\n",
       "      <td>333xx</td>\n",
       "      <td>FL</td>\n",
       "      <td>3.95</td>\n",
       "      <td>f</td>\n",
       "      <td>INDIVIDUAL</td>\n",
       "    </tr>\n",
       "    <tr>\n",
       "      <th>710</th>\n",
       "      <td>5000</td>\n",
       "      <td>36 months</td>\n",
       "      <td>11.71%</td>\n",
       "      <td>B</td>\n",
       "      <td>B3</td>\n",
       "      <td>10+ years</td>\n",
       "      <td>OWN</td>\n",
       "      <td>35000.0</td>\n",
       "      <td>Source Verified</td>\n",
       "      <td>Dec-11</td>\n",
       "      <td>Fully Paid</td>\n",
       "      <td>n</td>\n",
       "      <td>https://lendingclub.com/browse/loanDetail.acti...</td>\n",
       "      <td>other</td>\n",
       "      <td>Other Loan</td>\n",
       "      <td>400xx</td>\n",
       "      <td>KY</td>\n",
       "      <td>19.37</td>\n",
       "      <td>f</td>\n",
       "      <td>INDIVIDUAL</td>\n",
       "    </tr>\n",
       "    <tr>\n",
       "      <th>38126</th>\n",
       "      <td>20000</td>\n",
       "      <td>36 months</td>\n",
       "      <td>10.51%</td>\n",
       "      <td>B</td>\n",
       "      <td>B2</td>\n",
       "      <td>5 years</td>\n",
       "      <td>MORTGAGE</td>\n",
       "      <td>150000.0</td>\n",
       "      <td>Source Verified</td>\n",
       "      <td>Dec-08</td>\n",
       "      <td>Fully Paid</td>\n",
       "      <td>n</td>\n",
       "      <td>https://lendingclub.com/browse/loanDetail.acti...</td>\n",
       "      <td>home_improvement</td>\n",
       "      <td>Kitchen remodel</td>\n",
       "      <td>950xx</td>\n",
       "      <td>CA</td>\n",
       "      <td>2.92</td>\n",
       "      <td>f</td>\n",
       "      <td>INDIVIDUAL</td>\n",
       "    </tr>\n",
       "    <tr>\n",
       "      <th>24070</th>\n",
       "      <td>15000</td>\n",
       "      <td>60 months</td>\n",
       "      <td>17.80%</td>\n",
       "      <td>F</td>\n",
       "      <td>F1</td>\n",
       "      <td>3 years</td>\n",
       "      <td>RENT</td>\n",
       "      <td>64000.0</td>\n",
       "      <td>Verified</td>\n",
       "      <td>Nov-10</td>\n",
       "      <td>Fully Paid</td>\n",
       "      <td>n</td>\n",
       "      <td>https://lendingclub.com/browse/loanDetail.acti...</td>\n",
       "      <td>major_purchase</td>\n",
       "      <td>Business</td>\n",
       "      <td>076xx</td>\n",
       "      <td>NJ</td>\n",
       "      <td>0.38</td>\n",
       "      <td>f</td>\n",
       "      <td>INDIVIDUAL</td>\n",
       "    </tr>\n",
       "    <tr>\n",
       "      <th>23837</th>\n",
       "      <td>9775</td>\n",
       "      <td>36 months</td>\n",
       "      <td>6.91%</td>\n",
       "      <td>A</td>\n",
       "      <td>A5</td>\n",
       "      <td>1 year</td>\n",
       "      <td>MORTGAGE</td>\n",
       "      <td>38220.0</td>\n",
       "      <td>Source Verified</td>\n",
       "      <td>Nov-10</td>\n",
       "      <td>Fully Paid</td>\n",
       "      <td>n</td>\n",
       "      <td>https://lendingclub.com/browse/loanDetail.acti...</td>\n",
       "      <td>debt_consolidation</td>\n",
       "      <td>BACK IN BLACK</td>\n",
       "      <td>021xx</td>\n",
       "      <td>MA</td>\n",
       "      <td>7.63</td>\n",
       "      <td>f</td>\n",
       "      <td>INDIVIDUAL</td>\n",
       "    </tr>\n",
       "    <tr>\n",
       "      <th>31736</th>\n",
       "      <td>10000</td>\n",
       "      <td>36 months</td>\n",
       "      <td>15.70%</td>\n",
       "      <td>D</td>\n",
       "      <td>D4</td>\n",
       "      <td>3 years</td>\n",
       "      <td>MORTGAGE</td>\n",
       "      <td>68500.0</td>\n",
       "      <td>Not Verified</td>\n",
       "      <td>Mar-10</td>\n",
       "      <td>Fully Paid</td>\n",
       "      <td>n</td>\n",
       "      <td>https://lendingclub.com/browse/loanDetail.acti...</td>\n",
       "      <td>credit_card</td>\n",
       "      <td>Finish Paying off Dept in 2010</td>\n",
       "      <td>021xx</td>\n",
       "      <td>MA</td>\n",
       "      <td>19.15</td>\n",
       "      <td>f</td>\n",
       "      <td>INDIVIDUAL</td>\n",
       "    </tr>\n",
       "    <tr>\n",
       "      <th>10407</th>\n",
       "      <td>4800</td>\n",
       "      <td>36 months</td>\n",
       "      <td>13.49%</td>\n",
       "      <td>C</td>\n",
       "      <td>C2</td>\n",
       "      <td>&lt; 1 year</td>\n",
       "      <td>RENT</td>\n",
       "      <td>21600.0</td>\n",
       "      <td>Source Verified</td>\n",
       "      <td>Aug-11</td>\n",
       "      <td>Fully Paid</td>\n",
       "      <td>n</td>\n",
       "      <td>https://lendingclub.com/browse/loanDetail.acti...</td>\n",
       "      <td>debt_consolidation</td>\n",
       "      <td>Debt Consolidation</td>\n",
       "      <td>919xx</td>\n",
       "      <td>CA</td>\n",
       "      <td>11.50</td>\n",
       "      <td>f</td>\n",
       "      <td>INDIVIDUAL</td>\n",
       "    </tr>\n",
       "  </tbody>\n",
       "</table>\n",
       "</div>"
      ],
      "text/plain": [
       "       loan_amnt        term int_rate grade sub_grade emp_length  \\\n",
       "1417        7000   36 months    6.62%     A        A2    9 years   \n",
       "14189       7150   36 months   15.99%     D        D2  10+ years   \n",
       "29815      14400   60 months   16.45%     E        E1    2 years   \n",
       "29762       1800   36 months   13.48%     C        C3    6 years   \n",
       "710         5000   36 months   11.71%     B        B3  10+ years   \n",
       "38126      20000   36 months   10.51%     B        B2    5 years   \n",
       "24070      15000   60 months   17.80%     F        F1    3 years   \n",
       "23837       9775   36 months    6.91%     A        A5     1 year   \n",
       "31736      10000   36 months   15.70%     D        D4    3 years   \n",
       "10407       4800   36 months   13.49%     C        C2   < 1 year   \n",
       "\n",
       "      home_ownership  annual_inc verification_status issue_d  loan_status  \\\n",
       "1417        MORTGAGE     96000.0        Not Verified  Dec-11   Fully Paid   \n",
       "14189           RENT     64500.0        Not Verified  May-11  Charged Off   \n",
       "29815           RENT     32400.0     Source Verified  May-10  Charged Off   \n",
       "29762            OWN     45600.0        Not Verified  May-10   Fully Paid   \n",
       "710              OWN     35000.0     Source Verified  Dec-11   Fully Paid   \n",
       "38126       MORTGAGE    150000.0     Source Verified  Dec-08   Fully Paid   \n",
       "24070           RENT     64000.0            Verified  Nov-10   Fully Paid   \n",
       "23837       MORTGAGE     38220.0     Source Verified  Nov-10   Fully Paid   \n",
       "31736       MORTGAGE     68500.0        Not Verified  Mar-10   Fully Paid   \n",
       "10407           RENT     21600.0     Source Verified  Aug-11   Fully Paid   \n",
       "\n",
       "      pymnt_plan                                                url  \\\n",
       "1417           n  https://lendingclub.com/browse/loanDetail.acti...   \n",
       "14189          n  https://lendingclub.com/browse/loanDetail.acti...   \n",
       "29815          n  https://lendingclub.com/browse/loanDetail.acti...   \n",
       "29762          n  https://lendingclub.com/browse/loanDetail.acti...   \n",
       "710            n  https://lendingclub.com/browse/loanDetail.acti...   \n",
       "38126          n  https://lendingclub.com/browse/loanDetail.acti...   \n",
       "24070          n  https://lendingclub.com/browse/loanDetail.acti...   \n",
       "23837          n  https://lendingclub.com/browse/loanDetail.acti...   \n",
       "31736          n  https://lendingclub.com/browse/loanDetail.acti...   \n",
       "10407          n  https://lendingclub.com/browse/loanDetail.acti...   \n",
       "\n",
       "                  purpose                           title zip_code addr_state  \\\n",
       "1417       small_business                    bailout loan    928xx         CA   \n",
       "14189  debt_consolidation                    Balance Loan    076xx         NJ   \n",
       "29815         credit_card        Credit Card  Refinancing    914xx         CA   \n",
       "29762      major_purchase                 New House Stuff    333xx         FL   \n",
       "710                 other                      Other Loan    400xx         KY   \n",
       "38126    home_improvement                 Kitchen remodel    950xx         CA   \n",
       "24070      major_purchase                        Business    076xx         NJ   \n",
       "23837  debt_consolidation                   BACK IN BLACK    021xx         MA   \n",
       "31736         credit_card  Finish Paying off Dept in 2010    021xx         MA   \n",
       "10407  debt_consolidation              Debt Consolidation    919xx         CA   \n",
       "\n",
       "         dti initial_list_status application_type  \n",
       "1417    5.89                   f       INDIVIDUAL  \n",
       "14189  23.81                   f       INDIVIDUAL  \n",
       "29815  14.78                   f       INDIVIDUAL  \n",
       "29762   3.95                   f       INDIVIDUAL  \n",
       "710    19.37                   f       INDIVIDUAL  \n",
       "38126   2.92                   f       INDIVIDUAL  \n",
       "24070   0.38                   f       INDIVIDUAL  \n",
       "23837   7.63                   f       INDIVIDUAL  \n",
       "31736  19.15                   f       INDIVIDUAL  \n",
       "10407  11.50                   f       INDIVIDUAL  "
      ]
     },
     "execution_count": 57,
     "metadata": {},
     "output_type": "execute_result"
    }
   ],
   "source": [
    "loan.sample(10)"
   ]
  },
  {
   "cell_type": "code",
   "execution_count": 58,
   "metadata": {
    "execution": {
     "iopub.execute_input": "2021-07-21T13:53:07.002007Z",
     "iopub.status.busy": "2021-07-21T13:53:07.001710Z",
     "iopub.status.idle": "2021-07-21T13:53:07.013171Z",
     "shell.execute_reply": "2021-07-21T13:53:07.012173Z",
     "shell.execute_reply.started": "2021-07-21T13:53:07.001975Z"
    }
   },
   "outputs": [
    {
     "data": {
      "text/plain": [
       "f    38577\n",
       "Name: initial_list_status, dtype: int64"
      ]
     },
     "execution_count": 58,
     "metadata": {},
     "output_type": "execute_result"
    }
   ],
   "source": [
    "loan['initial_list_status'].value_counts()"
   ]
  },
  {
   "cell_type": "markdown",
   "metadata": {},
   "source": [
    "> #### As all values of initial_list_status are 'F' and it doesn't seems to have any impact in the loan approval process. "
   ]
  },
  {
   "cell_type": "code",
   "execution_count": 59,
   "metadata": {
    "execution": {
     "iopub.execute_input": "2021-07-21T13:53:07.014713Z",
     "iopub.status.busy": "2021-07-21T13:53:07.014403Z",
     "iopub.status.idle": "2021-07-21T13:53:07.034505Z",
     "shell.execute_reply": "2021-07-21T13:53:07.033294Z",
     "shell.execute_reply.started": "2021-07-21T13:53:07.014683Z"
    }
   },
   "outputs": [
    {
     "data": {
      "text/plain": [
       "(38577, 19)"
      ]
     },
     "execution_count": 59,
     "metadata": {},
     "output_type": "execute_result"
    }
   ],
   "source": [
    "loan=loan.drop('initial_list_status',axis=1)\n",
    "loan.shape"
   ]
  },
  {
   "cell_type": "code",
   "execution_count": 60,
   "metadata": {
    "execution": {
     "iopub.execute_input": "2021-07-21T13:53:07.036925Z",
     "iopub.status.busy": "2021-07-21T13:53:07.036371Z",
     "iopub.status.idle": "2021-07-21T13:53:07.052751Z",
     "shell.execute_reply": "2021-07-21T13:53:07.051731Z",
     "shell.execute_reply.started": "2021-07-21T13:53:07.036878Z"
    }
   },
   "outputs": [
    {
     "data": {
      "text/plain": [
       "INDIVIDUAL    38577\n",
       "Name: application_type, dtype: int64"
      ]
     },
     "execution_count": 60,
     "metadata": {},
     "output_type": "execute_result"
    }
   ],
   "source": [
    "loan['application_type'].value_counts()"
   ]
  },
  {
   "cell_type": "code",
   "execution_count": 61,
   "metadata": {
    "execution": {
     "iopub.execute_input": "2021-07-21T13:53:07.054359Z",
     "iopub.status.busy": "2021-07-21T13:53:07.054026Z",
     "iopub.status.idle": "2021-07-21T13:53:07.068089Z",
     "shell.execute_reply": "2021-07-21T13:53:07.067202Z",
     "shell.execute_reply.started": "2021-07-21T13:53:07.054301Z"
    }
   },
   "outputs": [
    {
     "data": {
      "text/plain": [
       "(38577, 18)"
      ]
     },
     "execution_count": 61,
     "metadata": {},
     "output_type": "execute_result"
    }
   ],
   "source": [
    "loan=loan.drop('application_type',axis=1)\n",
    "loan.shape"
   ]
  },
  {
   "cell_type": "code",
   "execution_count": 62,
   "metadata": {
    "execution": {
     "iopub.execute_input": "2021-07-21T13:53:07.069726Z",
     "iopub.status.busy": "2021-07-21T13:53:07.069280Z",
     "iopub.status.idle": "2021-07-21T13:53:07.104914Z",
     "shell.execute_reply": "2021-07-21T13:53:07.103855Z",
     "shell.execute_reply.started": "2021-07-21T13:53:07.069693Z"
    }
   },
   "outputs": [
    {
     "data": {
      "text/html": [
       "<div>\n",
       "<style scoped>\n",
       "    .dataframe tbody tr th:only-of-type {\n",
       "        vertical-align: middle;\n",
       "    }\n",
       "\n",
       "    .dataframe tbody tr th {\n",
       "        vertical-align: top;\n",
       "    }\n",
       "\n",
       "    .dataframe thead th {\n",
       "        text-align: right;\n",
       "    }\n",
       "</style>\n",
       "<table border=\"1\" class=\"dataframe\">\n",
       "  <thead>\n",
       "    <tr style=\"text-align: right;\">\n",
       "      <th></th>\n",
       "      <th>zip_code</th>\n",
       "      <th>addr_state</th>\n",
       "    </tr>\n",
       "  </thead>\n",
       "  <tbody>\n",
       "    <tr>\n",
       "      <th>count</th>\n",
       "      <td>38577</td>\n",
       "      <td>38577</td>\n",
       "    </tr>\n",
       "    <tr>\n",
       "      <th>unique</th>\n",
       "      <td>822</td>\n",
       "      <td>50</td>\n",
       "    </tr>\n",
       "    <tr>\n",
       "      <th>top</th>\n",
       "      <td>100xx</td>\n",
       "      <td>CA</td>\n",
       "    </tr>\n",
       "    <tr>\n",
       "      <th>freq</th>\n",
       "      <td>583</td>\n",
       "      <td>6949</td>\n",
       "    </tr>\n",
       "  </tbody>\n",
       "</table>\n",
       "</div>"
      ],
      "text/plain": [
       "       zip_code addr_state\n",
       "count     38577      38577\n",
       "unique      822         50\n",
       "top       100xx         CA\n",
       "freq        583       6949"
      ]
     },
     "execution_count": 62,
     "metadata": {},
     "output_type": "execute_result"
    }
   ],
   "source": [
    "loan[['zip_code','addr_state']].describe()"
   ]
  },
  {
   "cell_type": "markdown",
   "metadata": {},
   "source": [
    "> #### We can drop the feature 'zip_code' and 'addr_state', because address of borrower can't be a deciding factor in the loan approval process."
   ]
  },
  {
   "cell_type": "code",
   "execution_count": 63,
   "metadata": {
    "execution": {
     "iopub.execute_input": "2021-07-21T13:53:07.106102Z",
     "iopub.status.busy": "2021-07-21T13:53:07.105841Z",
     "iopub.status.idle": "2021-07-21T13:53:07.119294Z",
     "shell.execute_reply": "2021-07-21T13:53:07.118125Z",
     "shell.execute_reply.started": "2021-07-21T13:53:07.106076Z"
    }
   },
   "outputs": [
    {
     "data": {
      "text/plain": [
       "(38577, 16)"
      ]
     },
     "execution_count": 63,
     "metadata": {},
     "output_type": "execute_result"
    }
   ],
   "source": [
    "loan=loan.drop(['zip_code','addr_state'], axis=1)\n",
    "loan.shape"
   ]
  },
  {
   "cell_type": "code",
   "execution_count": 64,
   "metadata": {
    "execution": {
     "iopub.execute_input": "2021-07-21T13:53:07.121373Z",
     "iopub.status.busy": "2021-07-21T13:53:07.120853Z",
     "iopub.status.idle": "2021-07-21T13:53:07.135686Z",
     "shell.execute_reply": "2021-07-21T13:53:07.134445Z",
     "shell.execute_reply.started": "2021-07-21T13:53:07.121285Z"
    }
   },
   "outputs": [
    {
     "data": {
      "text/plain": [
       "debt_consolidation    18055\n",
       "credit_card            5027\n",
       "other                  3865\n",
       "home_improvement       2875\n",
       "major_purchase         2150\n",
       "small_business         1754\n",
       "car                    1499\n",
       "wedding                 926\n",
       "medical                 681\n",
       "moving                  576\n",
       "vacation                375\n",
       "house                   367\n",
       "educational             325\n",
       "renewable_energy        102\n",
       "Name: purpose, dtype: int64"
      ]
     },
     "execution_count": 64,
     "metadata": {},
     "output_type": "execute_result"
    }
   ],
   "source": [
    "# Understanding the 'purpose' feature\n",
    "loan['purpose'].value_counts()"
   ]
  },
  {
   "cell_type": "code",
   "execution_count": 65,
   "metadata": {
    "execution": {
     "iopub.execute_input": "2021-07-21T13:53:07.137705Z",
     "iopub.status.busy": "2021-07-21T13:53:07.137345Z",
     "iopub.status.idle": "2021-07-21T13:53:07.163324Z",
     "shell.execute_reply": "2021-07-21T13:53:07.162176Z",
     "shell.execute_reply.started": "2021-07-21T13:53:07.137672Z"
    }
   },
   "outputs": [
    {
     "data": {
      "text/plain": [
       "purpose             loan_status\n",
       "major_purchase      Fully Paid     89.674419\n",
       "wedding             Fully Paid     89.632829\n",
       "car                 Fully Paid     89.326217\n",
       "credit_card         Fully Paid     89.218222\n",
       "home_improvement    Fully Paid     87.930435\n",
       "vacation            Fully Paid     85.866667\n",
       "debt_consolidation  Fully Paid     84.674605\n",
       "medical             Fully Paid     84.434655\n",
       "moving              Fully Paid     84.027778\n",
       "house               Fully Paid     83.923706\n",
       "other               Fully Paid     83.622251\n",
       "educational         Fully Paid     82.769231\n",
       "renewable_energy    Fully Paid     81.372549\n",
       "small_business      Fully Paid     72.919042\n",
       "                    Charged Off    27.080958\n",
       "renewable_energy    Charged Off    18.627451\n",
       "educational         Charged Off    17.230769\n",
       "other               Charged Off    16.377749\n",
       "house               Charged Off    16.076294\n",
       "moving              Charged Off    15.972222\n",
       "medical             Charged Off    15.565345\n",
       "debt_consolidation  Charged Off    15.325395\n",
       "vacation            Charged Off    14.133333\n",
       "home_improvement    Charged Off    12.069565\n",
       "credit_card         Charged Off    10.781778\n",
       "car                 Charged Off    10.673783\n",
       "wedding             Charged Off    10.367171\n",
       "major_purchase      Charged Off    10.325581\n",
       "Name: loan_status, dtype: float64"
      ]
     },
     "execution_count": 65,
     "metadata": {},
     "output_type": "execute_result"
    }
   ],
   "source": [
    "100*(loan.groupby(['purpose'])['loan_status'].value_counts(normalize=True)).sort_values(ascending=False)"
   ]
  },
  {
   "cell_type": "code",
   "execution_count": 120,
   "metadata": {
    "execution": {
     "iopub.execute_input": "2021-07-21T14:07:17.791472Z",
     "iopub.status.busy": "2021-07-21T14:07:17.790965Z",
     "iopub.status.idle": "2021-07-21T14:07:18.231560Z",
     "shell.execute_reply": "2021-07-21T14:07:18.230629Z",
     "shell.execute_reply.started": "2021-07-21T14:07:17.791441Z"
    }
   },
   "outputs": [
    {
     "data": {
      "image/png": "[encoded data removed]",
      "text/plain": [
       "<Figure size 1008x432 with 1 Axes>"
      ]
     },
     "metadata": {
      "needs_background": "light"
     },
     "output_type": "display_data"
    }
   ],
   "source": [
    "plots=loan.groupby('purpose')['loan_status'].value_counts().unstack()\\\n",
    ".apply(lambda x:x*100/x.sum(),axis=1).plot(kind='bar',stacked=True,figsize=(14,6))\n",
    "for bar in plots.patches:\n",
    "    plots.annotate(format(bar.get_height(), '.2f')+'%', \n",
    "                       (bar.get_x() + bar.get_width() / 2, \n",
    "                        bar.get_height()), ha='center', va='center',\n",
    "                       size=12, xytext=(0, -10),\n",
    "                       textcoords='offset points')\n",
    "plt.xticks(rotation=60)\n",
    "plt.ylabel(\"Proportion\")\n",
    "plt.legend(loc='upper right')\n",
    "plt.title(\"Grade,Loan Status Vs Proportion\")\n",
    "plt.xlabel('Purpose')\n",
    "plt.show()"
   ]
  },
  {
   "cell_type": "markdown",
   "metadata": {},
   "source": [
    "* #### Purpose is important Feature as we can see borrower having purpose (89.67%) of major purchase are more likely to Fully Pay and purose of small business (27%) are most like to Charged Off. Hence Lending Club sould carefully examine before issuing loan to the Small Business."
   ]
  },
  {
   "cell_type": "code",
   "execution_count": 67,
   "metadata": {
    "execution": {
     "iopub.execute_input": "2021-07-21T13:53:07.522800Z",
     "iopub.status.busy": "2021-07-21T13:53:07.522376Z",
     "iopub.status.idle": "2021-07-21T13:53:07.530167Z",
     "shell.execute_reply": "2021-07-21T13:53:07.529137Z",
     "shell.execute_reply.started": "2021-07-21T13:53:07.522757Z"
    }
   },
   "outputs": [
    {
     "data": {
      "text/plain": [
       "Index(['loan_amnt', 'term', 'int_rate', 'grade', 'sub_grade', 'emp_length',\n",
       "       'home_ownership', 'annual_inc', 'verification_status', 'issue_d',\n",
       "       'loan_status', 'pymnt_plan', 'url', 'purpose', 'title', 'dti'],\n",
       "      dtype='object')"
      ]
     },
     "execution_count": 67,
     "metadata": {},
     "output_type": "execute_result"
    }
   ],
   "source": [
    "loan.columns"
   ]
  },
  {
   "cell_type": "code",
   "execution_count": 68,
   "metadata": {
    "execution": {
     "iopub.execute_input": "2021-07-21T13:53:07.537221Z",
     "iopub.status.busy": "2021-07-21T13:53:07.536814Z",
     "iopub.status.idle": "2021-07-21T13:53:07.550805Z",
     "shell.execute_reply": "2021-07-21T13:53:07.549741Z",
     "shell.execute_reply.started": "2021-07-21T13:53:07.537184Z"
    }
   },
   "outputs": [
    {
     "data": {
      "text/plain": [
       " 36 months    29096\n",
       " 60 months     9481\n",
       "Name: term, dtype: int64"
      ]
     },
     "execution_count": 68,
     "metadata": {},
     "output_type": "execute_result"
    }
   ],
   "source": [
    "# Understanding the Feature 'term'\n",
    "# term:The number of payments on the loan. Values are in months and can be either 36 or 60.\n",
    "loan['term'].value_counts()"
   ]
  },
  {
   "cell_type": "code",
   "execution_count": 69,
   "metadata": {
    "execution": {
     "iopub.execute_input": "2021-07-21T13:53:07.553359Z",
     "iopub.status.busy": "2021-07-21T13:53:07.553031Z",
     "iopub.status.idle": "2021-07-21T13:53:07.576598Z",
     "shell.execute_reply": "2021-07-21T13:53:07.575824Z",
     "shell.execute_reply.started": "2021-07-21T13:53:07.553326Z"
    }
   },
   "outputs": [
    {
     "data": {
      "text/plain": [
       "term        loan_status\n",
       " 36 months  Fully Paid     25869\n",
       "            Charged Off     3227\n",
       " 60 months  Fully Paid      7081\n",
       "            Charged Off     2400\n",
       "Name: loan_status, dtype: int64"
      ]
     },
     "execution_count": 69,
     "metadata": {},
     "output_type": "execute_result"
    }
   ],
   "source": [
    "loan.groupby(['term'])['loan_status'].value_counts()"
   ]
  },
  {
   "cell_type": "code",
   "execution_count": 70,
   "metadata": {
    "execution": {
     "iopub.execute_input": "2021-07-21T13:53:07.578262Z",
     "iopub.status.busy": "2021-07-21T13:53:07.577803Z",
     "iopub.status.idle": "2021-07-21T13:53:07.596102Z",
     "shell.execute_reply": "2021-07-21T13:53:07.595292Z",
     "shell.execute_reply.started": "2021-07-21T13:53:07.578231Z"
    }
   },
   "outputs": [
    {
     "data": {
      "text/plain": [
       "term        loan_status\n",
       " 36 months  Fully Paid     88.909128\n",
       "            Charged Off    11.090872\n",
       " 60 months  Fully Paid     74.686215\n",
       "            Charged Off    25.313785\n",
       "Name: loan_status, dtype: float64"
      ]
     },
     "execution_count": 70,
     "metadata": {},
     "output_type": "execute_result"
    }
   ],
   "source": [
    "(loan.groupby(['term'])['loan_status'].value_counts(normalize=True))*100"
   ]
  },
  {
   "cell_type": "code",
   "execution_count": 71,
   "metadata": {
    "execution": {
     "iopub.execute_input": "2021-07-21T13:53:07.597772Z",
     "iopub.status.busy": "2021-07-21T13:53:07.597246Z",
     "iopub.status.idle": "2021-07-21T13:53:07.840366Z",
     "shell.execute_reply": "2021-07-21T13:53:07.839646Z",
     "shell.execute_reply.started": "2021-07-21T13:53:07.597739Z"
    }
   },
   "outputs": [
    {
     "data": {
      "image/png": "[encoded data removed]",
      "text/plain": [
       "<Figure size 720x360 with 1 Axes>"
      ]
     },
     "metadata": {
      "needs_background": "light"
     },
     "output_type": "display_data"
    }
   ],
   "source": [
    "plots=loan.groupby('term')['loan_status'].value_counts().unstack()\\\n",
    ".apply(lambda x:x*100/x.sum(),axis=1).plot(kind='bar',stacked=True,figsize=(10,5))\n",
    "for bar in plots.patches:\n",
    "    plots.annotate(format(bar.get_height(), '.2f')+'%', \n",
    "                       (bar.get_x() + bar.get_width() / 2, \n",
    "                        bar.get_height()), ha='center', va='center',\n",
    "                       size=12, xytext=(0, -10),\n",
    "                       textcoords='offset points')\n",
    "plt.xticks(rotation=0)\n",
    "plt.xlabel('Loan Term')\n",
    "plt.ylabel('In %')\n",
    "plt.title('Loan Term vs Loan Status in %')\n",
    "plt.tight_layout()\n",
    "\n"
   ]
  },
  {
   "cell_type": "markdown",
   "metadata": {},
   "source": [
    "* #### Borrowers with 3 Years tenure are most likely to Fully Pay where as Borrowers with 5 Years tenure are most likely to Charged off"
   ]
  },
  {
   "cell_type": "code",
   "execution_count": 72,
   "metadata": {
    "execution": {
     "iopub.execute_input": "2021-07-21T13:53:07.841839Z",
     "iopub.status.busy": "2021-07-21T13:53:07.841425Z",
     "iopub.status.idle": "2021-07-21T13:53:07.854300Z",
     "shell.execute_reply": "2021-07-21T13:53:07.853342Z",
     "shell.execute_reply.started": "2021-07-21T13:53:07.841810Z"
    }
   },
   "outputs": [
    {
     "data": {
      "text/plain": [
       "10.99%    913\n",
       "11.49%    790\n",
       "7.51%     787\n",
       "13.49%    749\n",
       "7.88%     725\n",
       "         ... \n",
       "16.20%      1\n",
       "20.52%      1\n",
       "16.71%      1\n",
       "18.36%      1\n",
       "16.15%      1\n",
       "Name: int_rate, Length: 370, dtype: int64"
      ]
     },
     "execution_count": 72,
     "metadata": {},
     "output_type": "execute_result"
    }
   ],
   "source": [
    "# Undersatnding the feature 'int_rate'\n",
    "# int_rate: Interest Rate on the loan\n",
    "loan['int_rate'].value_counts()"
   ]
  },
  {
   "cell_type": "code",
   "execution_count": 73,
   "metadata": {
    "execution": {
     "iopub.execute_input": "2021-07-21T13:53:07.856144Z",
     "iopub.status.busy": "2021-07-21T13:53:07.855738Z",
     "iopub.status.idle": "2021-07-21T13:53:07.891788Z",
     "shell.execute_reply": "2021-07-21T13:53:07.890619Z",
     "shell.execute_reply.started": "2021-07-21T13:53:07.856102Z"
    }
   },
   "outputs": [
    {
     "data": {
      "text/plain": [
       "0    10.65\n",
       "1    15.27\n",
       "2    15.96\n",
       "3    13.49\n",
       "5     7.90\n",
       "Name: int_rate, dtype: float64"
      ]
     },
     "execution_count": 73,
     "metadata": {},
     "output_type": "execute_result"
    }
   ],
   "source": [
    "# Removing the % interest rate entries in order to convert them into the numerical values for univariant analysis\n",
    "loan['int_rate']=loan['int_rate'].apply(lambda x:float(x.strip('%')))\n",
    "loan['int_rate'].head()                                 "
   ]
  },
  {
   "cell_type": "code",
   "execution_count": 74,
   "metadata": {
    "execution": {
     "iopub.execute_input": "2021-07-21T13:53:07.893355Z",
     "iopub.status.busy": "2021-07-21T13:53:07.893058Z",
     "iopub.status.idle": "2021-07-21T13:53:08.004849Z",
     "shell.execute_reply": "2021-07-21T13:53:08.004070Z",
     "shell.execute_reply.started": "2021-07-21T13:53:07.893326Z"
    }
   },
   "outputs": [
    {
     "data": {
      "image/png": "[encoded data removed]",
      "text/plain": [
       "<Figure size 432x288 with 1 Axes>"
      ]
     },
     "metadata": {
      "needs_background": "light"
     },
     "output_type": "display_data"
    }
   ],
   "source": [
    "sns.boxplot(loan['int_rate'])\n",
    "plt.show()"
   ]
  },
  {
   "cell_type": "code",
   "execution_count": 75,
   "metadata": {
    "execution": {
     "iopub.execute_input": "2021-07-21T13:53:08.006139Z",
     "iopub.status.busy": "2021-07-21T13:53:08.005783Z",
     "iopub.status.idle": "2021-07-21T13:53:08.444765Z",
     "shell.execute_reply": "2021-07-21T13:53:08.443914Z",
     "shell.execute_reply.started": "2021-07-21T13:53:08.006113Z"
    }
   },
   "outputs": [
    {
     "data": {
      "image/png": "[encoded data removed]",
      "text/plain": [
       "<Figure size 432x288 with 1 Axes>"
      ]
     },
     "metadata": {
      "needs_background": "light"
     },
     "output_type": "display_data"
    }
   ],
   "source": [
    "sns.distplot(loan['int_rate'],bins=15)\n",
    "plt.show()"
   ]
  },
  {
   "cell_type": "code",
   "execution_count": 76,
   "metadata": {
    "execution": {
     "iopub.execute_input": "2021-07-21T13:53:08.446275Z",
     "iopub.status.busy": "2021-07-21T13:53:08.446023Z",
     "iopub.status.idle": "2021-07-21T13:53:08.571196Z",
     "shell.execute_reply": "2021-07-21T13:53:08.570417Z",
     "shell.execute_reply.started": "2021-07-21T13:53:08.446251Z"
    }
   },
   "outputs": [
    {
     "data": {
      "image/png": "[encoded data removed]",
      "text/plain": [
       "<Figure size 432x288 with 1 Axes>"
      ]
     },
     "metadata": {
      "needs_background": "light"
     },
     "output_type": "display_data"
    }
   ],
   "source": [
    "# As we could see the presence of outliers, we are using median plot.\n",
    "loan.groupby(['loan_status'])['int_rate'].median().plot.bar(rot=0)\n",
    "plt.title('Interest Rate', fontsize=15)\n",
    "\n",
    "plt.show()"
   ]
  },
  {
   "cell_type": "markdown",
   "metadata": {},
   "source": [
    "* #### The column int_rate is an influential feature in the approval of loan process as the analysis clearly shows that interest rate below 12% are most likely to Fully Pay where as interest rate above 12% are most like to Charged off.\n"
   ]
  },
  {
   "cell_type": "code",
   "execution_count": 77,
   "metadata": {
    "execution": {
     "iopub.execute_input": "2021-07-21T13:53:08.572953Z",
     "iopub.status.busy": "2021-07-21T13:53:08.572468Z",
     "iopub.status.idle": "2021-07-21T13:53:08.580288Z",
     "shell.execute_reply": "2021-07-21T13:53:08.579352Z",
     "shell.execute_reply.started": "2021-07-21T13:53:08.572922Z"
    }
   },
   "outputs": [
    {
     "data": {
      "text/plain": [
       "0    B\n",
       "1    C\n",
       "2    C\n",
       "3    C\n",
       "5    A\n",
       "Name: grade, dtype: object"
      ]
     },
     "execution_count": 77,
     "metadata": {},
     "output_type": "execute_result"
    }
   ],
   "source": [
    "# Understanding the Feature 'grade'\n",
    "# grade:LC assigned loan grade\n",
    "loan.grade.head()"
   ]
  },
  {
   "cell_type": "code",
   "execution_count": 78,
   "metadata": {
    "execution": {
     "iopub.execute_input": "2021-07-21T13:53:08.582126Z",
     "iopub.status.busy": "2021-07-21T13:53:08.581826Z",
     "iopub.status.idle": "2021-07-21T13:53:08.610129Z",
     "shell.execute_reply": "2021-07-21T13:53:08.608965Z",
     "shell.execute_reply.started": "2021-07-21T13:53:08.582100Z"
    }
   },
   "outputs": [
    {
     "data": {
      "text/plain": [
       "grade  loan_status\n",
       "A      Fully Paid     94.006969\n",
       "B      Fully Paid     87.794433\n",
       "C      Fully Paid     82.805719\n",
       "D      Fully Paid     78.013766\n",
       "E      Fully Paid     73.150582\n",
       "F      Fully Paid     67.315574\n",
       "G      Fully Paid     66.220736\n",
       "       Charged Off    33.779264\n",
       "F      Charged Off    32.684426\n",
       "E      Charged Off    26.849418\n",
       "D      Charged Off    21.986234\n",
       "C      Charged Off    17.194281\n",
       "B      Charged Off    12.205567\n",
       "A      Charged Off     5.993031\n",
       "Name: loan_status, dtype: float64"
      ]
     },
     "execution_count": 78,
     "metadata": {},
     "output_type": "execute_result"
    }
   ],
   "source": [
    "100*(loan.groupby(['grade'])['loan_status'].value_counts(normalize=True)).sort_values(ascending=False)"
   ]
  },
  {
   "cell_type": "code",
   "execution_count": 80,
   "metadata": {
    "execution": {
     "iopub.execute_input": "2021-07-21T13:53:08.833601Z",
     "iopub.status.busy": "2021-07-21T13:53:08.833246Z",
     "iopub.status.idle": "2021-07-21T13:53:09.084096Z",
     "shell.execute_reply": "2021-07-21T13:53:09.082745Z",
     "shell.execute_reply.started": "2021-07-21T13:53:08.833567Z"
    }
   },
   "outputs": [
    {
     "data": {
      "image/png": "[encoded data removed]",
      "text/plain": [
       "<Figure size 720x360 with 1 Axes>"
      ]
     },
     "metadata": {
      "needs_background": "light"
     },
     "output_type": "display_data"
    }
   ],
   "source": [
    "plots=loan.groupby('grade')['loan_status'].value_counts().unstack()\\\n",
    ".apply(lambda x:x*100/x.sum(),axis=1).plot(kind='bar',stacked=True,figsize=(10,5))\n",
    "for bar in plots.patches:\n",
    "    plots.annotate(format(bar.get_height(), '.2f')+'%', \n",
    "                       (bar.get_x() + bar.get_width() / 2, \n",
    "                        bar.get_height()), ha='center', va='center',\n",
    "                       size=12, xytext=(0, -10),\n",
    "                       textcoords='offset points')\n",
    "plt.xticks(rotation=0)\n",
    "plt.ylabel(\"Proportion\")\n",
    "plt.legend(loc='upper right')\n",
    "plt.title(\"Grade,Loan Status Vs Proportion\")\n",
    "plt.xlabel('Grade')\n",
    "plt.show()"
   ]
  },
  {
   "cell_type": "markdown",
   "metadata": {},
   "source": [
    "* #### Grade is having singnificant impact on Loan Approval Process. Higher the Grade are more likely to Fully Pay and lower the Grade are more likely to Charged Off (A>B>C>D>E>F>G)."
   ]
  },
  {
   "cell_type": "code",
   "execution_count": 81,
   "metadata": {
    "execution": {
     "iopub.execute_input": "2021-07-21T13:53:09.085847Z",
     "iopub.status.busy": "2021-07-21T13:53:09.085525Z",
     "iopub.status.idle": "2021-07-21T13:53:09.093405Z",
     "shell.execute_reply": "2021-07-21T13:53:09.091917Z",
     "shell.execute_reply.started": "2021-07-21T13:53:09.085816Z"
    }
   },
   "outputs": [
    {
     "data": {
      "text/plain": [
       "Index(['loan_amnt', 'term', 'int_rate', 'grade', 'sub_grade', 'emp_length',\n",
       "       'home_ownership', 'annual_inc', 'verification_status', 'issue_d',\n",
       "       'loan_status', 'pymnt_plan', 'url', 'purpose', 'title', 'dti'],\n",
       "      dtype='object')"
      ]
     },
     "execution_count": 81,
     "metadata": {},
     "output_type": "execute_result"
    }
   ],
   "source": [
    "loan.columns"
   ]
  },
  {
   "cell_type": "markdown",
   "metadata": {},
   "source": [
    "> #### As all the applicant are using same leanding club url for the loan hence the feature 'url' don't have any impact on Loan approval process."
   ]
  },
  {
   "cell_type": "code",
   "execution_count": 82,
   "metadata": {
    "execution": {
     "iopub.execute_input": "2021-07-21T13:53:09.094974Z",
     "iopub.status.busy": "2021-07-21T13:53:09.094686Z",
     "iopub.status.idle": "2021-07-21T13:53:09.111337Z",
     "shell.execute_reply": "2021-07-21T13:53:09.110091Z",
     "shell.execute_reply.started": "2021-07-21T13:53:09.094947Z"
    }
   },
   "outputs": [],
   "source": [
    "loan=loan.drop(['url'],axis=1)"
   ]
  },
  {
   "cell_type": "code",
   "execution_count": 83,
   "metadata": {
    "execution": {
     "iopub.execute_input": "2021-07-21T13:53:09.112999Z",
     "iopub.status.busy": "2021-07-21T13:53:09.112687Z",
     "iopub.status.idle": "2021-07-21T13:53:09.124781Z",
     "shell.execute_reply": "2021-07-21T13:53:09.123398Z",
     "shell.execute_reply.started": "2021-07-21T13:53:09.112965Z"
    }
   },
   "outputs": [
    {
     "data": {
      "text/plain": [
       "0    B2\n",
       "1    C4\n",
       "2    C5\n",
       "3    C1\n",
       "5    A4\n",
       "Name: sub_grade, dtype: object"
      ]
     },
     "execution_count": 83,
     "metadata": {},
     "output_type": "execute_result"
    }
   ],
   "source": [
    "#  Understanding sub_grade Feature\n",
    "loan['sub_grade'].head()"
   ]
  },
  {
   "cell_type": "code",
   "execution_count": 84,
   "metadata": {
    "execution": {
     "iopub.execute_input": "2021-07-21T13:53:09.126985Z",
     "iopub.status.busy": "2021-07-21T13:53:09.126415Z",
     "iopub.status.idle": "2021-07-21T13:53:09.154968Z",
     "shell.execute_reply": "2021-07-21T13:53:09.153825Z",
     "shell.execute_reply.started": "2021-07-21T13:53:09.126892Z"
    }
   },
   "outputs": [
    {
     "data": {
      "text/plain": [
       "sub_grade  loan_status\n",
       "A1         Fully Paid     97.366111\n",
       "A2         Fully Paid     95.092838\n",
       "A3         Fully Paid     94.309392\n",
       "A4         Fully Paid     93.804386\n",
       "A5         Fully Paid     92.007366\n",
       "                            ...    \n",
       "           Charged Off     7.992634\n",
       "A4         Charged Off     6.195614\n",
       "A3         Charged Off     5.690608\n",
       "A2         Charged Off     4.907162\n",
       "A1         Charged Off     2.633889\n",
       "Name: loan_status, Length: 70, dtype: float64"
      ]
     },
     "execution_count": 84,
     "metadata": {},
     "output_type": "execute_result"
    }
   ],
   "source": [
    "100*(loan.groupby(['sub_grade'])['loan_status'].value_counts(normalize=True)).sort_values(ascending=False)"
   ]
  },
  {
   "cell_type": "markdown",
   "metadata": {},
   "source": [
    "> #### sub_grade column is having similar behaviour compared to Grade Feature. so we can drop the sub_grade column to reduce the redundancy."
   ]
  },
  {
   "cell_type": "code",
   "execution_count": 85,
   "metadata": {
    "execution": {
     "iopub.execute_input": "2021-07-21T13:53:09.156775Z",
     "iopub.status.busy": "2021-07-21T13:53:09.156362Z",
     "iopub.status.idle": "2021-07-21T13:53:09.172866Z",
     "shell.execute_reply": "2021-07-21T13:53:09.171444Z",
     "shell.execute_reply.started": "2021-07-21T13:53:09.156741Z"
    }
   },
   "outputs": [
    {
     "data": {
      "text/plain": [
       "(38577, 14)"
      ]
     },
     "execution_count": 85,
     "metadata": {},
     "output_type": "execute_result"
    }
   ],
   "source": [
    "loan=loan.drop('sub_grade',axis=1)\n",
    "loan.shape"
   ]
  },
  {
   "cell_type": "code",
   "execution_count": 86,
   "metadata": {
    "execution": {
     "iopub.execute_input": "2021-07-21T13:53:09.174554Z",
     "iopub.status.busy": "2021-07-21T13:53:09.174229Z",
     "iopub.status.idle": "2021-07-21T13:53:09.188266Z",
     "shell.execute_reply": "2021-07-21T13:53:09.187174Z",
     "shell.execute_reply.started": "2021-07-21T13:53:09.174524Z"
    }
   },
   "outputs": [
    {
     "data": {
      "text/plain": [
       "RENT        18480\n",
       "MORTGAGE    17021\n",
       "OWN          2975\n",
       "OTHER          98\n",
       "NONE            3\n",
       "Name: home_ownership, dtype: int64"
      ]
     },
     "execution_count": 86,
     "metadata": {},
     "output_type": "execute_result"
    }
   ],
   "source": [
    "# Understanding the Feature 'home_ownership' \n",
    "loan['home_ownership'].value_counts()"
   ]
  },
  {
   "cell_type": "code",
   "execution_count": 87,
   "metadata": {
    "execution": {
     "iopub.execute_input": "2021-07-21T13:53:09.189816Z",
     "iopub.status.busy": "2021-07-21T13:53:09.189521Z",
     "iopub.status.idle": "2021-07-21T13:53:09.209052Z",
     "shell.execute_reply": "2021-07-21T13:53:09.207840Z",
     "shell.execute_reply.started": "2021-07-21T13:53:09.189786Z"
    }
   },
   "outputs": [
    {
     "data": {
      "text/plain": [
       "home_ownership  loan_status\n",
       "MORTGAGE        Fully Paid     14694\n",
       "                Charged Off     2327\n",
       "NONE            Fully Paid         3\n",
       "OTHER           Fully Paid        80\n",
       "                Charged Off       18\n",
       "OWN             Fully Paid      2532\n",
       "                Charged Off      443\n",
       "RENT            Fully Paid     15641\n",
       "                Charged Off     2839\n",
       "Name: loan_status, dtype: int64"
      ]
     },
     "execution_count": 87,
     "metadata": {},
     "output_type": "execute_result"
    }
   ],
   "source": [
    "loan.groupby(['home_ownership'])['loan_status'].value_counts()"
   ]
  },
  {
   "cell_type": "code",
   "execution_count": 88,
   "metadata": {
    "execution": {
     "iopub.execute_input": "2021-07-21T13:53:09.211040Z",
     "iopub.status.busy": "2021-07-21T13:53:09.210604Z",
     "iopub.status.idle": "2021-07-21T13:53:09.232058Z",
     "shell.execute_reply": "2021-07-21T13:53:09.231050Z",
     "shell.execute_reply.started": "2021-07-21T13:53:09.211001Z"
    }
   },
   "outputs": [
    {
     "data": {
      "text/plain": [
       "home_ownership  loan_status\n",
       "MORTGAGE        Fully Paid      86.328653\n",
       "                Charged Off     13.671347\n",
       "NONE            Fully Paid     100.000000\n",
       "OTHER           Fully Paid      81.632653\n",
       "                Charged Off     18.367347\n",
       "OWN             Fully Paid      85.109244\n",
       "                Charged Off     14.890756\n",
       "RENT            Fully Paid      84.637446\n",
       "                Charged Off     15.362554\n",
       "Name: loan_status, dtype: float64"
      ]
     },
     "execution_count": 88,
     "metadata": {},
     "output_type": "execute_result"
    }
   ],
   "source": [
    "(loan.groupby(['home_ownership'])['loan_status'].value_counts(normalize=True))*100"
   ]
  },
  {
   "cell_type": "code",
   "execution_count": 89,
   "metadata": {
    "execution": {
     "iopub.execute_input": "2021-07-21T13:53:09.233631Z",
     "iopub.status.busy": "2021-07-21T13:53:09.233352Z",
     "iopub.status.idle": "2021-07-21T13:53:09.472519Z",
     "shell.execute_reply": "2021-07-21T13:53:09.471141Z",
     "shell.execute_reply.started": "2021-07-21T13:53:09.233605Z"
    }
   },
   "outputs": [
    {
     "data": {
      "image/png": "[encoded data removed]",
      "text/plain": [
       "<Figure size 1152x432 with 1 Axes>"
      ]
     },
     "metadata": {
      "needs_background": "light"
     },
     "output_type": "display_data"
    }
   ],
   "source": [
    "plt.figure(figsize=(16,6))\n",
    "sns.countplot(x ='home_ownership', data = loan, hue='loan_status')\n",
    "plt.show()"
   ]
  },
  {
   "cell_type": "code",
   "execution_count": 112,
   "metadata": {
    "execution": {
     "iopub.execute_input": "2021-07-21T13:57:25.175834Z",
     "iopub.status.busy": "2021-07-21T13:57:25.175430Z",
     "iopub.status.idle": "2021-07-21T13:57:25.431322Z",
     "shell.execute_reply": "2021-07-21T13:57:25.430291Z",
     "shell.execute_reply.started": "2021-07-21T13:57:25.175798Z"
    }
   },
   "outputs": [
    {
     "data": {
      "image/png": "[encoded data removed]",
      "text/plain": [
       "<Figure size 432x288 with 1 Axes>"
      ]
     },
     "metadata": {},
     "output_type": "display_data"
    }
   ],
   "source": [
    "loan1= loan[loan['home_ownership']!='NONE']\n",
    "loan1['home_ownership'].value_counts().plot.pie(autopct='%1.1f%%')\n",
    "plt.show()"
   ]
  },
  {
   "cell_type": "markdown",
   "metadata": {},
   "source": [
    "* #### The feature Home Ownership reflect an interesting insights, that most of the borrower who stays in Rent or Mortgage are the loan applicants and out of these two who stays in Rent is having higher percentage of Fully Paid.\n"
   ]
  },
  {
   "cell_type": "code",
   "execution_count": 93,
   "metadata": {
    "execution": {
     "iopub.execute_input": "2021-07-21T13:53:10.076895Z",
     "iopub.status.busy": "2021-07-21T13:53:10.076430Z",
     "iopub.status.idle": "2021-07-21T13:53:10.084403Z",
     "shell.execute_reply": "2021-07-21T13:53:10.083273Z",
     "shell.execute_reply.started": "2021-07-21T13:53:10.076813Z"
    }
   },
   "outputs": [],
   "source": [
    "# As the Incomes are very high,reducing the scale in order to have clear visibility. \n",
    "loan['annual_inc']=loan['annual_inc']/1000"
   ]
  },
  {
   "cell_type": "code",
   "execution_count": 94,
   "metadata": {
    "execution": {
     "iopub.execute_input": "2021-07-21T13:53:10.086308Z",
     "iopub.status.busy": "2021-07-21T13:53:10.085986Z",
     "iopub.status.idle": "2021-07-21T13:53:10.199767Z",
     "shell.execute_reply": "2021-07-21T13:53:10.198811Z",
     "shell.execute_reply.started": "2021-07-21T13:53:10.086276Z"
    }
   },
   "outputs": [
    {
     "data": {
      "image/png": "[encoded data removed]",
      "text/plain": [
       "<Figure size 432x288 with 1 Axes>"
      ]
     },
     "metadata": {
      "needs_background": "light"
     },
     "output_type": "display_data"
    }
   ],
   "source": [
    "sns.boxplot(loan['annual_inc'])\n",
    "plt.show()"
   ]
  },
  {
   "cell_type": "code",
   "execution_count": 95,
   "metadata": {
    "execution": {
     "iopub.execute_input": "2021-07-21T13:53:10.201679Z",
     "iopub.status.busy": "2021-07-21T13:53:10.201217Z",
     "iopub.status.idle": "2021-07-21T13:53:10.215041Z",
     "shell.execute_reply": "2021-07-21T13:53:10.213780Z",
     "shell.execute_reply.started": "2021-07-21T13:53:10.201632Z"
    }
   },
   "outputs": [
    {
     "data": {
      "text/plain": [
       "count    38577.000000\n",
       "mean        68.777974\n",
       "std         64.218682\n",
       "min          4.000000\n",
       "25%         40.000000\n",
       "50%         58.868000\n",
       "75%         82.000000\n",
       "max       6000.000000\n",
       "Name: annual_inc, dtype: float64"
      ]
     },
     "execution_count": 95,
     "metadata": {},
     "output_type": "execute_result"
    }
   ],
   "source": [
    "loan['annual_inc'].describe()"
   ]
  },
  {
   "cell_type": "code",
   "execution_count": 96,
   "metadata": {
    "execution": {
     "iopub.execute_input": "2021-07-21T13:53:10.216409Z",
     "iopub.status.busy": "2021-07-21T13:53:10.216102Z",
     "iopub.status.idle": "2021-07-21T13:53:10.345055Z",
     "shell.execute_reply": "2021-07-21T13:53:10.344055Z",
     "shell.execute_reply.started": "2021-07-21T13:53:10.216380Z"
    }
   },
   "outputs": [
    {
     "data": {
      "image/png": "[encoded data removed]",
      "text/plain": [
       "<Figure size 432x288 with 1 Axes>"
      ]
     },
     "metadata": {
      "needs_background": "light"
     },
     "output_type": "display_data"
    }
   ],
   "source": [
    "# As we found the presence of outliers, so we are considering median plot.\n",
    "loan.groupby(['loan_status'])['annual_inc'].median().plot.bar()\n",
    "plt.axhline(y=59)\n",
    "plt.title('''Annual Income( annual_inc)''', fontsize=15)\n",
    "plt.show()"
   ]
  },
  {
   "cell_type": "markdown",
   "metadata": {},
   "source": [
    "* #### From the Above analysis, it is clear than Borrowers having Annual Income less than 59K USD are Most likely to Default."
   ]
  },
  {
   "cell_type": "code",
   "execution_count": 97,
   "metadata": {
    "execution": {
     "iopub.execute_input": "2021-07-21T13:53:10.347836Z",
     "iopub.status.busy": "2021-07-21T13:53:10.346928Z",
     "iopub.status.idle": "2021-07-21T13:53:10.357781Z",
     "shell.execute_reply": "2021-07-21T13:53:10.356882Z",
     "shell.execute_reply.started": "2021-07-21T13:53:10.347736Z"
    }
   },
   "outputs": [
    {
     "data": {
      "text/plain": [
       "25917       Not Verified\n",
       "19763           Verified\n",
       "27516           Verified\n",
       "23194    Source Verified\n",
       "30165    Source Verified\n",
       "Name: verification_status, dtype: object"
      ]
     },
     "execution_count": 97,
     "metadata": {},
     "output_type": "execute_result"
    }
   ],
   "source": [
    "# understanding the Feature 'verification_status'\n",
    "# 'verification_status': Indicates if income was verified by LC, not verified, or if the income source was verified\n",
    "loan['verification_status'].sample(5)"
   ]
  },
  {
   "cell_type": "code",
   "execution_count": 98,
   "metadata": {
    "execution": {
     "iopub.execute_input": "2021-07-21T13:53:10.359935Z",
     "iopub.status.busy": "2021-07-21T13:53:10.359277Z",
     "iopub.status.idle": "2021-07-21T13:53:10.382034Z",
     "shell.execute_reply": "2021-07-21T13:53:10.381083Z",
     "shell.execute_reply.started": "2021-07-21T13:53:10.359886Z"
    }
   },
   "outputs": [
    {
     "data": {
      "text/plain": [
       "verification_status  loan_status\n",
       "Not Verified         Fully Paid     87.169043\n",
       "                     Charged Off    12.830957\n",
       "Source Verified      Fully Paid     85.181358\n",
       "                     Charged Off    14.818642\n",
       "Verified             Fully Paid     83.196788\n",
       "                     Charged Off    16.803212\n",
       "Name: loan_status, dtype: float64"
      ]
     },
     "execution_count": 98,
     "metadata": {},
     "output_type": "execute_result"
    }
   ],
   "source": [
    "(loan.groupby(['verification_status'])['loan_status'].value_counts(normalize=True))*100"
   ]
  },
  {
   "cell_type": "code",
   "execution_count": 113,
   "metadata": {
    "execution": {
     "iopub.execute_input": "2021-07-21T14:00:21.726364Z",
     "iopub.status.busy": "2021-07-21T14:00:21.725985Z",
     "iopub.status.idle": "2021-07-21T14:00:21.912222Z",
     "shell.execute_reply": "2021-07-21T14:00:21.911146Z",
     "shell.execute_reply.started": "2021-07-21T14:00:21.726331Z"
    }
   },
   "outputs": [
    {
     "data": {
      "image/png": "[encoded data removed]",
      "text/plain": [
       "<Figure size 720x360 with 1 Axes>"
      ]
     },
     "metadata": {
      "needs_background": "light"
     },
     "output_type": "display_data"
    }
   ],
   "source": [
    "plots=loan.groupby('verification_status')['loan_status'].value_counts().unstack()\\\n",
    ".apply(lambda x:x*100/x.sum(),axis=1).plot(kind='bar',stacked=True,figsize=(10,5))\n",
    "for bar in plots.patches:\n",
    "    plots.annotate(format(bar.get_height(), '.2f')+'%', \n",
    "                       (bar.get_x() + bar.get_width() / 2, \n",
    "                        bar.get_height()), ha='center', va='center',\n",
    "                       size=12, xytext=(0, -10),\n",
    "                       textcoords='offset points')\n",
    "plt.xticks(rotation=0)\n",
    "plt.ylabel(\"Proportion\")\n",
    "plt.legend(loc='upper right')\n",
    "plt.title(\"Grade,Loan Status Vs Proportion\")\n",
    "plt.xlabel('verification_status')\n",
    "plt.show()"
   ]
  },
  {
   "cell_type": "markdown",
   "metadata": {},
   "source": [
    "* #### It is really surprising to see that Borrowers who's Income Source are not Verified are most likely to Fully Pay where as the Borrowers having a verfied income are most like Charged Off."
   ]
  },
  {
   "cell_type": "code",
   "execution_count": 100,
   "metadata": {
    "execution": {
     "iopub.execute_input": "2021-07-21T13:53:10.587131Z",
     "iopub.status.busy": "2021-07-21T13:53:10.586710Z",
     "iopub.status.idle": "2021-07-21T13:53:10.598566Z",
     "shell.execute_reply": "2021-07-21T13:53:10.597593Z",
     "shell.execute_reply.started": "2021-07-21T13:53:10.587099Z"
    }
   },
   "outputs": [
    {
     "data": {
      "text/plain": [
       "count    38577.000000\n",
       "mean        13.272727\n",
       "std          6.673044\n",
       "min          0.000000\n",
       "25%          8.130000\n",
       "50%         13.370000\n",
       "75%         18.560000\n",
       "max         29.990000\n",
       "Name: dti, dtype: float64"
      ]
     },
     "execution_count": 100,
     "metadata": {},
     "output_type": "execute_result"
    }
   ],
   "source": [
    "# Understanding Feature 'dti'\n",
    "# 'dti': A ratio calculated using the borrower’s total monthly debt payments on the total debt obligations,\n",
    "# excluding mortgage and the requested LC loan, divided by the borrower’s self-reported monthly income.\n",
    "loan['dti'].describe()"
   ]
  },
  {
   "cell_type": "code",
   "execution_count": 101,
   "metadata": {
    "execution": {
     "iopub.execute_input": "2021-07-21T13:53:10.600115Z",
     "iopub.status.busy": "2021-07-21T13:53:10.599625Z",
     "iopub.status.idle": "2021-07-21T13:53:10.702453Z",
     "shell.execute_reply": "2021-07-21T13:53:10.701709Z",
     "shell.execute_reply.started": "2021-07-21T13:53:10.600082Z"
    }
   },
   "outputs": [
    {
     "data": {
      "image/png": "[encoded data removed]",
      "text/plain": [
       "<Figure size 432x288 with 1 Axes>"
      ]
     },
     "metadata": {
      "needs_background": "light"
     },
     "output_type": "display_data"
    }
   ],
   "source": [
    "sns.boxplot(loan['dti'])\n",
    "plt.show()"
   ]
  },
  {
   "cell_type": "code",
   "execution_count": 102,
   "metadata": {
    "execution": {
     "iopub.execute_input": "2021-07-21T13:53:10.703782Z",
     "iopub.status.busy": "2021-07-21T13:53:10.703405Z",
     "iopub.status.idle": "2021-07-21T13:53:10.835489Z",
     "shell.execute_reply": "2021-07-21T13:53:10.834068Z",
     "shell.execute_reply.started": "2021-07-21T13:53:10.703754Z"
    }
   },
   "outputs": [
    {
     "data": {
      "image/png": "[encoded data removed]",
      "text/plain": [
       "<Figure size 432x288 with 1 Axes>"
      ]
     },
     "metadata": {
      "needs_background": "light"
     },
     "output_type": "display_data"
    }
   ],
   "source": [
    "# As there are no oulier in the DTI Feature so we can consider a mean plot.\n",
    "loan.groupby(['loan_status'])['dti'].mean().plot.bar()\n",
    "plt.axhline(y=13.27)\n",
    "plt.title('''Debt to Income Ratio( DTI)''', fontsize=15)\n",
    "plt.show()"
   ]
  },
  {
   "cell_type": "markdown",
   "metadata": {},
   "source": [
    "* #### If the DTI Ratio is more than 13.27 then Borrowers are most likely to Default."
   ]
  },
  {
   "cell_type": "code",
   "execution_count": 103,
   "metadata": {
    "execution": {
     "iopub.execute_input": "2021-07-21T13:53:10.837787Z",
     "iopub.status.busy": "2021-07-21T13:53:10.837123Z",
     "iopub.status.idle": "2021-07-21T13:53:10.850174Z",
     "shell.execute_reply": "2021-07-21T13:53:10.849081Z",
     "shell.execute_reply.started": "2021-07-21T13:53:10.837741Z"
    }
   },
   "outputs": [
    {
     "data": {
      "text/plain": [
       "28266    Jul-10\n",
       "30579    Apr-10\n",
       "19766    Feb-11\n",
       "25436    Sep-10\n",
       "20019    Feb-11\n",
       "Name: issue_d, dtype: object"
      ]
     },
     "execution_count": 103,
     "metadata": {},
     "output_type": "execute_result"
    }
   ],
   "source": [
    "# Understanding the feature 'issue_d'\n",
    "# 'issue_d':The month which the loan was funded\n",
    "loan['issue_d'].sample(5)"
   ]
  },
  {
   "cell_type": "code",
   "execution_count": 104,
   "metadata": {
    "execution": {
     "iopub.execute_input": "2021-07-21T13:53:10.852693Z",
     "iopub.status.busy": "2021-07-21T13:53:10.851933Z",
     "iopub.status.idle": "2021-07-21T13:53:10.934938Z",
     "shell.execute_reply": "2021-07-21T13:53:10.934000Z",
     "shell.execute_reply.started": "2021-07-21T13:53:10.852638Z"
    }
   },
   "outputs": [],
   "source": [
    "loan[['Issue_Month','Issue_Year']]=loan['issue_d'].str.split('-',expand=True)"
   ]
  },
  {
   "cell_type": "code",
   "execution_count": 105,
   "metadata": {
    "execution": {
     "iopub.execute_input": "2021-07-21T13:53:10.936897Z",
     "iopub.status.busy": "2021-07-21T13:53:10.936342Z",
     "iopub.status.idle": "2021-07-21T13:53:10.950554Z",
     "shell.execute_reply": "2021-07-21T13:53:10.949559Z",
     "shell.execute_reply.started": "2021-07-21T13:53:10.936863Z"
    }
   },
   "outputs": [
    {
     "data": {
      "text/plain": [
       "11    53.181948\n",
       "10    29.893460\n",
       "09    12.224901\n",
       "08     4.049045\n",
       "07     0.650647\n",
       "Name: Issue_Year, dtype: float64"
      ]
     },
     "execution_count": 105,
     "metadata": {},
     "output_type": "execute_result"
    }
   ],
   "source": [
    "loan['Issue_Year'].value_counts(normalize=True)*100"
   ]
  },
  {
   "cell_type": "code",
   "execution_count": 106,
   "metadata": {
    "execution": {
     "iopub.execute_input": "2021-07-21T13:53:10.952140Z",
     "iopub.status.busy": "2021-07-21T13:53:10.951870Z",
     "iopub.status.idle": "2021-07-21T13:53:11.084564Z",
     "shell.execute_reply": "2021-07-21T13:53:11.083572Z",
     "shell.execute_reply.started": "2021-07-21T13:53:10.952114Z"
    }
   },
   "outputs": [
    {
     "data": {
      "image/png": "[encoded data removed]",
      "text/plain": [
       "<Figure size 432x288 with 1 Axes>"
      ]
     },
     "metadata": {
      "needs_background": "light"
     },
     "output_type": "display_data"
    }
   ],
   "source": [
    "loan_year=loan['Issue_Year'].value_counts(normalize=True)*100\n",
    "loan_year.plot.bar()\n",
    "plt.xlabel('Loan Issue Year')\n",
    "plt.ylabel('Percentage of Loan Application')\n",
    "plt.show()\n"
   ]
  },
  {
   "cell_type": "code",
   "execution_count": 107,
   "metadata": {
    "execution": {
     "iopub.execute_input": "2021-07-21T13:53:11.086354Z",
     "iopub.status.busy": "2021-07-21T13:53:11.086024Z",
     "iopub.status.idle": "2021-07-21T13:53:11.105534Z",
     "shell.execute_reply": "2021-07-21T13:53:11.104572Z",
     "shell.execute_reply.started": "2021-07-21T13:53:11.086291Z"
    }
   },
   "outputs": [
    {
     "data": {
      "text/plain": [
       "loan_status  Issue_Year\n",
       "Charged Off  11             3256\n",
       "             10             1485\n",
       "             09              594\n",
       "             08              247\n",
       "             07               45\n",
       "Fully Paid   11            17260\n",
       "             10            10047\n",
       "             09             4122\n",
       "             08             1315\n",
       "             07              206\n",
       "Name: Issue_Year, dtype: int64"
      ]
     },
     "execution_count": 107,
     "metadata": {},
     "output_type": "execute_result"
    }
   ],
   "source": [
    "loan.groupby(['loan_status'])['Issue_Year'].value_counts()"
   ]
  },
  {
   "cell_type": "code",
   "execution_count": 108,
   "metadata": {
    "execution": {
     "iopub.execute_input": "2021-07-21T13:53:11.107024Z",
     "iopub.status.busy": "2021-07-21T13:53:11.106738Z",
     "iopub.status.idle": "2021-07-21T13:53:11.125699Z",
     "shell.execute_reply": "2021-07-21T13:53:11.124552Z",
     "shell.execute_reply.started": "2021-07-21T13:53:11.106997Z"
    }
   },
   "outputs": [
    {
     "data": {
      "text/plain": [
       "loan_status  Issue_Month\n",
       "Charged Off  Dec             678\n",
       "             Nov             598\n",
       "             Oct             580\n",
       "             Sep             547\n",
       "             Jun             483\n",
       "             Jul             479\n",
       "             Aug             468\n",
       "             May             466\n",
       "             Apr             370\n",
       "             Mar             347\n",
       "             Jan             321\n",
       "             Feb             290\n",
       "Fully Paid   Dec            3537\n",
       "             Nov            3408\n",
       "             Oct            3181\n",
       "             Sep            2951\n",
       "             Aug            2920\n",
       "             Jul            2872\n",
       "             Jun            2697\n",
       "             Apr            2461\n",
       "             May            2453\n",
       "             Mar            2344\n",
       "             Feb            2068\n",
       "             Jan            2058\n",
       "Name: Issue_Month, dtype: int64"
      ]
     },
     "execution_count": 108,
     "metadata": {},
     "output_type": "execute_result"
    }
   ],
   "source": [
    "loan.groupby(['loan_status'])['Issue_Month'].value_counts()"
   ]
  },
  {
   "cell_type": "code",
   "execution_count": 109,
   "metadata": {
    "execution": {
     "iopub.execute_input": "2021-07-21T13:53:11.127428Z",
     "iopub.status.busy": "2021-07-21T13:53:11.126977Z",
     "iopub.status.idle": "2021-07-21T13:53:11.411107Z",
     "shell.execute_reply": "2021-07-21T13:53:11.410349Z",
     "shell.execute_reply.started": "2021-07-21T13:53:11.127385Z"
    }
   },
   "outputs": [
    {
     "data": {
      "image/png": "[encoded data removed]",
      "text/plain": [
       "<Figure size 864x432 with 1 Axes>"
      ]
     },
     "metadata": {
      "needs_background": "light"
     },
     "output_type": "display_data"
    }
   ],
   "source": [
    "plt.figure(figsize=(12,6))\n",
    "sns.countplot(data=loan,x='Issue_Month',hue='loan_status')\n",
    "plt.show()"
   ]
  },
  {
   "cell_type": "markdown",
   "metadata": {},
   "source": [
    "* #### Most of the Applicant has been issued the Loan in the December Month."
   ]
  },
  {
   "cell_type": "code",
   "execution_count": 110,
   "metadata": {
    "execution": {
     "iopub.execute_input": "2021-07-21T13:53:11.412667Z",
     "iopub.status.busy": "2021-07-21T13:53:11.412206Z",
     "iopub.status.idle": "2021-07-21T13:53:11.471074Z",
     "shell.execute_reply": "2021-07-21T13:53:11.470389Z",
     "shell.execute_reply.started": "2021-07-21T13:53:11.412621Z"
    }
   },
   "outputs": [
    {
     "data": {
      "text/html": [
       "<div>\n",
       "<style scoped>\n",
       "    .dataframe tbody tr th:only-of-type {\n",
       "        vertical-align: middle;\n",
       "    }\n",
       "\n",
       "    .dataframe tbody tr th {\n",
       "        vertical-align: top;\n",
       "    }\n",
       "\n",
       "    .dataframe thead th {\n",
       "        text-align: right;\n",
       "    }\n",
       "</style>\n",
       "<table border=\"1\" class=\"dataframe\">\n",
       "  <thead>\n",
       "    <tr style=\"text-align: right;\">\n",
       "      <th></th>\n",
       "      <th>loan_amnt</th>\n",
       "      <th>term</th>\n",
       "      <th>int_rate</th>\n",
       "      <th>grade</th>\n",
       "      <th>emp_length</th>\n",
       "      <th>home_ownership</th>\n",
       "      <th>annual_inc</th>\n",
       "      <th>verification_status</th>\n",
       "      <th>issue_d</th>\n",
       "      <th>loan_status</th>\n",
       "      <th>pymnt_plan</th>\n",
       "      <th>purpose</th>\n",
       "      <th>title</th>\n",
       "      <th>dti</th>\n",
       "      <th>Issue_Month</th>\n",
       "      <th>Issue_Year</th>\n",
       "      <th>loan_status_Numerical</th>\n",
       "    </tr>\n",
       "  </thead>\n",
       "  <tbody>\n",
       "    <tr>\n",
       "      <th>7836</th>\n",
       "      <td>10000</td>\n",
       "      <td>36 months</td>\n",
       "      <td>5.42</td>\n",
       "      <td>A</td>\n",
       "      <td>8 years</td>\n",
       "      <td>MORTGAGE</td>\n",
       "      <td>55.0</td>\n",
       "      <td>Source Verified</td>\n",
       "      <td>Sep-11</td>\n",
       "      <td>Fully Paid</td>\n",
       "      <td>n</td>\n",
       "      <td>debt_consolidation</td>\n",
       "      <td>Debt Consolidation</td>\n",
       "      <td>9.53</td>\n",
       "      <td>Sep</td>\n",
       "      <td>11</td>\n",
       "      <td>0</td>\n",
       "    </tr>\n",
       "    <tr>\n",
       "      <th>15141</th>\n",
       "      <td>26500</td>\n",
       "      <td>60 months</td>\n",
       "      <td>15.99</td>\n",
       "      <td>D</td>\n",
       "      <td>10+ years</td>\n",
       "      <td>MORTGAGE</td>\n",
       "      <td>78.0</td>\n",
       "      <td>Verified</td>\n",
       "      <td>May-11</td>\n",
       "      <td>Charged Off</td>\n",
       "      <td>n</td>\n",
       "      <td>debt_consolidation</td>\n",
       "      <td>Credit card consolidation</td>\n",
       "      <td>27.45</td>\n",
       "      <td>May</td>\n",
       "      <td>11</td>\n",
       "      <td>1</td>\n",
       "    </tr>\n",
       "    <tr>\n",
       "      <th>36640</th>\n",
       "      <td>5500</td>\n",
       "      <td>36 months</td>\n",
       "      <td>12.21</td>\n",
       "      <td>B</td>\n",
       "      <td>4 years</td>\n",
       "      <td>RENT</td>\n",
       "      <td>34.0</td>\n",
       "      <td>Not Verified</td>\n",
       "      <td>May-09</td>\n",
       "      <td>Fully Paid</td>\n",
       "      <td>n</td>\n",
       "      <td>medical</td>\n",
       "      <td>Surgery Expenses</td>\n",
       "      <td>18.00</td>\n",
       "      <td>May</td>\n",
       "      <td>09</td>\n",
       "      <td>0</td>\n",
       "    </tr>\n",
       "    <tr>\n",
       "      <th>20643</th>\n",
       "      <td>12000</td>\n",
       "      <td>36 months</td>\n",
       "      <td>6.92</td>\n",
       "      <td>A</td>\n",
       "      <td>4 years</td>\n",
       "      <td>RENT</td>\n",
       "      <td>61.0</td>\n",
       "      <td>Not Verified</td>\n",
       "      <td>Jan-11</td>\n",
       "      <td>Fully Paid</td>\n",
       "      <td>n</td>\n",
       "      <td>debt_consolidation</td>\n",
       "      <td>personal debt</td>\n",
       "      <td>11.23</td>\n",
       "      <td>Jan</td>\n",
       "      <td>11</td>\n",
       "      <td>0</td>\n",
       "    </tr>\n",
       "    <tr>\n",
       "      <th>25470</th>\n",
       "      <td>24250</td>\n",
       "      <td>60 months</td>\n",
       "      <td>16.45</td>\n",
       "      <td>E</td>\n",
       "      <td>8 years</td>\n",
       "      <td>RENT</td>\n",
       "      <td>60.0</td>\n",
       "      <td>Verified</td>\n",
       "      <td>Sep-10</td>\n",
       "      <td>Charged Off</td>\n",
       "      <td>n</td>\n",
       "      <td>small_business</td>\n",
       "      <td>Business</td>\n",
       "      <td>10.94</td>\n",
       "      <td>Sep</td>\n",
       "      <td>10</td>\n",
       "      <td>1</td>\n",
       "    </tr>\n",
       "  </tbody>\n",
       "</table>\n",
       "</div>"
      ],
      "text/plain": [
       "       loan_amnt        term  int_rate grade emp_length home_ownership  \\\n",
       "7836       10000   36 months      5.42     A    8 years       MORTGAGE   \n",
       "15141      26500   60 months     15.99     D  10+ years       MORTGAGE   \n",
       "36640       5500   36 months     12.21     B    4 years           RENT   \n",
       "20643      12000   36 months      6.92     A    4 years           RENT   \n",
       "25470      24250   60 months     16.45     E    8 years           RENT   \n",
       "\n",
       "       annual_inc verification_status issue_d  loan_status pymnt_plan  \\\n",
       "7836         55.0     Source Verified  Sep-11   Fully Paid          n   \n",
       "15141        78.0            Verified  May-11  Charged Off          n   \n",
       "36640        34.0        Not Verified  May-09   Fully Paid          n   \n",
       "20643        61.0        Not Verified  Jan-11   Fully Paid          n   \n",
       "25470        60.0            Verified  Sep-10  Charged Off          n   \n",
       "\n",
       "                  purpose                      title    dti Issue_Month  \\\n",
       "7836   debt_consolidation         Debt Consolidation   9.53         Sep   \n",
       "15141  debt_consolidation  Credit card consolidation  27.45         May   \n",
       "36640             medical           Surgery Expenses  18.00         May   \n",
       "20643  debt_consolidation              personal debt  11.23         Jan   \n",
       "25470      small_business                   Business  10.94         Sep   \n",
       "\n",
       "      Issue_Year  loan_status_Numerical  \n",
       "7836          11                      0  \n",
       "15141         11                      1  \n",
       "36640         09                      0  \n",
       "20643         11                      0  \n",
       "25470         10                      1  "
      ]
     },
     "execution_count": 110,
     "metadata": {},
     "output_type": "execute_result"
    }
   ],
   "source": [
    "loan['loan_status_Numerical']=loan['loan_status'].apply(lambda x:1 if x=='Charged Off' else 0)\n",
    "loan.sample(5)"
   ]
  },
  {
   "cell_type": "markdown",
   "metadata": {},
   "source": [
    "\n"
   ]
  },
  {
   "cell_type": "code",
   "execution_count": 111,
   "metadata": {
    "execution": {
     "iopub.execute_input": "2021-07-21T13:53:11.472611Z",
     "iopub.status.busy": "2021-07-21T13:53:11.472159Z",
     "iopub.status.idle": "2021-07-21T13:53:11.506283Z",
     "shell.execute_reply": "2021-07-21T13:53:11.505324Z",
     "shell.execute_reply.started": "2021-07-21T13:53:11.472565Z"
    }
   },
   "outputs": [
    {
     "data": {
      "text/html": [
       "<div>\n",
       "<style scoped>\n",
       "    .dataframe tbody tr th:only-of-type {\n",
       "        vertical-align: middle;\n",
       "    }\n",
       "\n",
       "    .dataframe tbody tr th {\n",
       "        vertical-align: top;\n",
       "    }\n",
       "\n",
       "    .dataframe thead th {\n",
       "        text-align: right;\n",
       "    }\n",
       "</style>\n",
       "<table border=\"1\" class=\"dataframe\">\n",
       "  <thead>\n",
       "    <tr style=\"text-align: right;\">\n",
       "      <th></th>\n",
       "      <th>loan_amnt</th>\n",
       "      <th>int_rate</th>\n",
       "      <th>annual_inc</th>\n",
       "      <th>dti</th>\n",
       "      <th>loan_status_Numerical</th>\n",
       "    </tr>\n",
       "  </thead>\n",
       "  <tbody>\n",
       "    <tr>\n",
       "      <th>count</th>\n",
       "      <td>38577.000000</td>\n",
       "      <td>38577.000000</td>\n",
       "      <td>38577.000000</td>\n",
       "      <td>38577.000000</td>\n",
       "      <td>38577.000000</td>\n",
       "    </tr>\n",
       "    <tr>\n",
       "      <th>mean</th>\n",
       "      <td>11047.025430</td>\n",
       "      <td>11.932219</td>\n",
       "      <td>68.777974</td>\n",
       "      <td>13.272727</td>\n",
       "      <td>0.145864</td>\n",
       "    </tr>\n",
       "    <tr>\n",
       "      <th>std</th>\n",
       "      <td>7348.441646</td>\n",
       "      <td>3.691327</td>\n",
       "      <td>64.218682</td>\n",
       "      <td>6.673044</td>\n",
       "      <td>0.352975</td>\n",
       "    </tr>\n",
       "    <tr>\n",
       "      <th>min</th>\n",
       "      <td>500.000000</td>\n",
       "      <td>5.420000</td>\n",
       "      <td>4.000000</td>\n",
       "      <td>0.000000</td>\n",
       "      <td>0.000000</td>\n",
       "    </tr>\n",
       "    <tr>\n",
       "      <th>25%</th>\n",
       "      <td>5300.000000</td>\n",
       "      <td>8.940000</td>\n",
       "      <td>40.000000</td>\n",
       "      <td>8.130000</td>\n",
       "      <td>0.000000</td>\n",
       "    </tr>\n",
       "    <tr>\n",
       "      <th>50%</th>\n",
       "      <td>9600.000000</td>\n",
       "      <td>11.710000</td>\n",
       "      <td>58.868000</td>\n",
       "      <td>13.370000</td>\n",
       "      <td>0.000000</td>\n",
       "    </tr>\n",
       "    <tr>\n",
       "      <th>75%</th>\n",
       "      <td>15000.000000</td>\n",
       "      <td>14.380000</td>\n",
       "      <td>82.000000</td>\n",
       "      <td>18.560000</td>\n",
       "      <td>0.000000</td>\n",
       "    </tr>\n",
       "    <tr>\n",
       "      <th>max</th>\n",
       "      <td>35000.000000</td>\n",
       "      <td>24.400000</td>\n",
       "      <td>6000.000000</td>\n",
       "      <td>29.990000</td>\n",
       "      <td>1.000000</td>\n",
       "    </tr>\n",
       "  </tbody>\n",
       "</table>\n",
       "</div>"
      ],
      "text/plain": [
       "          loan_amnt      int_rate    annual_inc           dti  \\\n",
       "count  38577.000000  38577.000000  38577.000000  38577.000000   \n",
       "mean   11047.025430     11.932219     68.777974     13.272727   \n",
       "std     7348.441646      3.691327     64.218682      6.673044   \n",
       "min      500.000000      5.420000      4.000000      0.000000   \n",
       "25%     5300.000000      8.940000     40.000000      8.130000   \n",
       "50%     9600.000000     11.710000     58.868000     13.370000   \n",
       "75%    15000.000000     14.380000     82.000000     18.560000   \n",
       "max    35000.000000     24.400000   6000.000000     29.990000   \n",
       "\n",
       "       loan_status_Numerical  \n",
       "count           38577.000000  \n",
       "mean                0.145864  \n",
       "std                 0.352975  \n",
       "min                 0.000000  \n",
       "25%                 0.000000  \n",
       "50%                 0.000000  \n",
       "75%                 0.000000  \n",
       "max                 1.000000  "
      ]
     },
     "execution_count": 111,
     "metadata": {},
     "output_type": "execute_result"
    }
   ],
   "source": [
    "loan.describe()"
   ]
  },
  {
   "cell_type": "markdown",
   "metadata": {},
   "source": [
    "* #### Around 14.6% Borrower got defaulted who's average annual income is below 59K USD for the average loan amount of around 11K USD. Hence Lending Club should check before approving such kind of Loan profile."
   ]
  },
  {
   "cell_type": "markdown",
   "metadata": {},
   "source": [
    "------------------------------------------------------------------------------------------------------------------------------------------------------------------------------------------"
   ]
  }
 ],
 "metadata": {
  "kernelspec": {
   "display_name": "Python 3",
   "language": "python",
   "name": "python3"
  },
  "language_info": {
   "codemirror_mode": {
    "name": "ipython",
    "version": 3
   },
   "file_extension": ".py",
   "mimetype": "text/x-python",
   "name": "python",
   "nbconvert_exporter": "python",
   "pygments_lexer": "ipython3",
   "version": "3.7.1"
  }
 },
 "nbformat": 4,
 "nbformat_minor": 4
}
